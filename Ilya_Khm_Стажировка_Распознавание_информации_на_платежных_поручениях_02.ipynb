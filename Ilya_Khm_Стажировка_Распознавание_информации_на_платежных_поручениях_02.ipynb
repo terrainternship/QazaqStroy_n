{
  "cells": [
    {
      "cell_type": "markdown",
      "metadata": {
        "id": "LU40Y-VtEOXn"
      },
      "source": [
        "# *Импорт библиотек*"
      ]
    },
    {
      "cell_type": "code",
      "source": [
        "%%capture\n",
        "!pip install deskew"
      ],
      "metadata": {
        "id": "7xuuixTICbzk"
      },
      "execution_count": null,
      "outputs": []
    },
    {
      "cell_type": "code",
      "execution_count": null,
      "metadata": {
        "id": "oJH2x6w8EQ2R"
      },
      "outputs": [],
      "source": [
        "from google.colab import files # Импортируем Модуль files для работы с файлами\n",
        "import matplotlib.pyplot as plt # Импортируем модуль pyplot библиотеки matplotlib для построения графиков\n",
        "%matplotlib inline\n",
        "import seaborn as sns\n",
        "\n",
        "plt.style.use('seaborn-white')\n",
        "sns.set_context('notebook', rc={'figure.figsize': (10, 8)}, font_scale=1.5)\n",
        "\n",
        "import numpy as np # Импортируем библиотеку numpy\n",
        "import pandas as pd\n",
        "\n",
        "import time\n",
        "import random\n",
        "import math\n",
        "import re\n",
        "import os # Импортируем библиотеку os для раоты с фаловой системой\n",
        "import shutil\n",
        "import json\n",
        "import cv2\n",
        "\n",
        "from copy import deepcopy\n",
        "from IPython.display import clear_output\n",
        "\n",
        "# from tensorflow.keras.applications import MobileNetV3Small\n",
        "# from tensorflow.keras.models import Model\n",
        "# from tensorflow.keras.layers import Dense, GlobalAveragePooling2D\n",
        "# from tensorflow.keras.optimizers import Adam\n",
        "from tensorflow.keras.callbacks import ModelCheckpoint\n",
        "from tensorflow import one_hot\n",
        "# from tensorflow.keras.preprocessing import image # Импортируем модуль image для работы с изображениями\n",
        "\n",
        "from sklearn.model_selection import train_test_split\n",
        "\n",
        "from deskew import determine_skew"
      ]
    },
    {
      "cell_type": "code",
      "source": [
        "from PIL import Image, ImageFile, ImageOps # импортируем модель Image для работы с изображениями\n",
        "ImageFile.LOAD_TRUNCATED_IMAGES = True"
      ],
      "metadata": {
        "id": "Su9AtGTjXb8u"
      },
      "execution_count": null,
      "outputs": []
    },
    {
      "cell_type": "code",
      "execution_count": null,
      "metadata": {
        "id": "vpahpmBOEIaE"
      },
      "outputs": [],
      "source": [
        "from google.colab import drive # Подключаем гугл-диск\n",
        "drive.mount('/content/drive')"
      ]
    },
    {
      "cell_type": "code",
      "execution_count": null,
      "metadata": {
        "id": "veFRKBEhutK7"
      },
      "outputs": [],
      "source": [
        "# Контекстный менеджер для измерения времени операций\n",
        "# Операция обертывается менеджером с помощью оператора with\n",
        "class timex:\n",
        "    def __enter__(self):\n",
        "        # Фиксация времени старта процесса\n",
        "        self.t = time.time()\n",
        "        return self\n",
        "\n",
        "    def __exit__(self, type, value, traceback):\n",
        "        # Вывод времени работы\n",
        "        # print('Время обработки: {:.2f} с'.format(time.time() - self.t))\n",
        "        seconds_total = time.time() - self.t\n",
        "        minutes = int(seconds_total // 60)\n",
        "        seconds = (seconds_total % 60) + (seconds_total - math.floor(seconds_total))\n",
        "        print('Время обработки: {} мин {:.2f} c'.format(minutes, seconds))\n",
        "\n",
        "with timex():\n",
        "    print()"
      ]
    },
    {
      "cell_type": "code",
      "source": [
        "# Указываем путь к базе данных\n",
        "directory = '/content/drive/MyDrive/Colab/Базы/Стажировка 2023/Распознавание информации на платежных поручениях/Scans'\n",
        "directory_new = '/content/ClearedReshapedBase'"
      ],
      "metadata": {
        "id": "fhpCIaXO786A"
      },
      "execution_count": null,
      "outputs": []
    },
    {
      "cell_type": "markdown",
      "metadata": {
        "id": "oxHD9MO-sM_u"
      },
      "source": [
        "# Анализ базы\n"
      ]
    },
    {
      "cell_type": "code",
      "execution_count": null,
      "metadata": {
        "id": "CbNtynGfV27x"
      },
      "outputs": [],
      "source": [
        "# Указываем путь к базе данных\n",
        "directory = '/content/drive/MyDrive/Colab/Базы/Стажировка 2023/Распознавание информации на платежных поручениях/Scans'"
      ]
    },
    {
      "cell_type": "markdown",
      "source": [
        "### Анализ количества файлов и их типов"
      ],
      "metadata": {
        "id": "DKAs_d767x3X"
      }
    },
    {
      "cell_type": "code",
      "execution_count": null,
      "metadata": {
        "id": "QQVs97ufOZ-g"
      },
      "outputs": [],
      "source": [
        "base_len = len(os.listdir(directory))\n",
        "print(f'Всего файлов: {base_len}')\n",
        "\n",
        "# Выведем информацию о типах файлов в датасете\n",
        "extension_dict = dict()\n",
        "\n",
        "for i in os.listdir(directory):\n",
        "    ext = re.findall(r'\\.[^.]+$', i)[0].lower()\n",
        "    if ext not in extension_dict:\n",
        "        extension_dict[ext] = 1\n",
        "        continue\n",
        "\n",
        "    extension_dict[ext] += 1\n",
        "\n",
        "print('Кол-во файлов по типам расширения:')\n",
        "for key, val in extension_dict.items():\n",
        "    print(f'{key:5} - {val:5} ({val / base_len:.2%})')\n",
        "\n",
        "# Выведем информацию о размере базы данных\n",
        "size_list = [os.path.getsize(os.path.join(directory, file)) for file in os.listdir(directory)]\n",
        "print(f\"Общий размер файлов: {sum(size_list) / (1024 * 1024):.2f} MB\")\n",
        "print(f\"Средний размер файла: {sum(size_list) / (1024 * 1024) / base_len:.2f} MB\")"
      ]
    },
    {
      "cell_type": "code",
      "execution_count": null,
      "metadata": {
        "id": "-g1YM9fmxsK3"
      },
      "outputs": [],
      "source": [
        "def create_image_df(folder_path):\n",
        "\n",
        "    # Функция для проверки на обрезанность фотографии\n",
        "    def is_cropped_image(image_path):\n",
        "        # Загрузка изображения\n",
        "        image_ = cv2.imread(image_path)\n",
        "\n",
        "        # Преобразование в оттенки серого и пороговая обработка\n",
        "        gray = cv2.cvtColor(image_, cv2.COLOR_BGR2GRAY)\n",
        "        _, thresholded = cv2.threshold(gray, 128, 255, cv2.THRESH_BINARY)\n",
        "\n",
        "        # Морфологические операции для устранения шума и связанных компонент\n",
        "        kernel = cv2.getStructuringElement(cv2.MORPH_RECT, (5, 5))\n",
        "        thresholded = cv2.morphologyEx(thresholded, cv2.MORPH_CLOSE, kernel)\n",
        "\n",
        "        # Поиск контуров серой области\n",
        "        contours, _ = cv2.findContours(thresholded, cv2.RETR_EXTERNAL, cv2.CHAIN_APPROX_SIMPLE)\n",
        "\n",
        "        # Установка минимальных размеров для обрезанных областей\n",
        "        min_width = 450\n",
        "        min_height = 50\n",
        "\n",
        "        for contour in contours:\n",
        "            x, y, w, h = cv2.boundingRect(contour)\n",
        "            if w < min_width or h < min_height:\n",
        "                # Если не найдена обрезанная область, вернуть 1\n",
        "                return 1\n",
        "\n",
        "        # Если найдены только обрезанные области, вернуть 0\n",
        "        return 0\n",
        "\n",
        "    files = os.listdir(folder_path)\n",
        "\n",
        "    file_names = []\n",
        "    file_size_kb = []\n",
        "    file_size_mb = []\n",
        "    image_width = []\n",
        "    image_height = []\n",
        "    orientation = []\n",
        "    cropped = []\n",
        "    shapes = []\n",
        "    dpis = []\n",
        "\n",
        "    for file in files:\n",
        "        file_path = os.path.join(folder_path, file)\n",
        "        # try:\n",
        "        with Image.open(file_path) as img:\n",
        "            file_names.append(file)\n",
        "            file_size_kb.append(os.path.getsize(file_path) / 1024)\n",
        "            file_size_mb.append(os.path.getsize(file_path) / (1024 * 1024))\n",
        "            width, height = img.size\n",
        "            image_width.append(width)\n",
        "            image_height.append(height)\n",
        "            if width > height:  orientation.append(0)  # Горизонтальное изображение\n",
        "            else:               orientation.append(1)  # Вертикальное изображение\n",
        "\n",
        "            try:\n",
        "                if image.mode in (\"RGB\", \"RGBA\"):   shapes.append('Color')\n",
        "                elif image.mode == \"L\":             shapes.append('BW')\n",
        "                else:                               shapes.append('Unknown')\n",
        "            except:\n",
        "                shapes.append('Unknown')\n",
        "\n",
        "            dpi = image.info.get(\"dpi\", (0, 0))\n",
        "\n",
        "            if dpi:\n",
        "                dpis.append(dpi)\n",
        "            else:\n",
        "                dpis.append(0)\n",
        "\n",
        "            cropped.append(is_cropped_image(file_path))\n",
        "\n",
        "        # except Exception as e:\n",
        "        #     print(f\"Ошибка при обработке изображения {file}: {e}\")\n",
        "\n",
        "    data = {\n",
        "        'Название файла': file_names,\n",
        "        'Размер файла (KB)': file_size_kb,\n",
        "        'Размер файла (MB)': file_size_mb,\n",
        "        'Ширина изображения': image_width,\n",
        "        'Высота изображения': image_height,\n",
        "        'dpi':dpi,\n",
        "        'Ориентация': orientation,\n",
        "        'Цветность':shapes,\n",
        "        'Обрезан':cropped,\n",
        "    }\n",
        "\n",
        "    return pd.DataFrame(data)\n",
        "\n",
        "with timex():\n",
        "    df = create_image_df(directory)"
      ]
    },
    {
      "cell_type": "code",
      "execution_count": null,
      "metadata": {
        "id": "GuxZUP9y1Jul"
      },
      "outputs": [],
      "source": [
        "# Выбираем дубликаты, исключая столбец 'Название файла'\n",
        "duplicates = df[df.duplicated(subset=df.columns.difference(['Название файла']), keep=False)]\n",
        "\n",
        "duplicates"
      ]
    },
    {
      "cell_type": "markdown",
      "source": [
        "# **Преобразование базы к единому размеру**\n",
        "> Нахождение оптимального DPI \\\n",
        "> Создание новой базы, где изображения будут в оттенках серого и одного размера \\\n",
        "> Разделение данных на батчи (с учётом сортировки для удобной разметки) \\"
      ],
      "metadata": {
        "id": "k78pJm1aOF6o"
      }
    },
    {
      "cell_type": "markdown",
      "source": [
        "## **Анализ изображений в базе**"
      ],
      "metadata": {
        "id": "TxHZOyWX4L4E"
      }
    },
    {
      "cell_type": "markdown",
      "source": [
        "### Создание датафрейма с информацией о базе"
      ],
      "metadata": {
        "id": "ITsm7jNNnzQy"
      }
    },
    {
      "cell_type": "code",
      "source": [
        "def DPI2px(dpi):\n",
        "    print('DPI {:3}: {:4} px, {:4} px'.format(dpi, round(dpi * (210 / 25.4)), round(dpi * (297 / 25.4))))\n",
        "\n",
        "print('         Ширина    Высота')\n",
        "for i in [50,100,150,200,250,300,350,600]:\n",
        "    DPI2px(i)"
      ],
      "metadata": {
        "id": "nEjXuZpnW_rT"
      },
      "execution_count": null,
      "outputs": []
    },
    {
      "cell_type": "markdown",
      "source": [
        "* Смотрим, сколько изображений уменьшим по высоте, определяем, уменьшаем ли изображения нормального разрешения.\n",
        "* Убираем белый фон с права и с лева по максимуму, оставляем немного белых пикселей по ширине с двух сторон.\n",
        "* По высоте, если снизу много белых пикселей, то оставляем до нужной нам высоты А4.\n",
        "* Проверяем работу deskew на выделенной группе изображений.\n",
        "* Повернуть изображения в группе rotated, на нужный угол (instance_rotate).\n",
        "* Находим лучший метод интерполяции для увеличения и уменьшения изображений."
      ],
      "metadata": {
        "id": "CJaJxBSHn2MT"
      }
    },
    {
      "cell_type": "code",
      "source": [
        "# Создаем пустой датафрейм\n",
        "df1 = pd.DataFrame(columns=[\"File Name\", \"New File Name\", \"Ширина (px)\", \"Высота (px)\", \"DPI_X\", \"DPI_Y\", \"DPI_X_A4\", \"DPI_Y_A4\", 'aspect_ratio', 'rotate_angle'])\n",
        "\n",
        "# Продвинутый перевод изображения в массив\n",
        "def to_numpy(im):\n",
        "    im.load()\n",
        "    # unpack data\n",
        "    e = Image._getencoder(im.mode, 'raw', im.mode)\n",
        "    e.setimage(im.im)\n",
        "\n",
        "    # NumPy buffer for the result\n",
        "    shape, typestr = Image._conv_type_shape(im)\n",
        "    data = np.empty(shape, dtype=np.dtype(typestr))\n",
        "    mem = data.data.cast('B', (data.data.nbytes,))\n",
        "\n",
        "    bufsize, s, offset = 65536, 0, 0\n",
        "    while not s:\n",
        "        l, s, d = e.encode(bufsize)\n",
        "        mem[offset:offset + len(d)] = d\n",
        "        offset += len(d)\n",
        "    if s < 0:\n",
        "        raise RuntimeError(\"encoder error %d in tobytes\" % s)\n",
        "    return data\n",
        "\n",
        "# Функция для получения информации о изображении\n",
        "def get_image_info(file_path, angle=False):\n",
        "    img = Image.open(file_path)\n",
        "    width, height = img.size\n",
        "    dpi = img.info.get(\"dpi\", (0, 0))\n",
        "    aspect_ratio = width / height\n",
        "    if angle == True:\n",
        "        angle = determine_skew(cv2.cvtColor(to_numpy(img), cv2.COLOR_BGR2GRAY))\n",
        "        img.close()\n",
        "\n",
        "        return width, height, dpi[0], dpi[1], aspect_ratio, angle\n",
        "\n",
        "    img.close()\n",
        "\n",
        "    return width, height, dpi[0], dpi[1], aspect_ratio\n",
        "\n",
        "# height, width, channels = img.shape\n",
        "\n",
        "# Разрешение A4 в миллиметрах\n",
        "a4_width_mm = 210\n",
        "a4_height_mm = 297\n",
        "\n",
        "files_len = len(os.listdir(directory))\n",
        "\n",
        "# Перебираем файлы в папке\n",
        "for index, filename in enumerate(os.listdir(directory)):\n",
        "    file_path = os.path.join(directory, filename)\n",
        "    width, height, dpi_x, dpi_y, aspect_ratio = get_image_info(file_path)\n",
        "    dpi_x_a4 = width / (a4_width_mm / 25.4)  # Переводим мм в дюймы\n",
        "    dpi_y_a4 = height / (a4_height_mm / 25.4)  # Переводим мм в дюймы\n",
        "    # df1 = pd.concat([df1, pd.DataFrame({\"Имя файла\": [filename], \"Ширина (px)\": [width], \"Высота (px)\": [height], \"DPI_X\": [dpi_x], \"DPI_Y\": [dpi_y], \"DPI_X_A4\": [dpi_x_a4], \"DPI_Y_A4\": [dpi_y_a4], 'aspect_ratio': [aspect_ratio], 'rotate':indices[index]})], ignore_index=True)\n",
        "    df1 = pd.concat([df1, pd.DataFrame({\"File Name\": [filename], \"Ширина (px)\": [width], \"Высота (px)\": [height], \"DPI_X\": [dpi_x], \"DPI_Y\": [dpi_y], \"DPI_X_A4\": [dpi_x_a4], \"DPI_Y_A4\": [dpi_y_a4], 'aspect_ratio': [aspect_ratio]})], ignore_index=True) # 'rotate_angle':[rotate_angle]\n",
        "\n",
        "    if index % 200 == 0:\n",
        "        clear_output()\n",
        "        print(f'Готово {index} из {files_len}')\n",
        "\n",
        "df1['DPI_X'] = df1['DPI_X'].astype(int)\n",
        "df1['DPI_Y'] = df1['DPI_Y'].astype(int)\n",
        "df1['Ширина (px)'] = df1['Ширина (px)'].astype(int)\n",
        "df1['Высота (px)'] = df1['Высота (px)'].astype(int)"
      ],
      "metadata": {
        "id": "UFpAhKHzDxv4"
      },
      "execution_count": null,
      "outputs": []
    },
    {
      "cell_type": "markdown",
      "source": [
        "##### **Находим углы поворота (deskew)**"
      ],
      "metadata": {
        "id": "My-7dtNMU6fH"
      }
    },
    {
      "cell_type": "code",
      "source": [
        "def compute_skew1(img1): # определние не большого поворота отностильно горизонта с помощью готового решения deskew\n",
        "    grayscale_image = cv2.cvtColor(img1, cv2.COLOR_BGR2GRAY)\n",
        "    angle = determine_skew(grayscale_image)\n",
        "    print(angle)\n",
        "    # определили угол и повернем на него изображение\n",
        "    img_rot = img1.copy()\n",
        "    height, width = img_rot.shape[:2]\n",
        "    # get the center coordinates of the image to create the 2D rotation matrix\n",
        "    center = (width/2, height/2)\n",
        "    rotate_matrix = cv2.getRotationMatrix2D(center=center, angle=angle, scale=1)\n",
        "    img_rot = cv2.warpAffine(src=img_rot, M=rotate_matrix, dsize=(width, height))\n",
        "\n",
        "    return img_rot"
      ],
      "metadata": {
        "id": "UiB5dY9yGwFC"
      },
      "execution_count": null,
      "outputs": []
    },
    {
      "cell_type": "code",
      "source": [
        "def compute_skew_angle(img1): # определние не большого поворота отностильно горизонта с помощью готового решения deskew\n",
        "    grayscale_image = cv2.cvtColor(img1, cv2.COLOR_BGR2GRAY)\n",
        "    angle = determine_skew(grayscale_image)\n",
        "\n",
        "    return angle\n",
        "\n",
        "def compute_skew_angle_1(img1):\n",
        "    grayscale_image = cv2.cvtColor(img1, cv2.COLOR_BGR2GRAY)\n",
        "    angle = determine_skew(grayscale_image, **{'min_deviation': 0.01, 'num_peaks': 100, 'max_angle':7.5, 'min_angle':-7.5,})\n",
        "\n",
        "    return angle"
      ],
      "metadata": {
        "id": "8XmGXmqeBA9L"
      },
      "execution_count": null,
      "outputs": []
    },
    {
      "cell_type": "code",
      "source": [
        "angles_2 = []\n",
        "time_per_image_2 = []\n",
        "\n",
        "for i in df1.index[:5]:\n",
        "    original_image = to_numpy(Image.open(directory + '/' + df1.iloc[i]['File Name']))\n",
        "    #original_image = cv2.imread(directory + '/' + df1.iloc[i]['File Name'])\n",
        "    try:\n",
        "        t = time.time()\n",
        "        angles_2.append(compute_skew_angle(original_image))\n",
        "        time_per_image_2.append(time.time()-t)\n",
        "    except:\n",
        "        angles_2.append(0)"
      ],
      "metadata": {
        "id": "Dkqwl5KYVHoJ"
      },
      "execution_count": null,
      "outputs": []
    },
    {
      "cell_type": "code",
      "source": [
        "angles_2 = []\n",
        "time_per_image_2 = []\n",
        "\n",
        "for i in df1.index[:4413]:\n",
        "    original_image = to_numpy(Image.open(directory + '/' + df1.iloc[i]['File Name']))\n",
        "    #original_image = cv2.imread(directory + '/' + df1.iloc[i]['File Name'])\n",
        "    try:\n",
        "        t = time.time()\n",
        "        angles_2.append(compute_skew_angle(original_image))\n",
        "        time_per_image_2.append(time.time()-t)\n",
        "    except:\n",
        "        angles_2.append(0)\n",
        "\n",
        "    if i % 100 == 0:\n",
        "        clear_output()\n",
        "        print(i)\n",
        "\n",
        "# ~ 60-70 мс на открытие изображения на прогретой машине = 7 минут на все 5980 изображений\n",
        "# ~ 3000-5000 мс на нахождение угла поворота изображения = ~5-8.3 ЧАСА на 5980 изображений"
      ],
      "metadata": {
        "id": "qCSvgJqaEOvV"
      },
      "execution_count": null,
      "outputs": []
    },
    {
      "cell_type": "code",
      "source": [
        "angles_1 = []\n",
        "time_per_image = []\n",
        "\n",
        "for i in df1.index[4413:]:\n",
        "    original_image = to_numpy(Image.open(directory + '/' + df1.iloc[i]['File Name']))\n",
        "    # original_image = cv2.imread(directory + '/' + df1.iloc[i]['File Name'])\n",
        "\n",
        "    try:\n",
        "        t = time.time()\n",
        "        angles_1.append(compute_skew_angle(original_image))\n",
        "        time_per_image.append(time.time()-t)\n",
        "    except:\n",
        "        angles_1.append(0)\n",
        "\n",
        "    if i % 100 == 0:\n",
        "        clear_output()\n",
        "        print(i)"
      ],
      "metadata": {
        "id": "S6WpVN9DPzlQ"
      },
      "execution_count": null,
      "outputs": []
    },
    {
      "cell_type": "code",
      "source": [
        "angles = angles_2 + angles_1"
      ],
      "metadata": {
        "id": "N0kkHaQfSaZV"
      },
      "execution_count": null,
      "outputs": []
    },
    {
      "cell_type": "code",
      "source": [
        "time_per_image_ = time_per_image_2 + time_per_image"
      ],
      "metadata": {
        "id": "QPOazLx1ShVL"
      },
      "execution_count": null,
      "outputs": []
    },
    {
      "cell_type": "code",
      "source": [
        "df1['deskew_angle'] = angles\n",
        "df1['deskew_time_to_find_angle'] = time_per_image_"
      ],
      "metadata": {
        "id": "qc7o3nCPghtS"
      },
      "execution_count": null,
      "outputs": []
    },
    {
      "cell_type": "markdown",
      "source": [
        "##### Пробуем модель определения поворота"
      ],
      "metadata": {
        "id": "DRnTMcf7USE8"
      }
    },
    {
      "cell_type": "code",
      "source": [
        "from keras.models import load_model\n",
        "\n",
        "# Загрузка модели\n",
        "model = load_model('/content/drive/MyDrive/Colab/Базы/Стажировка 2023/Распознавание информации на платежных поручениях/BaseMobileNetV3/my_model.h5')\n",
        "\n",
        "def load_img_cv2(img_path, single=False):\n",
        "    # Загрузка изображения и изменение размера, для модели поворота изображений\n",
        "    image = cv2.imread(img_path)\n",
        "    if len(image.shape) != 3 or image.shape[2] != 3:\n",
        "        image = cv2.cvtColor(image, cv2.COLOR_GRAY2BGR)\n",
        "    image = cv2.resize(image, (224, 224))\n",
        "    image_array = np.array(image) / 255.0\n",
        "\n",
        "    if single==True:\n",
        "        image_array = np.expand_dims(image_array, axis=0)\n",
        "\n",
        "    return image_array\n",
        "\n",
        "def prepare_imgs(img_paths):\n",
        "    return np.array([load_img_cv2(img_path) for img_path in img_paths])"
      ],
      "metadata": {
        "id": "GLSMepLTXOFT"
      },
      "execution_count": null,
      "outputs": []
    },
    {
      "cell_type": "code",
      "source": [
        "# Делаем предикты\n",
        "files_dirs = [directory + '/' + i for i in os.listdir(directory)]\n",
        "index = 0\n",
        "predicts = []\n",
        "while index < len(files_dirs):\n",
        "    predicts += list(model.predict(prepare_imgs(files_dirs[index:index+100])))\n",
        "\n",
        "    if index % 100 == 0:\n",
        "        clear_output()\n",
        "        print(f'Готово {index} из {len(files_dirs)}')\n",
        "\n",
        "    index += 100\n",
        "\n",
        "indices = np.argmax(predicts, axis=1)"
      ],
      "metadata": {
        "id": "uRisQclQeLLG"
      },
      "execution_count": null,
      "outputs": []
    },
    {
      "cell_type": "markdown",
      "source": [
        "##### ***Добавление дополнительных столбцов***"
      ],
      "metadata": {
        "id": "p3tE3vP7no6n"
      }
    },
    {
      "cell_type": "code",
      "source": [
        "large_text_angle = [7,9,25,46,76,79,91,92,94,95,99,108,110,129,139,142,144,147,\n",
        "\t150,170,172,175,178,179,180,183,203,210,212,214,222,229,234,\n",
        "\t236,241,249,251,259,260,267,269,275,276,284,285,297,300,313,\n",
        "\t314,321,323,329,334,343,349,357,358,376,379,383,386,387,388,\n",
        "\t390,392,409,418,422,440,441,445,455,468,471,473,480,482,485,\n",
        "\t487,492,495,502,513,516,517,533,540,544,560,565,582,583,613,\n",
        "\t620,621,625,626,628,638,639,662,663,684,694,696,702,707,711,\n",
        "\t718,721,732,733,739,740,741,742,749,753,754,756,758,770,787,\n",
        "\t796,799,803,805,808,815,825,826,829,836,844,854,869,883,884,\n",
        "\t888,889,898,901,902,903,904,905,908,912,913,920,925,926,931,\n",
        "\t938,941,946,949,979,980,984,994,995,997,1035,1052,1053,1099,\n",
        "\t1103,1111,1120,1123,1130,1139,1168,1170,1188,1192,1210,1214,\n",
        "\t1236,1238,1239,1247,1252,1259,1260,1262,1267,1271,1288,1290,\n",
        "\t1292,1300,1302,1303,1309,1312,1328,1333,1335,1339,1347,1348,\n",
        "\t1349,1350,1352,1358,1362,1370,1378,1386,1393,1401,1404,1417,\n",
        "\t1420,1421,1422,1424,1431,1440,1448,1450,1451,1477,1478,1485,\n",
        "\t1490,1505,1523,1537,1538,1545,1548,1549,1550,1553,1569,1570,\n",
        "\t1578,1579,1585,1586,1589,1590,1598,1599,1605,1606,1607,1609,\n",
        "\t1615,1623,1622,1636,1638,1669,1679,1683,1687,1689,1693,1694,\n",
        "\t1718,1719,1732,1758,1759,1790,1791,1793,1794,1812,1825,1854,\n",
        "\t1870,1889,1890,1895,1899,1912,1919,1937,1946,1944,1950,1961,\n",
        "\t1965,1966,1979,1988,2012,2026,2029,2030,2035,2040,2055,2060,\n",
        "\t2066,2085,2089,2090,2093,2098,2101,2104,2103,2107,2133,2138,\n",
        "\t2151,2167,2173,2211,2209,2256,2309,2313,2326,2345,2350,2372,\n",
        "\t2379,2381,2391,2397,2406,2408,2429,2447,2450,2454,2468,2471,\n",
        "\t2480,2584,2590,2606,2611,2612,2614,2626,2649,2700,2703,2708,\n",
        "\t2725,2743,2744,2745,2759,2787,2809,2812,2898,2903,2904,2928,\n",
        "\t2942,2951,2952,2957,2958,2960,2976,3005,3006,3007,3015,3016,\n",
        "\t3054,3062,3064,3068,3115,3124,3131,3142,3140,3137,3234,3251,\n",
        "\t3261,3286,3299,3314,3318,3319,3329,3331,3332,3335,3344,3350,\n",
        "\t3353,3354,3357,3358,3366,3371,3372,3374,3398,3399,3404,3405,\n",
        "\t3406,3415,3416,3417,3418,3420,3426,3430,3432,3436,3437,3438,\n",
        "\t3444,3443,3449,3450,3451,3461,3479,3492,3493,3494,3497,3498,\n",
        "\t3500,3506,3507,3508,3515,3519,3533,3535,3537,3540,3545,3546,\n",
        "\t3547,3549,3550,3551,3552,3556,3556,3559,3562,3563,3570,3572,\n",
        "\t3575,3577,3578,3579,3583,3584,3588,3589,3591,3600,3608,3614,\n",
        "\t3615,3618,3620,3621,3622,3625,3626,3628,3629,3631,3632,\n",
        "\t3633,3634,3635,3635,3639,3643,3644,3648,3652,3653,3662,\n",
        "\t3671,3673,3674,3678,3679,3686,3687,3688,3689,3704,3507,\n",
        "\t3707,3708,3709,3719,3729,3737,3743,3751,3769,3772,3774,\n",
        "\t3780,3781,3782,3790,3792,3793,3796,3798,3799,3802,3806,\n",
        "\t3812,3817,3818,3819,3826,3831,3833,3866,3868,3938,3986,\n",
        "\t3987,3988,3989,3992,4026,4029,4030,4031,4033,4034,4035,\n",
        "\t4036,4052,4059,4071,4074,4078,4085,4086,4087,4107,4152,\n",
        "\t4155,4156,4212,4210,4227,4247,4248,4249,4250,4342,4345,\n",
        "\t4349,4391,4469,4491,4540,4547,4549,4566,4573,4574,4607,\n",
        "\t4635,4636,4637,4654,4667,4830,4910,5099,5116,5240,5251,\n",
        "\t5275,5317,5326,5365,5431,5483,5484,5613,5688,5689,5691,\n",
        "\t5698,5699,5700,5701,5705,5712,5715,5730,5731,5733,5734,\n",
        "\t5755,5778,5779,5801,5802,5803,5809,5813,5814,5816,5868,\n",
        "\t5899,5900,5904,5977,\n",
        "\t]\n",
        "\n",
        "rotated = [128,170,183,184,524,526,538,1207,1237,1239,2153,3019,3325,3371,\n",
        "\t3375,3698,4178,5128,5366,5424,5444,5461,5867,]\n",
        "\n",
        "defect = [12,17,20,34,35,38,67,77,87,88,97,99,119,125,137,\n",
        "\t150,153,160,180,183,192,199,225,229,252,254,291,321,403,430,438,445,466,\n",
        "\t474,509,518,521,541,546,548,569,575,584,598,599,623,635,653,656,673,674,\n",
        "\t675,699,704,707,739,754,769,789,863,875,879,884,899,910,924,925,926,939,\n",
        "\t940,963,970,972,1010,1013,1014,1054,1088,\n",
        "\t1114,1140,1155,1208,1211,1225,1258,1270,1273,1285,1291,1301,1305,1306,\n",
        "\t1309,1315,1319,1321,1326,1327,1329,1331,1330,1338,1342,1343,1347,1356,\n",
        "\t1368,1374,1386,1388,1419,1426,1431,1433,1435,1456,1460,1462,1465,1468,\n",
        "\t1475,1477,1480,1481,1486,1492,1499,1500,1506,1511,1513,1518,1533,1534,\n",
        "\t1535,1537,1542,1548,1552,1556,1558,1559,1565,1566,1571,1572,1582,1583,\n",
        "\t1588,1589,1594,1595,1596,1598,1600,1609,1610,1618,1624,1623,1628,1630,\n",
        "\t1643,1644,1647,1648,1650,1651,1652,1667,1673,1676,1678,1680,1681,1683,\n",
        "\t1684,1686,1687,1691,1706,1710,1711,1713,1714,1733,1735,1739,1750,1753,\n",
        "\t1754,1755,1760,1761,1763,1765,1767,1089,1856,1860,1863,1865,1867,1869,\n",
        "\t1877,1878,1882,1884,1885,1887,1889,1890,1895,1897,1904,1911,1913,1915,\n",
        "\t1931,1946,1949,1953,1959,2000,2003,2004,2015,2016,2024,2022,2025,2039,\n",
        "\t2038,2052,2054,2056,2057,2067,2069,2077,2079,2080,2083,2084,2085,2094,\n",
        "\t2097,2106,2108,2109,2110,2115,2123,2132,2182,2189,2200,2201,2202,2211,\n",
        "\t2214,2227,2233,2262,2279,2289,2299,2300,2304,2328,2341,2352,2353,2356,\n",
        "\t2361,2372,2391,2397,2402,2404,2405,2407,2419,2434,2439,2440,2445,2447,\n",
        "\t2455,2483,2484,2485,2489,2491,2517,2560,2567,2574,2590,2591,2597,2602,\n",
        "\t2623,2626,2650,2680,2695,2700,2710,2713,2740,2744,2751,2752,2758,2796,\n",
        "\t2824,2857,2909,2917,2925,2926,2931,2939,2981,3089,3109,3153,3171,3184,\n",
        "\t3186,3189,3196,3224,3269,3298,3314,3322,3323,3334,3342,3345,3347,3349,\n",
        "\t3351,3352,3356,3357,3366,3369,3380,3381,3382,3383,3384,3385,3388,3389,\n",
        "\t3390,3392,3394,3401,3409,3414,3432,3436,3437,3438,3443,3462,3463,3465,\n",
        "\t3470,3471,3473,3474,3476,3497,3503,3509,3510,3517,3521,3524,3527,3532,\n",
        "\t3533,3540,3541,3544,3545,3546,3549,3555,3565,3566,3567,3577,3578,3579,\n",
        "\t3581,3583,3586,3589,3592,3595,3600,3610,3611,3612,3613,3614,3615,3616,\n",
        "\t3624,3629,3626,3631,3637,3638,3651,3654,3669,3673,3682,3683,3685,3701,\n",
        "\t3702,3709,3718,3719,3720,3721,3722,3723,3724,3725,3740,3741,3753,3756,\n",
        "\t3757,3758,3764,3769,3777,3778,3779,3784,3810,3812,3813,3814,3821,3829,\n",
        "\t3836,3840,3839,3848,3857,3858,3896,3905,3927,3928,3929,3930,3932,3935,\n",
        "\t3947,3958,3960,3966,3980,3983,3984,3985,3986,3987,3989,3994,4002,4003,\n",
        "\t4004,4025,4027,4028,4029,4036,4037,4042,4046,4066,4069,4078,4080,4086,\n",
        "\t4090,4125,4149,4159,4160,4165,4176,4177,4186,4187,4198,4217,4218,4219,\n",
        "\t4222,4233,4234,4236,4244,4249,4252,4259,4260,4261,4264,4265,4267,4268,\n",
        "\t4275,4285,4286,4287,4291,4292,4293,4300,4301,4302,4304,4305,4310,4314,\n",
        "\t4316,4348,4353,4356,4358,4364,4366,4382,4384,4402,4405,4409,4410,4411,\n",
        "\t4412,4415,4418,4419,4420,4421,4425,4430,4433,4437,4451,4457,4458,4459,\n",
        "\t4476,4482,4497,4502,4511,4515,4545,4549,4555,4556,4558,4562,4564,4567,\n",
        "\t4575,4576,4580,4581,4583,4584,4586,4593,4600,4606,4608,4609,4611,4616,\n",
        "\t4623,4624,4625,4626,4629,4630,4631,4643,4650,4652,4654,4662,4667,4673,\n",
        "\t4674,4681,4689,4700,4752,4823,4885,4886,4898,5055,5090,5093,5097,5100,\n",
        "\t5105,5110,5113,5114,5115,5116,5135,5139,5141,5155,5156,5223,5236,5237,\n",
        "\t5238,5248,5251,5254,5276,5295,5299,5316,5317,5329,5332,5358,5380,5391,\n",
        "\t5399,5421,5429,5430,5452,5457,5458,5470,5471,5473,5475,5476,5480,5483,\n",
        "\t5484,5490,5499,5502,5508,5531,5578,5581,5582,5585,5606,5607,5622,5623,\n",
        "\t5624,5625,5626,5627,5630,5631,5636,5668,5672,5693,5694,5696,5700,5702,\n",
        "\t5710,5714,5731,5734,5735,5738,5752,5753,5756,5768,5771,5780,5784,5785,\n",
        "\t5787,5789,5790,5798,5799,5806,5816,5817,5823,5826,5830,5851,5880,\n",
        "\t5885,5899,5900,5906,5908,5921,5938,]\n",
        "\n",
        "cropped = [11,146,156,247,335,361,442,477,636,778,892,959,982,1000,\n",
        "\t1034,1039,1041,1047,1045,1050,1077,1084,1091,1113,1174,1240,1245,1351,\n",
        "\t1384,1427,1437,1489,1494,1535,1568,1573,1643,1644,1682,1975,2050,2146,2205,\n",
        "\t2229,2230,2265,2285,2286,2296,2308,2329,2366,2378,2388,2448,2451,2458,2465,\n",
        "\t2472,2475,2482,2507,2620,2763,2791,2813,2837,2843,2869,2901,2935,2940,2947,\n",
        "\t2971,3006,3025,3146,3156,3239,3288,3293,3315,3317,3330,3325,3355,3360,3495,\n",
        "\t3525,3586,3595,3603,3623,3630,3677,3738,3766,3822,3824,3842,3848,3855,3867,\n",
        "\t3909,3957,3983,4027,4034,4051,4085,4103,4139,4191,4210,4211,4213,4232,4276,\n",
        "\t4277,4282,4315,4319,4330,4331,4333,4335,4355,4371,4377,4384,4429,4467,4508,\n",
        "\t4517,4548,4605,4612,4634,4639,4694,4733,4789,4934,4945,4952,4961,4985,4989,\n",
        "\t4994,5250,5370,5382,5394,5411,5459,5532,5633,5644,5657,5670,5714,5782,5783,\n",
        "\t5875,5878,5901,5929,5945,]"
      ],
      "metadata": {
        "id": "10h6TIhrnslU"
      },
      "execution_count": null,
      "outputs": []
    },
    {
      "cell_type": "code",
      "source": [
        "def get_null_ones_list(l):\n",
        "    return [1 if i in l else 0 for i in range(len(df1))]\n",
        "\n",
        "large_text_angle = get_null_ones_list(large_text_angle)\n",
        "rotated = get_null_ones_list(rotated)\n",
        "defect = get_null_ones_list(defect)\n",
        "cropped = get_null_ones_list(cropped)"
      ],
      "metadata": {
        "id": "u_DV7dwJnzxP"
      },
      "execution_count": null,
      "outputs": []
    },
    {
      "cell_type": "code",
      "source": [
        "df1['large_rotate_angle'] = large_text_angle\n",
        "df1['need_rotate'] = rotated\n",
        "df1['defect'] = defect\n",
        "df1['cropped'] = cropped"
      ],
      "metadata": {
        "id": "qxkjIxkRvgAk"
      },
      "execution_count": null,
      "outputs": []
    },
    {
      "cell_type": "markdown",
      "source": [
        "##### ***Находим угол для изображений, которые нужно перевернуть***\n",
        "> **Отодельно для PIL и cv2 из-за разного положения, при открытии изображения.**\\\n",
        "> *PIL открывает некоторые изображения в отличающейся от оригинальной ориентации.*\n",
        "\n"
      ],
      "metadata": {
        "id": "6FLCuFLYCwmx"
      }
    },
    {
      "cell_type": "code",
      "source": [
        "df1[df1['need_rotate'] == 1]"
      ],
      "metadata": {
        "id": "j1Dboa-ODoYA"
      },
      "execution_count": null,
      "outputs": []
    },
    {
      "cell_type": "code",
      "source": [
        "create_rotated_image_grid_cv2(0, directory + '/' + 'invoice_84_22.02.2019_170240000298_061241008162.jpg', True)"
      ],
      "metadata": {
        "id": "cO4BsiTZCpVt"
      },
      "execution_count": null,
      "outputs": []
    },
    {
      "cell_type": "code",
      "source": [
        "def create_rotated_image_grid_cv2(index, image_path, use_PIL=False):\n",
        "    # Загрузка оригинального изображения с помощью OpenCV\n",
        "    if use_PIL == False:\n",
        "        original_image = cv2.imread(image_path)\n",
        "    elif use_PIL == True:\n",
        "        original_image = np.array(Image.open(image_path))\n",
        "\n",
        "    # Повороты изображения\n",
        "    rotated_90 = cv2.rotate(original_image, cv2.ROTATE_90_CLOCKWISE)\n",
        "    rotated_180 = cv2.rotate(original_image, cv2.ROTATE_180)\n",
        "    rotated_minus_90 = cv2.rotate(original_image, cv2.ROTATE_90_COUNTERCLOCKWISE)\n",
        "\n",
        "    # Создаем график с 1x4 подграфиками\n",
        "    fig, axes = plt.subplots(1, 4, figsize=(36, 16), facecolor='lightgrey')\n",
        "\n",
        "    # Подписи для каждого подграфика\n",
        "    labels = ['orig' + [' cv2', ' PIL'][use_PIL] + f' ({index})', '90°', '180°', '-90°']\n",
        "\n",
        "    # Отображаем оригинальное изображение и его повороты\n",
        "    for i, (image, label) in enumerate(zip([original_image, rotated_90, rotated_180, rotated_minus_90], labels)):\n",
        "        axes[i].imshow(cv2.cvtColor(image, cv2.COLOR_BGR2RGB))  # OpenCV использует BGR, а Matplotlib ожидает RGB\n",
        "        axes[i].set_title(label, fontsize=36)\n",
        "        axes[i].axis('off')\n",
        "\n",
        "    # Сохраняем график или выводим его на экран\n",
        "    plt.tight_layout()\n",
        "    plt.show()\n",
        "\n",
        "for i in df1[df1['need_rotate'] == 1].index:\n",
        "    print(i)\n",
        "    # Замените 'your_image.jpg' на путь к вашему изображению\n",
        "    create_rotated_image_grid_cv2(i,directory + '/' + df1.iloc[i]['File Name'])\n",
        "    create_rotated_image_grid_cv2(i,directory + '/' + df1.iloc[i]['File Name'],True)"
      ],
      "metadata": {
        "id": "nXpy6ghkC4y8"
      },
      "execution_count": null,
      "outputs": []
    },
    {
      "cell_type": "code",
      "source": [
        "instant_rotation_cv2 = {5867:-90,5366:90,4178:180,3698:180,3375:90,3325:-90,3019:180,2153:180,1239:90,1237:-90,1207:90,183:-90,170:-90,128:-90}\n",
        "instant_rotation_PIL = {5867:-90,5366:90,5128:-90,4178:180,3698:180,3375:90,3371:180,3325:-90,3019:180,2153:180,1239:90,1237:90,1207:90,538:180,526:180,524:180,184:180,183:-90,170:-90,128:-90}\n",
        "\n",
        "instant_rotation_cv2 = [instant_rotation_cv2[i] if i in instant_rotation_cv2 else 0 for i in range(len(df1))]\n",
        "instant_rotation_PIL = [instant_rotation_PIL[i] if i in instant_rotation_PIL else 0 for i in range(len(df1))]"
      ],
      "metadata": {
        "id": "im7sJra_E1-U"
      },
      "execution_count": null,
      "outputs": []
    },
    {
      "cell_type": "code",
      "source": [
        "df1['instant_rotation_cv2'] = instant_rotation_cv2\n",
        "df1['instant_rotation_PIL'] = instant_rotation_PIL"
      ],
      "metadata": {
        "id": "VneHP6_xQwhB"
      },
      "execution_count": null,
      "outputs": []
    },
    {
      "cell_type": "markdown",
      "source": [
        "##### *Примеры данных и статистика по датафрейму*"
      ],
      "metadata": {
        "id": "oXJ7W4TEnXTZ"
      }
    },
    {
      "cell_type": "code",
      "source": [
        "df1.head()"
      ],
      "metadata": {
        "id": "ZoeL2CI2EUkk"
      },
      "execution_count": null,
      "outputs": []
    },
    {
      "cell_type": "code",
      "source": [
        "df1.describe()"
      ],
      "metadata": {
        "id": "2iu1sODzSqzw"
      },
      "execution_count": null,
      "outputs": []
    },
    {
      "cell_type": "code",
      "source": [
        "print('{:50}{:3} ({:7.3%})'.format('Обрезанные изображения: ', len(df1[df1['cropped'] == 1]), len(df1[df1['cropped'] == 1]) / len(df1)))\n",
        "print('{:50}{:3} ({:7.3%})'.format('Дефектные изображения: ', len(df1[df1['defect'] == 1]), len(df1[df1['defect'] == 1]) / len(df1)))\n",
        "print('{:50}{:3} ({:7.3%})'.format('Изображения которые необходимо повернуть: ', len(df1[df1['need_rotate'] == 1]), len(df1[df1['need_rotate'] == 1]) / len(df1)))\n",
        "print('{:50}{:3} ({:7.3%})'.format('Изображения с большим углом поворота: ', len(df1[df1['large_rotate_angle'] == 1]), len(df1[df1['large_rotate_angle'] == 1])  / len(df1)))"
      ],
      "metadata": {
        "id": "zI7Xqaio_ccM"
      },
      "execution_count": null,
      "outputs": []
    },
    {
      "cell_type": "code",
      "source": [
        "df1.quantile(0.1)"
      ],
      "metadata": {
        "id": "0DguXautSwjg"
      },
      "execution_count": null,
      "outputs": []
    },
    {
      "cell_type": "code",
      "source": [
        "df1[df1['DPI_X'] != df1['DPI_Y']]"
      ],
      "metadata": {
        "id": "rUjsui2pHOoN"
      },
      "execution_count": null,
      "outputs": []
    },
    {
      "cell_type": "code",
      "source": [
        "df1[df1['DPI_Y_A4'] >= 299]"
      ],
      "metadata": {
        "id": "FJxPxfqE_5br"
      },
      "execution_count": null,
      "outputs": []
    },
    {
      "cell_type": "markdown",
      "source": [
        "##### *Анализ количества изображений, которые мы уменьшаем*\n"
      ],
      "metadata": {
        "id": "Oe3DZe8RwUc2"
      }
    },
    {
      "cell_type": "code",
      "source": [
        "target_hight = 3508\n",
        "target_width = 2480"
      ],
      "metadata": {
        "id": "2pCOzvi9wZu2"
      },
      "execution_count": null,
      "outputs": []
    },
    {
      "cell_type": "code",
      "source": [
        "print('Кол-во изображений для уменьшения по высоте:', len(df1[df1['Высота (px)'] > target_hight]))\n",
        "print('Кол-во изображений для уменьшения по ширине:', len(df1[df1['Ширина (px)'] > target_width]))"
      ],
      "metadata": {
        "id": "Q0IAEhH4whBz"
      },
      "execution_count": null,
      "outputs": []
    },
    {
      "cell_type": "markdown",
      "source": [
        "##### **Анализ разных методов увеличения и уменьшения изображений**\n",
        "> Лучшие для: \\\n",
        "> Уменьшения изображений - cv2.INTER_AREA \\\n",
        "> Увеличения изображений - cv2.INTER_CUBIC, cv2.INTER_LINEAR, cv2.INTER_LANCZOS4"
      ],
      "metadata": {
        "id": "irQWEN47x52n"
      }
    },
    {
      "cell_type": "code",
      "source": [
        "np.random.seed(42)"
      ],
      "metadata": {
        "id": "hCWmh_e_yBXT"
      },
      "execution_count": null,
      "outputs": []
    },
    {
      "cell_type": "code",
      "source": [
        "# Список путей к файлам\n",
        "filelist = [directory + '/' + i for i in os.listdir(directory)]"
      ],
      "metadata": {
        "id": "0hcKrZKgz3ZE"
      },
      "execution_count": null,
      "outputs": []
    },
    {
      "cell_type": "code",
      "source": [
        "img_name = np.random.choice(df1[df1['DPI_Y_A4'] < 200]['File Name'])\n",
        "im = cv2.imread(directory + '/' + img_name)\n",
        "# im = cv2.cvtColor(im, cv2.COLOR_BGR2GRAY)\n",
        "print(im.shape)"
      ],
      "metadata": {
        "id": "WbYd1P7yyaGP"
      },
      "execution_count": null,
      "outputs": []
    },
    {
      "cell_type": "code",
      "source": [
        "interpolation_algorithm = [\n",
        "    (\"nearest\", cv2.INTER_NEAREST),\n",
        "    (\"bilinear\", cv2.INTER_LINEAR),\n",
        "    (\"bicubic\", cv2.INTER_CUBIC),\n",
        "    (\"area\", cv2.INTER_AREA),\n",
        "    (\"lanczos4\", cv2.INTER_LANCZOS4)\n",
        "]"
      ],
      "metadata": {
        "id": "T8t7igsXzQZC"
      },
      "execution_count": null,
      "outputs": []
    },
    {
      "cell_type": "code",
      "source": [
        "def resize_test(img, factor, is_plot=True, file_name=None):\n",
        "    if len(img.shape) == 2:\n",
        "        height, width= img.shape\n",
        "    elif len(img.shape) == 3:\n",
        "        height, width, channels = img.shape\n",
        "    height2, width2 = int(height*factor), int(width*factor)\n",
        "    print('orig size:', height, width)\n",
        "    print('resize size:', height2, width2)\n",
        "    imgs = []\n",
        "    for alg in interpolation_algorithm:\n",
        "        img_r = cv2.resize(img, (width2, height2), interpolation = alg[1])\n",
        "        imgs.append(img_r)\n",
        "    if is_plot:\n",
        "        plt.figure(figsize=(88,28))\n",
        "        plt.subplot(1, len(imgs)+1, 1)\n",
        "        plt.title('orig' + f' ({height}x{width})', fontsize=40)\n",
        "        plt.imshow(img)\n",
        "        plt.axis('off')\n",
        "        for i in range( len(imgs) ):\n",
        "            plt.subplot(1, len(imgs)+1, i+2)\n",
        "            plt.title( interpolation_algorithm[i][0] + f' ({height2}x{width2})', fontsize=40)\n",
        "            plt.imshow(imgs[i])\n",
        "            plt.axis('off')\n",
        "        # plt.subplots_adjust(wspace=0)\n",
        "        if file_name != None:\n",
        "            plt.savefig(file_name)\n",
        "        plt.show()\n",
        "    return imgs\n",
        "\n",
        "print('DOWN')\n",
        "img_down0 = resize_test(im, 0.75, file_name='opencv_resize_down0.png')\n",
        "print('DOWN')\n",
        "img_down1 = resize_test(im, 0.5, file_name='opencv_resize_down1.png')\n",
        "print('DOWN DOWN')\n",
        "img_down2 = resize_test(im, 0.25, file_name='opencv_resize_down2.png')\n",
        "print('UP')\n",
        "img_up0 = resize_test(img_down1[0], 4, file_name='opencv_resize_up1.png')\n",
        "print('UP ORIG')\n",
        "img_up0 = resize_test(im, 4, file_name='opencv_resize_up2.png')"
      ],
      "metadata": {
        "id": "SVGp8dx2za75"
      },
      "execution_count": null,
      "outputs": []
    },
    {
      "cell_type": "markdown",
      "source": [
        "##### Тест deskew"
      ],
      "metadata": {
        "id": "6Enjx4MrTGu2"
      }
    },
    {
      "cell_type": "code",
      "source": [
        "import math\n",
        "from typing import Tuple, Union\n",
        "\n",
        "import cv2\n",
        "import numpy as np\n",
        "\n",
        "from deskew import determine_skew\n",
        "\n",
        "\n",
        "def rotate(\n",
        "        image: np.ndarray, angle: float, background: Union[int, Tuple[int, int, int]]\n",
        ") -> np.ndarray:\n",
        "    old_width, old_height = image.shape[:2]\n",
        "    angle_radian = math.radians(angle)\n",
        "    width = abs(np.sin(angle_radian) * old_height) + abs(np.cos(angle_radian) * old_width)\n",
        "    height = abs(np.sin(angle_radian) * old_width) + abs(np.cos(angle_radian) * old_height)\n",
        "\n",
        "    image_center = tuple(np.array(image.shape[1::-1]) / 2)\n",
        "    rot_mat = cv2.getRotationMatrix2D(image_center, angle, 1.0)\n",
        "    rot_mat[1, 2] += (width - old_width) / 2\n",
        "    rot_mat[0, 2] += (height - old_height) / 2\n",
        "\n",
        "    return cv2.warpAffine(image, rot_mat, (int(round(height)), int(round(width))), borderValue=background)\n",
        "\n",
        "image = cv2.imread('input.png')\n",
        "grayscale = cv2.cvtColor(image, cv2.COLOR_BGR2GRAY)\n",
        "angle = determine_skew(grayscale)\n",
        "rotated = rotate(image, angle, (0, 0, 0))\n",
        "cv2.imwrite('output.png', rotated)"
      ],
      "metadata": {
        "id": "F3CSEomxUYcO"
      },
      "execution_count": null,
      "outputs": []
    },
    {
      "cell_type": "code",
      "source": [
        "def compute_skew(img1, custom_settings=None): # определние не большого поворота отностильно горизонта с помощью готового решения deskew\n",
        "    grayscale_image = cv2.cvtColor(img1, cv2.COLOR_BGR2GRAY)\n",
        "    if custom_settings == None:\n",
        "        angle = determine_skew(grayscale_image)\n",
        "    else:\n",
        "        angle = determine_skew(grayscale_image, **custom_settings)\n",
        "\n",
        "    # определили угол и повернем на него изображение\n",
        "    img_rot = img1.copy()\n",
        "    height, width = img_rot.shape[:2]\n",
        "    # get the center coordinates of the image to create the 2D rotation matrix\n",
        "    center = (width/2, height/2)\n",
        "    rotate_matrix = cv2.getRotationMatrix2D(center=center, angle=angle, scale=1)\n",
        "    img_rot = cv2.warpAffine(src=img_rot, M=rotate_matrix, dsize=(width, height))\n",
        "\n",
        "    return img_rot, angle"
      ],
      "metadata": {
        "id": "cfbDZfXaTG_d"
      },
      "execution_count": null,
      "outputs": []
    },
    {
      "cell_type": "code",
      "source": [
        "import inspect\n",
        "\n",
        "def get_default_args(func):\n",
        "    signature = inspect.signature(func)\n",
        "    return {\n",
        "        k: v.default\n",
        "        for k, v in signature.parameters.items()\n",
        "        if v.default is not inspect.Parameter.empty\n",
        "    }"
      ],
      "metadata": {
        "id": "lLxXSTgocpwC"
      },
      "execution_count": null,
      "outputs": []
    },
    {
      "cell_type": "code",
      "source": [
        "get_default_args(determine_skew)"
      ],
      "metadata": {
        "id": "4G096u2lcxR3"
      },
      "execution_count": null,
      "outputs": []
    },
    {
      "cell_type": "code",
      "source": [
        "{'sigma': 3.0,\n",
        " 'num_peaks': 20,\n",
        " 'num_angles': None,\n",
        " 'angle_pm_90': False,\n",
        " 'min_angle': None,\n",
        " 'max_angle': None,\n",
        " 'min_deviation': 1.0}"
      ],
      "metadata": {
        "id": "yDnLVomwc6nf"
      },
      "execution_count": null,
      "outputs": []
    },
    {
      "cell_type": "code",
      "source": [
        "def create_rotated_image_grid_cv2(index, image_path, use_PIL=False, deskew_settings=None, save_index=None):\n",
        "    # Загрузка оригинального изображения с помощью OpenCV\n",
        "    if use_PIL == False:\n",
        "        original_image = cv2.imread(image_path)\n",
        "    elif use_PIL == True:\n",
        "        original_image = np.array(Image.open(image_path))\n",
        "\n",
        "    def get_string_from_dict(d):\n",
        "        string = '('\n",
        "        for key, val in d.items():\n",
        "            string += str(key) + '=' + str(val) + ', '\n",
        "\n",
        "        return string[:-2] + ')'\n",
        "\n",
        "    # Поворачиваем изображение\n",
        "    img_rot, angle = compute_skew(original_image)\n",
        "\n",
        "    # Находим повороты изображения с другими настройками\n",
        "    additional_imgs_list = []\n",
        "    additional_imgs_angle_list = []\n",
        "    if deskew_settings != None:\n",
        "        for setting in deskew_settings:\n",
        "            img_rot_1, angle_1 = compute_skew(original_image, setting)\n",
        "            additional_imgs_list.append(img_rot_1)\n",
        "            additional_imgs_angle_list.append(angle_1)\n",
        "\n",
        "    # Создаем график с 1x2 подграфиками\n",
        "    fig, axes = plt.subplots(1, 2 + len(additional_imgs_list), figsize=(18 + (9 * len(additional_imgs_list)), 16 + (8 * len(additional_imgs_list))), facecolor='lightgrey')\n",
        "\n",
        "    # Подписи для каждого подграфика\n",
        "    labels = ['orig' + [' cv2', ' PIL'][use_PIL] + f' ({index})', 'Rotated ' + f'{angle:.8f}'] + [get_string_from_dict(deskew_settings[i])[:20] + '...' + '\\n' + 'Rotated ' + f'{angle1:.8f}' for i, angle1 in enumerate(additional_imgs_angle_list)]\n",
        "\n",
        "    # Отображаем оригинальное изображение и его повороты\n",
        "    for i, (image, label) in enumerate(zip([original_image, img_rot] + additional_imgs_list, labels)):\n",
        "        axes[i].imshow(cv2.cvtColor(image, cv2.COLOR_BGR2RGB))  # OpenCV использует BGR, а Matplotlib ожидает RGB\n",
        "        axes[i].set_title(label, fontsize=8 + (8 * len(additional_imgs_list)))\n",
        "        axes[i].axis('off')\n",
        "\n",
        "    # Сохраняем график или выводим его на экран\n",
        "    plt.tight_layout()\n",
        "    if save_index != None:\n",
        "        plt.savefig(f\"/content/drive/MyDrive/imgs_2/{save_index}.png\")\n",
        "    else:\n",
        "        plt.show()\n",
        "\n",
        "    plt.clf()"
      ],
      "metadata": {
        "id": "nmQR1pyPUmfc"
      },
      "execution_count": null,
      "outputs": []
    },
    {
      "cell_type": "code",
      "source": [
        "deskew_settings = [\n",
        "    {'min_deviation': 0.5, 'num_peaks': 100, 'max_angle':7.5, 'min_angle':-7.5,},\n",
        "    {'min_deviation': 0.1, 'num_peaks': 100, 'max_angle':7.5, 'min_angle':-7.5,},\n",
        "    {'min_deviation': 0.1, 'num_peaks': 100, 'max_angle':7.5, 'min_angle':-7.5,'sigma': 2.0},\n",
        "    {'min_deviation': 0.05, 'num_peaks': 100, 'max_angle':7.5, 'min_angle':-7.5,},\n",
        "    {'min_deviation': 0.01, 'num_peaks': 100, 'max_angle':7.5, 'min_angle':-7.5,},\n",
        "]\n",
        "\n",
        "for index, i in enumerate(df1[df1['large_rotate_angle'] == 1].index):\n",
        "    try:\n",
        "        create_rotated_image_grid_cv2(i,directory + '/' + df1.iloc[i]['File Name'], deskew_settings=deskew_settings, save_index=index)\n",
        "    except:\n",
        "        break"
      ],
      "metadata": {
        "id": "GDrWNlhDV_a5"
      },
      "execution_count": null,
      "outputs": []
    },
    {
      "cell_type": "markdown",
      "source": [
        "##### Находим кол-во белых пикселей на изображении"
      ],
      "metadata": {
        "id": "AbpchrF2YGWq"
      }
    },
    {
      "cell_type": "code",
      "source": [
        "def get_white_pixels_percent(original_image):\n",
        "    count = np.count_nonzero(np.all(original_image == [255, 255, 255], axis=2))\n",
        "    return count, count / (original_image.shape[0] * original_image.shape[1])"
      ],
      "metadata": {
        "id": "z8ls0juUZiar"
      },
      "execution_count": null,
      "outputs": []
    },
    {
      "cell_type": "code",
      "source": [
        "white_pixels = []\n",
        "white_pixels_per = []\n",
        "img_shapes = []\n",
        "\n",
        "for i in df1.index:\n",
        "    original_image = to_numpy(Image.open(directory + '/' + df1.iloc[i]['File Name']).convert('RGB'))\n",
        "    img_shapes.append(len(original_image.shape))\n",
        "\n",
        "    try:\n",
        "        wp, wpp = get_white_pixels_percent(original_image)\n",
        "    except:\n",
        "        white_pixels.append(0)\n",
        "        white_pixels_per.append(0)\n",
        "\n",
        "    white_pixels.append(wp)\n",
        "    white_pixels_per.append(wpp)\n",
        "\n",
        "    if i % 100 == 0:\n",
        "        clear_output()\n",
        "        print(i)"
      ],
      "metadata": {
        "id": "lRKX9Iu0YLEU"
      },
      "execution_count": null,
      "outputs": []
    },
    {
      "cell_type": "code",
      "source": [
        "print(len(white_pixels))\n",
        "print(len(white_pixels_per))\n",
        "print(len(img_shapes))"
      ],
      "metadata": {
        "id": "ADPNMz4ysTrl"
      },
      "execution_count": null,
      "outputs": []
    },
    {
      "cell_type": "code",
      "source": [
        "df1['channels'] = img_shapes\n",
        "df1['white_pixel_count'] = white_pixels\n",
        "df1['white_pixel_%'] = white_pixels_per"
      ],
      "metadata": {
        "id": "7oRbdQSSsKQ1"
      },
      "execution_count": null,
      "outputs": []
    },
    {
      "cell_type": "markdown",
      "source": [
        "### *Сохранение/загрузка df1*"
      ],
      "metadata": {
        "id": "vlVXKt6dVqJf"
      }
    },
    {
      "cell_type": "code",
      "source": [
        "# Сохранение\n",
        "df1.to_csv('/content/drive/MyDrive/df_info.csv', index=False)"
      ],
      "metadata": {
        "id": "A52BDzgyVtEG"
      },
      "execution_count": null,
      "outputs": []
    },
    {
      "cell_type": "code",
      "source": [
        "# Загрузка\n",
        "df1 = pd.read_csv('/content/drive/MyDrive/df1.csv')"
      ],
      "metadata": {
        "id": "M4I00nTBVxCF"
      },
      "execution_count": null,
      "outputs": []
    },
    {
      "cell_type": "code",
      "source": [
        "df1.head()"
      ],
      "metadata": {
        "id": "Ag8dTpgmTvaf"
      },
      "execution_count": null,
      "outputs": []
    },
    {
      "cell_type": "code",
      "source": [
        "df1.sort_values(by='white_pixel_%', ascending=False)"
      ],
      "metadata": {
        "id": "_irFuLN6mH5M"
      },
      "execution_count": null,
      "outputs": []
    },
    {
      "cell_type": "code",
      "source": [
        "df1.describe()"
      ],
      "metadata": {
        "id": "-HMXl3m9WQQ0"
      },
      "execution_count": null,
      "outputs": []
    },
    {
      "cell_type": "code",
      "source": [
        "err_list = ['0206.png','1806.png','3306.png','3967.png','4401.png','4751.png','5089.png','5717.png']"
      ],
      "metadata": {
        "id": "WpVSk3Qn4GFQ"
      },
      "execution_count": null,
      "outputs": []
    },
    {
      "cell_type": "code",
      "source": [
        "df1[df1['filename_new'].isin(err_list)]"
      ],
      "metadata": {
        "id": "qnw0idcZ4Q-K"
      },
      "execution_count": null,
      "outputs": []
    },
    {
      "cell_type": "code",
      "source": [],
      "metadata": {
        "id": "iOfNcp9W5AeX"
      },
      "execution_count": null,
      "outputs": []
    },
    {
      "cell_type": "markdown",
      "source": [
        "### Графики"
      ],
      "metadata": {
        "id": "HuobLbvV8oVs"
      }
    },
    {
      "cell_type": "code",
      "source": [
        "def plot_distribution(df, column_name):\n",
        "    plt.figure(figsize=(10, 6))\n",
        "    sns.histplot(df[column_name], kde=True)\n",
        "    plt.title(f'Distribution of {column_name}')\n",
        "    plt.xlabel(column_name)\n",
        "    plt.ylabel('Count')\n",
        "    plt.show()\n",
        "\n",
        "def plot_quantile_distribution(df, column_name):\n",
        "    plt.figure(figsize=(10, 6))\n",
        "    sns.boxplot(y=df[column_name])\n",
        "    plt.title(f'Quantile Distribution of {column_name}')\n",
        "    plt.ylabel(column_name)\n",
        "    plt.show()"
      ],
      "metadata": {
        "id": "BUQ1f8urLt5e"
      },
      "execution_count": null,
      "outputs": []
    },
    {
      "cell_type": "code",
      "source": [
        "for column in df1.columns[1:]:\n",
        "    try:    plot_distribution(df1, column)\n",
        "    except: pass\n",
        "    try:    plot_quantile_distribution(df1, column)\n",
        "    except: pass"
      ],
      "metadata": {
        "id": "3dVJE2n4LwB6"
      },
      "execution_count": null,
      "outputs": []
    },
    {
      "cell_type": "code",
      "source": [
        "def plot_comparison_box_plot(df):\n",
        "    plt.figure(figsize=(10, 6))\n",
        "    df[['DPI_X', 'DPI_Y', 'DPI_X_A4', 'DPI_Y_A4']].boxplot()\n",
        "    plt.ylabel('Значение DPI')\n",
        "    plt.title('Сравнение DPI_X, DPI_Y, DPI_X_A4 и DPI_Y_A4')\n",
        "    plt.xticks(rotation=90)\n",
        "    plt.show()\n",
        "\n",
        "plot_comparison_box_plot(df1)"
      ],
      "metadata": {
        "id": "xxiknKpJRDnx"
      },
      "execution_count": null,
      "outputs": []
    },
    {
      "cell_type": "code",
      "source": [
        "def plot_quantile_values(df):\n",
        "    plt.figure(figsize=(16, 8))\n",
        "    plt.style.use('seaborn-darkgrid')\n",
        "\n",
        "    columns = ['DPI_X', 'DPI_X_A4', 'DPI_Y', 'DPI_Y_A4']\n",
        "    # quantiles = np.arange(0, 1.02, 0.02)  # Значения квантилей\n",
        "    quantiles = np.arange(0, 1.1, 0.1)  # Значения квантилей\n",
        "    q = deepcopy(quantiles)\n",
        "    quantiles *= 100\n",
        "    q = [round(j,2) for k, j in enumerate(q) if k in [_ for _, i in enumerate(quantiles) if round(i) <= 100]]\n",
        "    quantiles = [round(i) for i in quantiles if round(i) <= 100]\n",
        "\n",
        "    quantile_values = np.percentile(df[columns], quantiles, axis=0)\n",
        "\n",
        "    for i, col in enumerate(columns):\n",
        "        plt.plot(q, quantile_values[:, i], marker='o', label=col, alpha=0.35, linewidth=5, markeredgewidth=6)\n",
        "\n",
        "    plt.xlabel('Квантиль', fontsize=18)\n",
        "    plt.ylabel('Значение квантиля', fontsize=18)\n",
        "    plt.title('Значения квантилей для столбцов', fontsize=24)\n",
        "    plt.xticks(q, fontsize=14, rotation=90)\n",
        "    plt.yticks(fontsize=16)\n",
        "    plt.legend()\n",
        "    plt.grid(True)\n",
        "    plt.show()\n",
        "\n",
        "# Пример использования\n",
        "plot_quantile_values(df1)"
      ],
      "metadata": {
        "id": "VSMLdjnIoZeC"
      },
      "execution_count": null,
      "outputs": []
    },
    {
      "cell_type": "code",
      "source": [
        "def plot_quantile_values(df):\n",
        "    plt.figure(figsize=(16, 8))\n",
        "    plt.style.use('seaborn-darkgrid')\n",
        "\n",
        "    columns = ['DPI_X', 'DPI_X_A4', 'DPI_Y', 'DPI_Y_A4']\n",
        "    # quantiles = np.arange(0, 1.02, 0.02)  # Значения квантилей\n",
        "    quantiles = np.arange(0, 0.38, 0.01)  # Значения квантилей\n",
        "    q = deepcopy(quantiles)\n",
        "    quantiles *= 100\n",
        "    q = [round(j,2) for k, j in enumerate(q) if k in [_ for _, i in enumerate(quantiles) if round(i) <= 100]]\n",
        "    quantiles = [round(i) for i in quantiles if round(i) <= 100]\n",
        "\n",
        "    quantile_values = np.percentile(df[columns], quantiles, axis=0)\n",
        "\n",
        "    for i, col in enumerate(columns):\n",
        "        plt.plot(q, quantile_values[:, i], marker='o', label=col, alpha=0.35, linewidth=5, markeredgewidth=6)\n",
        "\n",
        "    plt.xlabel('Квантиль', fontsize=18)\n",
        "    plt.ylabel('Значение квантиля', fontsize=18)\n",
        "    plt.title('Значения квантилей для столбцов', fontsize=24)\n",
        "    plt.xticks(q, fontsize=14, rotation=90)\n",
        "    plt.yticks(fontsize=16)\n",
        "    plt.legend()\n",
        "    plt.grid(True)\n",
        "    plt.show()\n",
        "\n",
        "# Пример использования\n",
        "plot_quantile_values(df1)"
      ],
      "metadata": {
        "id": "8Z4--CsDdRP8"
      },
      "execution_count": null,
      "outputs": []
    },
    {
      "cell_type": "code",
      "source": [
        "def plot_quantile_values(df):\n",
        "    plt.figure(figsize=(16, 8))\n",
        "    plt.style.use('seaborn-darkgrid')\n",
        "\n",
        "    columns = ['aspect_ratio']\n",
        "    quantiles = np.arange(0, 1.02, 0.02)  # Значения квантилей\n",
        "    # quantiles = np.arange(0, 0.38, 0.01)  # Значения квантилей\n",
        "    q = deepcopy(quantiles)\n",
        "    quantiles *= 100\n",
        "    q = [round(j,2) for k, j in enumerate(q) if k in [_ for _, i in enumerate(quantiles) if round(i) <= 100]]\n",
        "    quantiles = [round(i) for i in quantiles if round(i) <= 100]\n",
        "\n",
        "    quantile_values = np.percentile(df[columns], quantiles, axis=0)\n",
        "\n",
        "    for i, col in enumerate(columns):\n",
        "        plt.plot(q, quantile_values[:, i], marker='o', label=col, alpha=0.35, linewidth=5, markeredgewidth=6)\n",
        "        plt.plot(q, [0.707 for i in range(len(quantile_values[:, i]))], label='aspect_ratio_A4', alpha=0.35, linewidth=5, markeredgewidth=6)\n",
        "\n",
        "    plt.xlabel('Квантиль', fontsize=18)\n",
        "    plt.ylabel('Значение квантиля', fontsize=18)\n",
        "    plt.title('Значения квантилей для столбцов', fontsize=24)\n",
        "    plt.xticks(q, fontsize=14, rotation=90)\n",
        "    plt.yticks(fontsize=16)\n",
        "    plt.legend()\n",
        "    plt.grid(True)\n",
        "    plt.show()\n",
        "\n",
        "# Пример использования\n",
        "plot_quantile_values(df1)"
      ],
      "metadata": {
        "id": "o7YR8oxCTyh2"
      },
      "execution_count": null,
      "outputs": []
    },
    {
      "cell_type": "code",
      "source": [
        "def plot_dual_distribution(column1, column2, label1, label2, color1, color2):\n",
        "    plt.figure(figsize=(20, 12))\n",
        "    plt.style.use('seaborn-darkgrid')\n",
        "\n",
        "    # График для column1\n",
        "    sns.histplot(column1, kde=True, color=color1, label=label1, alpha=0.6, binwidth=8, element='step', fill=True,)\n",
        "\n",
        "    # График для column2\n",
        "    sns.histplot(column2, kde=True, color=color2, label=label2, alpha=0.6, binwidth=8, element='step', fill=True,)\n",
        "\n",
        "    plt.xlabel('Значение', fontsize=22)\n",
        "    plt.ylabel('Плотность', fontsize=22)\n",
        "    plt.title(f'Распределение {label1} и {label2}', fontsize=26)\n",
        "    plt.legend(fontsize=22)\n",
        "    plt.xticks(fontsize=18)\n",
        "    plt.yticks(fontsize=18)\n",
        "    plt.xlim(0,450)\n",
        "    plt.show()\n",
        "\n",
        "# Пример использования для 'DPI_X' и 'DPI_X_A4'\n",
        "plot_dual_distribution(df1['DPI_X'], df1['DPI_X_A4'], 'DPI_X', 'DPI_X_A4', 'skyblue', 'lightcoral')\n",
        "\n",
        "# Пример использования для 'DPI_Y' и 'DPI_Y_A4'\n",
        "plot_dual_distribution(df1['DPI_Y'], df1['DPI_Y_A4'], 'DPI_Y', 'DPI_Y_A4', 'lightgreen', 'gold')"
      ],
      "metadata": {
        "id": "vTCGDTfXWeWs"
      },
      "execution_count": null,
      "outputs": []
    },
    {
      "cell_type": "code",
      "source": [
        "def count_and_plot_column_values(df, column_name, x_label_size=12, y_label_size=12, x_tick_size=10, y_tick_size=10):\n",
        "    # Подсчитываем количество значений в столбце\n",
        "    value_counts = df[column_name].value_counts()\n",
        "\n",
        "    # Создаем столбчатую диаграмму с помощью Seaborn\n",
        "    plt.figure(figsize=(10, 6))\n",
        "    sns.countplot(data=df, x=column_name)\n",
        "\n",
        "    # Настраиваем размер текста для подписей и тиков\n",
        "    plt.title(f'Распределение значений в столбце \"{column_name}\"', fontsize=x_label_size)\n",
        "    plt.xlabel('Значение', fontsize=x_label_size)\n",
        "    plt.ylabel('Количество', fontsize=y_label_size)\n",
        "\n",
        "    plt.xticks(fontsize=x_tick_size)\n",
        "    plt.yticks(fontsize=y_tick_size)\n",
        "\n",
        "    plt.show()\n",
        "\n",
        "def calculate_and_plot_mse(df, true_values, predicted_values, x_label_size=12, y_label_size=12, x_tick_size=10, y_tick_size=10):\n",
        "    # Вычисляем MSE\n",
        "    mse = mean_squared_error(true_values, predicted_values)\n",
        "\n",
        "    # Создаем столбчатую диаграмму для отображения MSE\n",
        "    plt.figure(figsize=(6, 4))\n",
        "    plt.bar(['MSE'], [mse])\n",
        "\n",
        "    # Настраиваем размер текста для подписей и тиков\n",
        "    plt.title('Mean Squared Error (MSE)', fontsize=x_label_size)\n",
        "    plt.ylabel('Value', fontsize=y_label_size)\n",
        "\n",
        "    plt.xticks(fontsize=x_tick_size)\n",
        "    plt.yticks(fontsize=y_tick_size)\n",
        "\n",
        "    plt.show()"
      ],
      "metadata": {
        "id": "9jddbCb-44i9"
      },
      "execution_count": null,
      "outputs": []
    },
    {
      "cell_type": "code",
      "source": [
        "df1.drop(['DPI_X_Difference'], axis=1, inplace=True)"
      ],
      "metadata": {
        "id": "wyZfU0FAgVhA"
      },
      "execution_count": null,
      "outputs": []
    },
    {
      "cell_type": "code",
      "source": [
        "# numeric_columns = df1.select_dtypes(include=['number'])\n",
        "numeric_columns = df1[df1.columns[1:]]\n",
        "description = df1.describe()\n",
        "\n",
        "# Вывод 0.9 и 0.1 перцентилей для числовых столбцов\n",
        "percentiles_09 = df1.quantile(0.9)\n",
        "percentiles_01 = df1.quantile(0.1)\n",
        "\n",
        "print(\"Описательная статистика:\")\n",
        "print(description)\n",
        "\n",
        "print(\"\\n0.9 перцентили:\")\n",
        "print(percentiles_09)\n",
        "\n",
        "print(\"\\n0.1 перцентили:\")\n",
        "print(percentiles_01)"
      ],
      "metadata": {
        "id": "MOmHTPnpAmC7"
      },
      "execution_count": null,
      "outputs": []
    },
    {
      "cell_type": "markdown",
      "source": [
        "### Примеры изображений разных DPI"
      ],
      "metadata": {
        "id": "O7lc0RSL-GYH"
      }
    },
    {
      "cell_type": "code",
      "source": [
        "min_v = 250\n",
        "max_v = 300\n",
        "df1[df1['DPI_Y_A4'] > min_v][df1['DPI_Y_A4'] < max_v]"
      ],
      "metadata": {
        "id": "YwhWijw5-Kv9"
      },
      "execution_count": null,
      "outputs": []
    },
    {
      "cell_type": "code",
      "source": [
        "def show_sample_images(dataframe, column_name, min_value, max_value, num_images, image_size=(8, 4)):\n",
        "    # Шаг 1: Выборка из DataFrame по указанному столбцу и его минимальному и максимальному значению\n",
        "    filtered_df = dataframe[(dataframe[column_name] >= min_value) & (dataframe[column_name] <= max_value)]\n",
        "\n",
        "    # Шаг 2: Выборка указанного числа случайных значений из DataFrame\n",
        "    selected_rows = random.sample(range(len(filtered_df)), min(num_images, len(filtered_df)))\n",
        "    selected_data = filtered_df.iloc[selected_rows]\n",
        "\n",
        "    # Шаг 3: Открываем изображения и отображаем их в одном ряду\n",
        "    images = []\n",
        "    data_for_title = []\n",
        "    col_index = list(dataframe.columns).index(column_name)\n",
        "    for _, row in selected_data.iterrows():\n",
        "        img_path = row['Имя файла']\n",
        "        data_for_title.append(row[col_index])\n",
        "        image = Image.open(directory + '/' + img_path)\n",
        "        images.append(image)\n",
        "\n",
        "    # Создаем общий график с выбранными изображениями\n",
        "    fig, ax = plt.subplots(1, len(images), figsize=image_size, facecolor='lightgrey')\n",
        "    for i, image in enumerate(images):\n",
        "        ax[i].imshow(image)\n",
        "        ax[i].set_title('{}: {:.2f} ({}-{})'.format(column_name, data_for_title[i], min_value, max_value), fontsize=64)\n",
        "        ax[i].axis('off')\n",
        "\n",
        "    plt.show()"
      ],
      "metadata": {
        "id": "xiUSPofbFPyE"
      },
      "execution_count": null,
      "outputs": []
    },
    {
      "cell_type": "code",
      "source": [
        "df1[df1['aspect_ratio'] > 0.757]"
      ],
      "metadata": {
        "id": "mNIx71dTYxqU"
      },
      "execution_count": null,
      "outputs": []
    },
    {
      "cell_type": "code",
      "source": [
        "show_sample_images(df1, 'aspect_ratio', 0.757, 1, 5, (128,64))"
      ],
      "metadata": {
        "id": "zSvvHeadaX0h"
      },
      "execution_count": null,
      "outputs": []
    },
    {
      "cell_type": "code",
      "source": [
        "show_sample_images(df1, 'aspect_ratio', 1, 2, 5, (128,64))"
      ],
      "metadata": {
        "id": "EOovdH4oY9WI"
      },
      "execution_count": null,
      "outputs": []
    },
    {
      "cell_type": "code",
      "source": [
        "show_sample_images(df1, 'aspect_ratio', 1, 2, 5, (128,64))"
      ],
      "metadata": {
        "id": "r9-axRNHZODV"
      },
      "execution_count": null,
      "outputs": []
    },
    {
      "cell_type": "code",
      "source": [
        "show_sample_images(df1, 'aspect_ratio', 1, 2, 5, (128,64))"
      ],
      "metadata": {
        "id": "uDda-KqRZ5ho"
      },
      "execution_count": null,
      "outputs": []
    },
    {
      "cell_type": "code",
      "source": [
        "show_sample_images(df1, 'aspect_ratio', 0, 0.5, 5, (128,64))"
      ],
      "metadata": {
        "id": "sMbrhcDXYo1F"
      },
      "execution_count": null,
      "outputs": []
    },
    {
      "cell_type": "code",
      "source": [
        "# DPI 300 имеют больше всего документов\n",
        "show_sample_images(df1, 'DPI_Y_A4', 300, 350, 5, (128,64))"
      ],
      "metadata": {
        "id": "kyYpesupLm-n"
      },
      "execution_count": null,
      "outputs": []
    },
    {
      "cell_type": "code",
      "source": [
        "show_sample_images(df1, 'DPI_Y_A4', 250, 300, 5, (128,64))"
      ],
      "metadata": {
        "id": "OA5DWSFMUWgQ"
      },
      "execution_count": null,
      "outputs": []
    },
    {
      "cell_type": "code",
      "source": [
        "show_sample_images(df1, 'DPI_Y_A4', 200, 250, 5, (128,64))"
      ],
      "metadata": {
        "id": "-diJQejXGv5B"
      },
      "execution_count": null,
      "outputs": []
    },
    {
      "cell_type": "code",
      "source": [
        "show_sample_images(df1, 'DPI_Y_A4', 100, 150, 5, (128,64))"
      ],
      "metadata": {
        "id": "Dtj_gr3xH7pm"
      },
      "execution_count": null,
      "outputs": []
    },
    {
      "cell_type": "code",
      "source": [
        "show_sample_images(df1, 'DPI_Y_A4', 0, 100, 5, (128,64))"
      ],
      "metadata": {
        "id": "dLMhhIjFL5sV"
      },
      "execution_count": null,
      "outputs": []
    },
    {
      "cell_type": "code",
      "source": [
        "show_sample_images(df1, 'DPI_Y_A4', 0, 75, 5, (128,64))"
      ],
      "metadata": {
        "id": "AXHeuFJeP0Yd"
      },
      "execution_count": null,
      "outputs": []
    },
    {
      "cell_type": "code",
      "source": [
        "show_sample_images(df1, 'DPI_Y_A4', 0, 70, 5, (128,64))"
      ],
      "metadata": {
        "id": "OVHKgpGiS3CO"
      },
      "execution_count": null,
      "outputs": []
    },
    {
      "cell_type": "code",
      "source": [
        "for x in ['равен', 'больше', 'меньше']:\n",
        "    for y in ['равен', 'больше', 'меньше']:\n",
        "        print(f'{x=:6}, {y=:6}')"
      ],
      "metadata": {
        "id": "RmQndav6bTWc"
      },
      "execution_count": null,
      "outputs": []
    },
    {
      "cell_type": "code",
      "source": [
        "# x=равен , y=равен         - нечего\n",
        "# x=равен , y=больше        - убираем лишние белые пиксели по y, уменьшаем по высоте белые пиксели\n",
        "# x=равен , y=меньше        - увеличиваем по y пропорционально, уменьшаем по ширине белые пиксели\n",
        "# x=больше, y=равен         - убираем уменьшаем по ширине белые пиксели\n",
        "# x=больше, y=больше        - уменьшаем по y пропорционально, уменьшаем по ширине белые пиксели (если меньше 300 dpi)\n",
        "# x=больше, y=меньше        - увеличиваем по y пропорционально, уменьшаем по ширине белые пиксели (если меньше 300 dpi)\n",
        "# x=меньше, y=равен         - уменьшаем по высоте белые пиксели\n",
        "# x=меньше, y=больше        -\n",
        "# x=меньше, y=меньше        -"
      ],
      "metadata": {
        "id": "PtZ1j3nWbrpQ"
      },
      "execution_count": null,
      "outputs": []
    },
    {
      "cell_type": "markdown",
      "source": [
        "Разные повороты изображений"
      ],
      "metadata": {
        "id": "mWUHIBk2q0pT"
      }
    },
    {
      "cell_type": "code",
      "source": [
        "show_sample_images(df1[df1['rotate'] != 0], 'rotate', 1, 6, 10, (128,64))"
      ],
      "metadata": {
        "id": "xD836Kelq6OX"
      },
      "execution_count": null,
      "outputs": []
    },
    {
      "cell_type": "markdown",
      "source": [
        "### Выводы"
      ],
      "metadata": {
        "id": "iYqhdI159YQi"
      }
    },
    {
      "cell_type": "markdown",
      "source": [
        "* Начиная с 66% изображений имеют DPI >= 300 (3965 из 5980)\n",
        "* Если смотреть изображения по DPI ниже 300, то:\n",
        "* * На изображениях 200-300 DPI встречаются изображения плохого качества.\n",
        "* * Ниже 200 DPI документы с маленьким текстом могут быть не читабельные.\n",
        "* * Ниже 150 DPI большенство не читается, если маленький текст (напрмер в таблицах)."
      ],
      "metadata": {
        "id": "NO52PT0q9yVe"
      }
    },
    {
      "cell_type": "code",
      "source": [
        "min_v = 200\n",
        "max_v = 250\n",
        "df1[df1['DPI_Y_A4'] > min_v][df1['DPI_Y_A4'] < max_v]"
      ],
      "metadata": {
        "id": "7pAmLCGU8TG9"
      },
      "execution_count": null,
      "outputs": []
    },
    {
      "cell_type": "code",
      "source": [
        "df1.index"
      ],
      "metadata": {
        "id": "r752EIbMGM6g"
      },
      "execution_count": null,
      "outputs": []
    },
    {
      "cell_type": "code",
      "source": [
        "df1[df1['DPI_Y_A4'] > min_v][df1['DPI_Y_A4'] < max_v].describe()"
      ],
      "metadata": {
        "id": "P7A-qdOKXnn9"
      },
      "execution_count": null,
      "outputs": []
    },
    {
      "cell_type": "code",
      "source": [
        "df1.iloc[0]['Имя файла']"
      ],
      "metadata": {
        "id": "AENCEsyj5ZA6"
      },
      "execution_count": null,
      "outputs": []
    },
    {
      "cell_type": "code",
      "source": [
        "df1.iloc[0]"
      ],
      "metadata": {
        "id": "3E5yXeYb8NLh"
      },
      "execution_count": null,
      "outputs": []
    },
    {
      "cell_type": "code",
      "source": [
        "def plot_images_with_labels(image_path1, image_path2, figsize=(10, 5)):\n",
        "    # Открываем изображения с помощью Pillow\n",
        "    img1 = Image.open(image_path1)\n",
        "    img2 = Image.open(image_path2)\n",
        "\n",
        "    # Создаем новый график с указанным размером\n",
        "    fig, axes = plt.subplots(1, 2, figsize=figsize)\n",
        "\n",
        "    # Добавляем обводку синего цвета по краям изображений\n",
        "    img1_with_border = ImageOps.expand(img1, border=10, fill='blue')\n",
        "    img2_with_border = ImageOps.expand(img2, border=10, fill='blue')\n",
        "\n",
        "    # Отображаем изображения с обводкой\n",
        "    axes[0].imshow(img1_with_border)\n",
        "    axes[0].set_title(f\"Оригинал: {img1.size[0]}x{img1.size[1]}\", fontsize=48)\n",
        "    axes[0].axis('off')\n",
        "\n",
        "    axes[1].imshow(img2_with_border)\n",
        "    axes[1].set_title(f\"Преобразованное: {img2.size[0]}x{img2.size[1]}\", fontsize=48)\n",
        "    axes[1].axis('off')\n",
        "\n",
        "    # Отображаем график\n",
        "    plt.show()\n",
        "\n",
        "# Пример использования\n",
        "image_path1 = directory + '/' + input_path\n",
        "image_path2 = output_path\n",
        "\n",
        "plot_images_with_labels(image_path1, image_path2, figsize=(64, 48))"
      ],
      "metadata": {
        "id": "V9LmnzWRE46b"
      },
      "execution_count": null,
      "outputs": []
    },
    {
      "cell_type": "code",
      "source": [
        "# Пример использования\n",
        "image_path1 = directory + '/' + input_path\n",
        "image_path2 = output_path\n",
        "\n",
        "plot_images_with_labels(image_path1, image_path2, figsize=(64, 48))"
      ],
      "metadata": {
        "id": "Ds9sxGH_UUIi"
      },
      "execution_count": null,
      "outputs": []
    },
    {
      "cell_type": "markdown",
      "source": [
        "## **Создание итоговой базы, разделение на батчи**"
      ],
      "metadata": {
        "id": "ixvgmJkV9jxy"
      }
    },
    {
      "cell_type": "code",
      "source": [
        "# Продвинутый перевод изображения в массив\n",
        "def to_numpy(im):\n",
        "    im.load()\n",
        "    # unpack data\n",
        "    e = Image._getencoder(im.mode, 'raw', im.mode)\n",
        "    e.setimage(im.im)\n",
        "\n",
        "    # NumPy buffer for the result\n",
        "    shape, typestr = Image._conv_type_shape(im)\n",
        "    data = np.empty(shape, dtype=np.dtype(typestr))\n",
        "    mem = data.data.cast('B', (data.data.nbytes,))\n",
        "\n",
        "    bufsize, s, offset = 65536, 0, 0\n",
        "    while not s:\n",
        "        l, s, d = e.encode(bufsize)\n",
        "        mem[offset:offset + len(d)] = d\n",
        "        offset += len(d)\n",
        "    if s < 0:\n",
        "        raise RuntimeError(\"encoder error %d in tobytes\" % s)\n",
        "    return data"
      ],
      "metadata": {
        "id": "B47lBnVBfg3e"
      },
      "execution_count": null,
      "outputs": []
    },
    {
      "cell_type": "code",
      "source": [
        "# Указываем путь к базе данных\n",
        "directory = '/content/drive/MyDrive/Colab/Базы/Стажировка 2023/Распознавание информации на платежных поручениях/Scans'"
      ],
      "metadata": {
        "id": "5cRH3pL9IEuw"
      },
      "execution_count": null,
      "outputs": []
    },
    {
      "cell_type": "code",
      "source": [
        "# Путь к корневой папке, где будут создаваться подпапки\n",
        "root_path = '/content/drive/MyDrive/ClearedReshapedBase/'\n",
        "\n",
        "# Создаем папки в диапазоне от 0 до 6000 с шагом 100\n",
        "for i in range(0, 6000, 100):\n",
        "    folder_name = f'{i}-{i+100}'\n",
        "    folder_path = os.path.join(root_path, folder_name)\n",
        "    os.makedirs(folder_path, exist_ok=True)\n",
        "\n",
        "print(\"Папки успешно созданы.\")"
      ],
      "metadata": {
        "id": "f5osOFL_nxyJ"
      },
      "execution_count": null,
      "outputs": []
    },
    {
      "cell_type": "code",
      "source": [
        "df1.sort_values(by=['Высота (px)', 'Ширина (px)', 'aspect_ratio'], ascending=True)['File Name']"
      ],
      "metadata": {
        "id": "lLBi76QvczyW"
      },
      "execution_count": null,
      "outputs": []
    },
    {
      "cell_type": "code",
      "source": [
        "file_indexes = [i+100 for i in range(0,6000,100)]\n",
        "print(file_indexes)"
      ],
      "metadata": {
        "id": "G5WF6_CifAM6"
      },
      "execution_count": null,
      "outputs": []
    },
    {
      "cell_type": "code",
      "source": [
        "# определили угол и повернем на него изображение\n",
        "img_rot = img1.copy()\n",
        "height, width = img_rot.shape[:2]\n",
        "# get the center coordinates of the image to create the 2D rotation matrix\n",
        "center = (width/2, height/2)\n",
        "rotate_matrix = cv2.getRotationMatrix2D(center=center, angle=angle, scale=1)\n",
        "img_rot = cv2.warpAffine(src=img_rot, M=rotate_matrix, dsize=(width, height))"
      ],
      "metadata": {
        "id": "swVkduGpgLRM"
      },
      "execution_count": null,
      "outputs": []
    },
    {
      "cell_type": "code",
      "source": [
        "df1.sort_values(by=['white_pixel_%','height','width'], ascending=False).index[128]"
      ],
      "metadata": {
        "id": "7Becm8LBBzNm"
      },
      "execution_count": null,
      "outputs": []
    },
    {
      "cell_type": "code",
      "source": [
        "list(df1[df1['instant_rotation_PIL'].isin([-90,90])]['filename'])"
      ],
      "metadata": {
        "id": "gmx150VU5hMt"
      },
      "execution_count": null,
      "outputs": []
    },
    {
      "cell_type": "code",
      "source": [
        "df1[df1['instant_rotation_PIL'] != 0]"
      ],
      "metadata": {
        "id": "z0hCGAQnBd5C"
      },
      "execution_count": null,
      "outputs": []
    },
    {
      "cell_type": "code",
      "source": [
        "def to_numpy(im):\n",
        "    im.load()\n",
        "    # unpack data\n",
        "    e = Image._getencoder(im.mode, 'raw', im.mode)\n",
        "    e.setimage(im.im)\n",
        "\n",
        "    # NumPy buffer for the result\n",
        "    shape, typestr = Image._conv_type_shape(im)\n",
        "    data = np.empty(shape, dtype=np.dtype(typestr))\n",
        "    mem = data.data.cast('B', (data.data.nbytes,))\n",
        "\n",
        "    bufsize, s, offset = 65536, 0, 0\n",
        "    while not s:\n",
        "        l, s, d = e.encode(bufsize)\n",
        "        mem[offset:offset + len(d)] = d\n",
        "        offset += len(d)\n",
        "    if s < 0:\n",
        "        raise RuntimeError(\"encoder error %d in tobytes\" % s)\n",
        "    return data\n",
        "\n",
        "def process_one_image(img_path, save_path, filename, new_height, deskew_angle, instant_angle):\n",
        "    # Открываем изображение\n",
        "    img = Image.open(img_path).convert('RGBA')\n",
        "\n",
        "    # Проверка на успешное чтение изображения\n",
        "    if img is None:\n",
        "        raise Exception(f\"Ошибка чтения изображения: ({i})\")\n",
        "\n",
        "    # Находим ширину и высоту\n",
        "    width, height = img.size\n",
        "\n",
        "    # Переводим в массив (чтобы использовать cv2)\n",
        "    img = to_numpy(img)\n",
        "\n",
        "    # Конвертируем в .png\n",
        "    _, img_png = cv2.imencode('.png', img)\n",
        "    img = cv2.imdecode(img_png, cv2.IMREAD_UNCHANGED)\n",
        "\n",
        "    # Поворачиваем изображение на найденный угол\n",
        "    if instant_angle in [90,-90]:\n",
        "        height, width = width, height\n",
        "        if instant_angle == 90:\n",
        "            img = cv2.rotate(img, cv2.ROTATE_90_CLOCKWISE)\n",
        "        elif instant_angle == -90:\n",
        "            img = cv2.rotate(img, cv2.ROTATE_90_COUNTERCLOCKWISE)\n",
        "        rotate_matrix = cv2.getRotationMatrix2D(center=(width/2, height/2), angle=deskew_angle, scale=1)\n",
        "    else:\n",
        "        rotate_matrix = cv2.getRotationMatrix2D(center=(width/2, height/2), angle=deskew_angle+instant_angle, scale=1)\n",
        "\n",
        "    img = cv2.warpAffine(src=img, M=rotate_matrix, dsize=(width, height))\n",
        "\n",
        "    # Флаг того, уменьшаем ли мы изображение\n",
        "    if height > new_height:\n",
        "        downscale = 1\n",
        "    else:\n",
        "        downscale = 0\n",
        "\n",
        "    # Определяем новую ширину изображений и соотношение сторон\n",
        "    aspect_ratio = width / height\n",
        "    width = int(new_height * aspect_ratio)\n",
        "\n",
        "    # Изменение размера с сохранением пропорций\n",
        "    if downscale == 1:\n",
        "        img = cv2.resize(img, (width, new_height), interpolation=cv2.INTER_AREA)\n",
        "    elif downscale == 0:\n",
        "        img = cv2.resize(img, (width, new_height), interpolation=cv2.INTER_CUBIC)\n",
        "\n",
        "    # Преобразовываем изображение в чёрно-белое\n",
        "    img = cv2.cvtColor(img, cv2.COLOR_BGR2GRAY)\n",
        "\n",
        "    # Cохранение изменённого изображения\n",
        "    cv2.imwrite(save_path + filename, img)"
      ],
      "metadata": {
        "id": "cuSquGFU-D00"
      },
      "execution_count": null,
      "outputs": []
    },
    {
      "cell_type": "code",
      "source": [
        "img_path = [directory + '/' + i for i in list(df1[df1['instant_rotation_PIL'].isin([-90,90])]['filename'])]\n",
        "save_path = '/content/'\n",
        "filename = list(df1[df1['instant_rotation_PIL'].isin([-90,90])]['filename_new'])\n",
        "deskew_angle = list(df1[df1['instant_rotation_PIL'].isin([-90,90])]['deskew_angle'])\n",
        "instant_angle = list(df1[df1['instant_rotation_PIL'].isin([-90,90])]['instant_rotation_PIL'])\n",
        "new_height = 3508           # Новая высота\n",
        "\n",
        "for i in range(len(img_path)):\n",
        "    process_one_image(img_path[i], save_path, filename[i], new_height, deskew_angle[i], instant_angle[i])"
      ],
      "metadata": {
        "id": "xMT_qLU8-HwK"
      },
      "execution_count": null,
      "outputs": []
    },
    {
      "cell_type": "code",
      "source": [
        "root_path = '/content/drive/MyDrive/ClearedReshapedBase/'\n",
        "file_folders = os.listdir(root_path)                        # Папки\n",
        "file_indexes = [i+100 for i in range(0,6000,100)]           # Макс. значения для каждой папки\n",
        "folder_i = 0                # Индекс папки для создания названия\n",
        "names_list = []             # Список для новых названий файлов\n",
        "error_index_list = []       # Список для индексов изображений с ошибкой\n",
        "\n",
        "new_height = 3508           # Новая высота\n",
        "\n",
        "sorted_indexes = df1.sort_values(by=['white_pixel_%','height','width'], ascending=False).index\n",
        "\n",
        "with timex():\n",
        "    for i, filename in enumerate(list(df1.sort_values(by=['white_pixel_%','height','width'], ascending=False)['filename'])):\n",
        "        # Увеличиваем индекс папки в которую будем сохранять изображение\n",
        "        while i > file_indexes[folder_i] - 1:\n",
        "            folder_i += 1\n",
        "\n",
        "        # Открываем изображение\n",
        "        img = to_numpy(Image.open(directory + '/' + filename).convert('RGBA'))\n",
        "        # img = cv2.imread(directory + '/' + filename, cv2.IMREAD_UNCHANGED)\n",
        "\n",
        "        # Конвертируем в .png\n",
        "        _, img_png = cv2.imencode('.png', img)\n",
        "        img = cv2.imdecode(img_png, cv2.IMREAD_UNCHANGED)\n",
        "\n",
        "        # Проверка на успешное чтение изображения\n",
        "        if img is None:\n",
        "            error_index_list.append(i)\n",
        "            print(f\"Ошибка чтения изображения: ({i})\")\n",
        "            continue\n",
        "\n",
        "        # Находим ширину, высоту и соотношение сторон\n",
        "        height, width, aspect_ratio = df1.iloc[sorted_indexes[i]]['height'], df1.iloc[sorted_indexes[i]]['width'], df1.iloc[sorted_indexes[i]]['aspect_ratio']\n",
        "\n",
        "        # Поворачиваем изображение на найденный угол\n",
        "        center = (width/2, height/2)\n",
        "        rotate_matrix = cv2.getRotationMatrix2D(center=center, angle= df1.iloc[sorted_indexes[i]]['instant_rotation_PIL'] + df1.iloc[sorted_indexes[i]]['deskew_angle'], scale=1)\n",
        "        img = cv2.warpAffine(src=img, M=rotate_matrix, dsize=(width, height))\n",
        "\n",
        "        # Флаг того, уменьшаем ли мы изображение\n",
        "        if height > new_height:\n",
        "            downscale = 1\n",
        "        else:\n",
        "            downscale = 0\n",
        "\n",
        "        # Определяем новую ширину изображений\n",
        "        width = int(new_height * aspect_ratio)\n",
        "\n",
        "        # Изменение размера с сохранением пропорций\n",
        "        if downscale == 1:\n",
        "            img = cv2.resize(img, (width, new_height), interpolation=cv2.INTER_AREA)\n",
        "        elif downscale == 0:\n",
        "            img = cv2.resize(img, (width, new_height), interpolation=cv2.INTER_CUBIC)\n",
        "\n",
        "        # Создаём название для файла (полный путь)\n",
        "        output_path = root_path + file_folders[folder_i] + '/' + f'{i:0>4}' + '.png'\n",
        "\n",
        "        # Преобразовываем изображение в чёрно-белое\n",
        "        img = cv2.cvtColor(img, cv2.COLOR_BGR2GRAY)\n",
        "\n",
        "        # print(img.shape)\n",
        "\n",
        "        # Cохранение изменённого изображения\n",
        "        cv2.imwrite(output_path, img)\n",
        "\n",
        "        if i % 100 == 0:\n",
        "            clear_output()\n",
        "            print(f'{i}/5980')"
      ],
      "metadata": {
        "id": "iNj-eptSs39L"
      },
      "execution_count": null,
      "outputs": []
    },
    {
      "cell_type": "code",
      "source": [
        "df1.sort_values(by=['white_pixel_%','height','width'], ascending=False)"
      ],
      "metadata": {
        "id": "32DOBWvEmcaZ"
      },
      "execution_count": null,
      "outputs": []
    },
    {
      "cell_type": "code",
      "source": [
        "names_list[:3]"
      ],
      "metadata": {
        "id": "4p3ooER4nL2K"
      },
      "execution_count": null,
      "outputs": []
    },
    {
      "cell_type": "code",
      "source": [
        "sorted_indexes[:3]"
      ],
      "metadata": {
        "id": "4z11X73Vnani"
      },
      "execution_count": null,
      "outputs": []
    },
    {
      "cell_type": "code",
      "source": [
        "n_dict = {i: j for i, j in zip(sorted_indexes, names_list)}\n",
        "n_dict"
      ],
      "metadata": {
        "id": "qiiAt27CqFS1"
      },
      "execution_count": null,
      "outputs": []
    },
    {
      "cell_type": "code",
      "source": [
        "ni = [n_dict[i] for i in range(5980)]\n",
        "print(ni[:5])"
      ],
      "metadata": {
        "id": "3D0VAJPbnw2M"
      },
      "execution_count": null,
      "outputs": []
    },
    {
      "cell_type": "code",
      "source": [
        "sorted_indexes = df1.sort_values(by=['white_pixel_%','height','width'], ascending=False).index"
      ],
      "metadata": {
        "id": "kGVWW1OfkatD"
      },
      "execution_count": null,
      "outputs": []
    },
    {
      "cell_type": "code",
      "source": [
        "names_list = [f'{i:0>4}.png' for i in range(5980)]"
      ],
      "metadata": {
        "id": "CFf_dCHZkXSO"
      },
      "execution_count": null,
      "outputs": []
    },
    {
      "cell_type": "code",
      "source": [
        "ni = [names_list[i] for i in sorted_indexes]"
      ],
      "metadata": {
        "id": "QlOWdlQeksDy"
      },
      "execution_count": null,
      "outputs": []
    },
    {
      "cell_type": "code",
      "source": [
        "df1['filename_new'] = ni"
      ],
      "metadata": {
        "id": "mXSnsH5Km_ve"
      },
      "execution_count": null,
      "outputs": []
    },
    {
      "cell_type": "code",
      "source": [
        "n_dict = {i: j for i, j in zip(sorted_indexes, names_list)}\n",
        "n_dict\n",
        "ni = [n_dict[i] for i in range(5980)]\n",
        "print(ni[:5])\n",
        "names_list = [f'{i:0>4}.png' for i in range(5980)]\n",
        "ni = [names_list[i] for i in sorted_indexes]\n",
        "df1['filename_new'] = ni"
      ],
      "metadata": {
        "id": "7zo7AwkWLM4m"
      },
      "execution_count": null,
      "outputs": []
    },
    {
      "cell_type": "code",
      "source": [
        "df1.sort_values(by=['white_pixel_%','height','width'], ascending=False)"
      ],
      "metadata": {
        "id": "XhcYEkSom37E"
      },
      "execution_count": null,
      "outputs": []
    },
    {
      "cell_type": "code",
      "source": [
        "df1['filename_new'] = ni\n",
        "df1"
      ],
      "metadata": {
        "id": "GJlGsFUtkRWm"
      },
      "execution_count": null,
      "outputs": []
    },
    {
      "cell_type": "code",
      "source": [
        "def process_image(input_path, output_path, new_width, new_height, convert_to_bw=False, expand_side='y'):\n",
        "    try:\n",
        "        # Чтение изображения\n",
        "        image = cv2.imread(directory + '/' + input_path)\n",
        "\n",
        "        # Конвертация в формат PNG\n",
        "        _, image_png = cv2.imencode('.png', image)\n",
        "        image = cv2.imdecode(image_png, cv2.IMREAD_UNCHANGED)\n",
        "\n",
        "        # Проверка на успешное чтение изображения\n",
        "        if image is None:\n",
        "            raise Exception(f\"Ошибка чтения изображения по пути: {input_path}\")\n",
        "\n",
        "        # Если convert_to_bw установлен в True, преобразовываем изображение в чёрно-белое\n",
        "        if convert_to_bw:\n",
        "            image = cv2.cvtColor(image, cv2.COLOR_BGR2GRAY)\n",
        "\n",
        "        # Изменение размера с сохранением пропорций\n",
        "        height, width = image.shape[:2]\n",
        "        aspect_ratio = width / height\n",
        "\n",
        "        # Определяем по какой стороне изменять размер\n",
        "        if expand_side == 'x':\n",
        "            new_height = int(new_width/aspect_ratio)\n",
        "        elif expand_side == 'y':\n",
        "            new_width = int(new_height*aspect_ratio)\n",
        "\n",
        "        # Решейп и сохранение изменённого изображения\n",
        "        image = cv2.resize(image, (new_width, new_height))\n",
        "        cv2.imwrite(output_path, image)\n",
        "\n",
        "    except Exception as e:\n",
        "        print(f\"Произошла ошибка: {str(e)}\")"
      ],
      "metadata": {
        "id": "DKiErtmrESqp"
      },
      "execution_count": null,
      "outputs": []
    },
    {
      "cell_type": "code",
      "source": [
        "df1[df1['DPI_Y_A4'] < 299]"
      ],
      "metadata": {
        "id": "zBvUxO_9HNnp"
      },
      "execution_count": null,
      "outputs": []
    },
    {
      "cell_type": "code",
      "source": [
        "output_folder = \"/content/drive/MyDrive/Colab/Базы/Стажировка 2023/Распознавание информации на платежных поручениях/ScansClearedReshaped/\"          # Конечная папка\n",
        "output_folder_bad = '/content/drive/MyDrive/Colab/Базы/Стажировка 2023/Распознавание информации на платежных поручениях/ScansClearedReshaped/low_dpi/'   # Конечная папка для файлов с плохим качеством\n",
        "# output_folder = '/content/'\n",
        "filenames_dict = dict()                     # Для названий файлов\n",
        "new_width = 2480                            # Ширина изображения\n",
        "new_height = 3508                           # Высота изображения\n",
        "convert_to_bw = True                        # Конвертировать в чёрно-белое\n",
        "\n",
        "file_list_to_convert = list(df1[df1['DPI_Y_A4'] > 299]['Имя файла'])        # Список файлов для конвертации\n",
        "files_len = len(os.listdir(directory))\n",
        "\n",
        "for index, filename in enumerate(os.listdir(directory)):\n",
        "    if filename not in file_list_to_convert:\n",
        "        filenames_dict[str(index) + '.png'] = filename\n",
        "        # output_path = filename[:-len(re.findall(r'\\.[^.]+$', filename)[0])] + '.png' # Заменяем раcширение на .png\n",
        "        output_path = str(index) + '.png' # Заменяем раcширение на .png\n",
        "\n",
        "        if filename in file_list_to_convert:\n",
        "            output_path = output_folder + output_path\n",
        "        else:\n",
        "            output_path = output_folder_bad + output_path\n",
        "\n",
        "        process_image(filename, output_path, new_width, new_height, convert_to_bw, 'y')\n",
        "\n",
        "    if index % 50 == 0:\n",
        "        clear_output()\n",
        "        print(f'Готово {index} из {files_len}')"
      ],
      "metadata": {
        "id": "M7WQFl-FEIPy"
      },
      "execution_count": null,
      "outputs": []
    },
    {
      "cell_type": "code",
      "source": [
        "with open('/content/my_dict.json', 'w') as file:\n",
        "    json.dump(filenames_dict, file)"
      ],
      "metadata": {
        "id": "cxU9jEm8J-JX"
      },
      "execution_count": null,
      "outputs": []
    },
    {
      "cell_type": "code",
      "source": [
        "df1[df1['DPI_Y_A4']>=299]"
      ],
      "metadata": {
        "id": "hMTBCTBmO6fL"
      },
      "execution_count": null,
      "outputs": []
    },
    {
      "cell_type": "code",
      "source": [
        "df1[df1['DPI_Y_A4']<299][df1['DPI_Y_A4']>=249]"
      ],
      "metadata": {
        "id": "C85IuNJMM1mC"
      },
      "execution_count": null,
      "outputs": []
    },
    {
      "cell_type": "code",
      "source": [
        "df1[df1['DPI_Y_A4']<249][df1['DPI_Y_A4']>=199]"
      ],
      "metadata": {
        "id": "QVgNObofNNsp"
      },
      "execution_count": null,
      "outputs": []
    },
    {
      "cell_type": "code",
      "source": [
        "df1[df1['DPI_Y_A4']<199][df1['DPI_Y_A4']>=149]"
      ],
      "metadata": {
        "id": "JZEUCc__NnMV"
      },
      "execution_count": null,
      "outputs": []
    },
    {
      "cell_type": "code",
      "source": [
        "df1[df1['DPI_Y_A4']<149][df1['DPI_Y_A4']>=100]"
      ],
      "metadata": {
        "id": "T9UHISN0NudR"
      },
      "execution_count": null,
      "outputs": []
    },
    {
      "cell_type": "code",
      "source": [
        "df1[df1['DPI_Y_A4']<100][df1['DPI_Y_A4']>=0]"
      ],
      "metadata": {
        "id": "qzpJXDD1NyuM"
      },
      "execution_count": null,
      "outputs": []
    },
    {
      "cell_type": "code",
      "source": [
        "def process_image(input_path, output_path, new_width, new_height, convert_to_bw=False, expand_side='x'):\n",
        "    try:\n",
        "        # Чтение изображения\n",
        "        image = cv2.imread(directory + '/' + input_path)\n",
        "\n",
        "        # Конвертация в формат PNG\n",
        "        _, image_png = cv2.imencode('.png', image)\n",
        "        image = cv2.imdecode(image_png, cv2.IMREAD_UNCHANGED)\n",
        "\n",
        "        # Проверка на успешное чтение изображения\n",
        "        if image is None:\n",
        "            raise Exception(f\"Ошибка чтения изображения по пути: {input_path}\")\n",
        "\n",
        "        # Если convert_to_bw установлен в True, преобразовываем изображение в чёрно-белое\n",
        "        if convert_to_bw:\n",
        "            image = cv2.cvtColor(cv2.cvtColor(image, cv2.COLOR_BGR2GRAY), cv2.COLOR_GRAY2BGR) # Преобразуем в 3-канальное чёрно-белое\n",
        "\n",
        "        # Изменение размера с сохранением пропорций\n",
        "        height, width = image.shape[:2]\n",
        "        aspect_ratio = width / height\n",
        "        # print(f'Хотим   {new_height}x{new_width} (aspect ratio - {new_width/new_height:.3f})')\n",
        "        # print(f'Есть    {height}x{width} (aspect ratio - {aspect_ratio:.3f})')\n",
        "        # print(f'Получим {new_height}x{int(aspect_ratio*new_height)} (aspect ratio - {int(aspect_ratio*new_height) / new_height:.3f}) y')\n",
        "        # print(f'Получим {int(new_width/aspect_ratio)}x{new_width} (aspect ratio - {new_width / int(new_width/aspect_ratio):.3f}) x')\n",
        "\n",
        "        if expand_side == 'x':\n",
        "            new_height = int(new_width/aspect_ratio)\n",
        "        elif expand_side == 'y':\n",
        "            new_width = int(new_height*aspect_ratio)\n",
        "\n",
        "        image = cv2.resize(image, (new_width, new_height))\n",
        "\n",
        "        # Сохранение изменённого изображения\n",
        "        cv2.imwrite(output_path, image)\n",
        "\n",
        "        # print(f\"Изображение успешно обработано и сохранено по пути: {output_path}\")\n",
        "    except Exception as e:\n",
        "        print(f\"Произошла ошибка: {str(e)}\")\n",
        "\n",
        "# Пример использования функции:\n",
        "input_path = \"b9d41fe3-126b-45ec-b4b5-59f588f7e9a8.jpg\" # >300 DPI\n",
        "# input_path = 'invoice_263_14.12.2016.jpg'               # 200-250 dpi\n",
        "output_path = \"/content/\" + input_path[:-len(re.findall(r'\\.[^.]+$', input_path)[0])] + '.png' # Заменяем раcширение на .png\n",
        "new_width = 2480\n",
        "new_height = 3508\n",
        "convert_to_bw = True\n",
        "\n",
        "process_image(input_path, output_path, new_width, new_height, convert_to_bw, 'x')"
      ],
      "metadata": {
        "id": "CidjZ5RpERs8"
      },
      "execution_count": null,
      "outputs": []
    },
    {
      "cell_type": "markdown",
      "source": [
        "Создаём батчи"
      ],
      "metadata": {
        "id": "BJqy3C5g9cfS"
      }
    },
    {
      "cell_type": "code",
      "source": [
        "output_folder = \"/content/drive/MyDrive/Colab/Базы/Стажировка 2023/Распознавание информации на платежных поручениях/ScansClearedReshaped/\"\n",
        "\n",
        "# Создаем пустой датафрейм\n",
        "df2 = pd.DataFrame(columns=[\"Имя файла\", \"Ширина (px)\", \"Высота (px)\", \"DPI_X\", \"DPI_Y\", \"DPI_X_A4\", \"DPI_Y_A4\", 'aspect_ratio'])\n",
        "\n",
        "# Функция для получения информации о изображении\n",
        "def get_image_info(file_path):\n",
        "    img = Image.open(file_path)\n",
        "    width, height = img.size\n",
        "    dpi = img.info.get(\"dpi\", (0, 0))\n",
        "    aspect_ratio = width / height\n",
        "    img.close()\n",
        "    return width, height, dpi[0], dpi[1], aspect_ratio\n",
        "\n",
        "files_len = len(os.listdir(output_folder))\n",
        "\n",
        "# Перебираем файлы в папке\n",
        "for index, filename in enumerate(os.listdir(output_folder)):\n",
        "    if '.png' in filename:\n",
        "        file_path = os.path.join(output_folder, filename)\n",
        "        width, height, dpi_x, dpi_y, aspect_ratio = get_image_info(file_path)\n",
        "        dpi_x_a4 = width / (a4_width_mm / 25.4)  # Переводим мм в дюймы\n",
        "        dpi_y_a4 = height / (a4_height_mm / 25.4)  # Переводим мм в дюймы\n",
        "        df2 = pd.concat([df2, pd.DataFrame({\"Имя файла\": [filename], \"Ширина (px)\": [width], \"Высота (px)\": [height], \"DPI_X\": [dpi_x], \"DPI_Y\": [dpi_y], \"DPI_X_A4\": [dpi_x_a4], \"DPI_Y_A4\": [dpi_y_a4], 'aspect_ratio': [aspect_ratio]})], ignore_index=True)\n",
        "\n",
        "        if index % 200 == 0:\n",
        "            clear_output()\n",
        "            print(f'Готово {index} из {files_len}')\n",
        "\n",
        "df2['DPI_X'] = df2['DPI_X'].astype(int)\n",
        "df2['DPI_Y'] = df2['DPI_Y'].astype(int)\n",
        "df2['Ширина (px)'] = df2['Ширина (px)'].astype(int)\n",
        "df2['Высота (px)'] = df2['Высота (px)'].astype(int)"
      ],
      "metadata": {
        "id": "T2zdqPs-9en8"
      },
      "execution_count": null,
      "outputs": []
    },
    {
      "cell_type": "code",
      "source": [
        "df2.describe()"
      ],
      "metadata": {
        "id": "zUCsRH8W-Kni"
      },
      "execution_count": null,
      "outputs": []
    },
    {
      "cell_type": "code",
      "source": [
        "df2.sort_values(by='aspect_ratio')"
      ],
      "metadata": {
        "id": "ehM56Jts-jjP"
      },
      "execution_count": null,
      "outputs": []
    },
    {
      "cell_type": "code",
      "source": [
        "batches_dict = dict()\n",
        "files_per_batch = 100\n",
        "batch = []\n",
        "\n",
        "for i, filename in enumerate(list(df2.sort_values(by='aspect_ratio')['Имя файла'])):\n",
        "    if (i != 0 and i % files_per_batch == 0):\n",
        "        batches_dict['batch' + '_{:0>3}'.format(i // 1000) + '_{:0>3}'.format(str(i)[-3:])] = batch\n",
        "        batch = []\n",
        "    batch.append(filename)\n",
        "\n",
        "    if i == len(list(df2.sort_values(by='aspect_ratio')['Имя файла'])) - 1:\n",
        "        batches_dict['batch' + '_{:0>3}'.format(i // 1000) + '_{:0>3}'.format(str(i)[-3:])] = batch"
      ],
      "metadata": {
        "id": "g8BLmC1H_oAY"
      },
      "execution_count": null,
      "outputs": []
    },
    {
      "cell_type": "code",
      "source": [
        "batches_dict.keys()"
      ],
      "metadata": {
        "id": "8B5SgggzCRwJ"
      },
      "execution_count": null,
      "outputs": []
    },
    {
      "cell_type": "code",
      "source": [
        "import zipfile\n",
        "\n",
        "def create_archive(file_list, archive_name):\n",
        "    with zipfile.ZipFile(archive_name, 'w', zipfile.ZIP_DEFLATED) as zipf:\n",
        "        for file in file_list:\n",
        "            # Получаем имя файла без полного пути\n",
        "            file_name = file.split(\"/\")[-1]\n",
        "            # Добавляем файл в архив с его именем\n",
        "            zipf.write(file, file_name)\n",
        "\n",
        "# Пример использования функции:\n",
        "file_list = [\n",
        "    \"/путь/к/файлу1.txt\",\n",
        "    \"/путь/к/файлу2.jpg\",\n",
        "    \"/путь/к/файлу3.pdf\"\n",
        "]\n",
        "\n",
        "archive_name = \"мой_архив.zip\"\n",
        "\n",
        "create_archive(file_list, archive_name)"
      ],
      "metadata": {
        "id": "PyM3HGAE9hPe"
      },
      "execution_count": null,
      "outputs": []
    },
    {
      "cell_type": "markdown",
      "source": [
        "## Просмотр изображений"
      ],
      "metadata": {
        "id": "zBVj7ze8jrmo"
      }
    },
    {
      "cell_type": "code",
      "source": [
        "def compute_skew1(img1): # определние не большого поворота отностильно горизонта с помощью готового решения deskew\n",
        "    grayscale_image = cv2.cvtColor(img1, cv2.COLOR_BGR2GRAY)\n",
        "    angle = determine_skew(grayscale_image)\n",
        "    print(angle)\n",
        "    # определили угол и повернем на него изображение\n",
        "    img_rot = img1.copy()\n",
        "    height, width = img_rot.shape[:2]\n",
        "    # get the center coordinates of the image to create the 2D rotation matrix\n",
        "    center = (width/2, height/2)\n",
        "    rotate_matrix = cv2.getRotationMatrix2D(center=center, angle=angle, scale=1)\n",
        "    img_rot = cv2.warpAffine(src=img_rot, M=rotate_matrix, dsize=(width, height))\n",
        "\n",
        "    return img_rot"
      ],
      "metadata": {
        "id": "oOkpKZvaFm6D"
      },
      "execution_count": null,
      "outputs": []
    },
    {
      "cell_type": "code",
      "source": [
        "img_index = 995\n",
        "image_path = directory + '/' + os.listdir(directory)[img_index]\n",
        "\n",
        "image = cv2.imread(image_path)\n",
        "img_rot = compute_skew1(image)\n",
        "\n",
        "plt.imshow(image)\n",
        "plt.axis('off')\n",
        "plt.show()\n",
        "\n",
        "plt.imshow(img_rot)\n",
        "plt.axis('off')\n",
        "plt.show()"
      ],
      "metadata": {
        "id": "1fFI8NCkFni2"
      },
      "execution_count": null,
      "outputs": []
    },
    {
      "cell_type": "code",
      "execution_count": null,
      "metadata": {
        "id": "XYJ0TWimA7fP"
      },
      "outputs": [],
      "source": [
        "img_index = 995\n",
        "image_path = directory + '/' + os.listdir(directory)[img_index]\n",
        "\n",
        "img = Image.open(image_path)\n",
        "plt.imshow(img)\n",
        "plt.axis('off')\n",
        "plt.show()\n",
        "\n",
        "# result = is_cropped_image(image_path)\n",
        "# print(result)"
      ]
    },
    {
      "cell_type": "code",
      "source": [
        "from matplotlib.patches import Rectangle\n",
        "\n",
        "def display_images_in_table(image_paths, num_columns=4, image_size=(6, 6), border_color='black', border_width=5, title=False, starting_index=0, show_graph=False):\n",
        "    num_images = len(image_paths)\n",
        "    num_rows = math.ceil(num_images / num_columns)\n",
        "\n",
        "    fig, axes = plt.subplots(num_rows, num_columns, figsize=(num_columns * image_size[0], num_rows * image_size[1]))\n",
        "    if title == True:\n",
        "        fig.suptitle(title, fontsize=48, y=1.005)\n",
        "    else:\n",
        "        fig.suptitle(f\"{starting_index}-{starting_index+50}\", fontsize=48, y=1.005)\n",
        "\n",
        "    for i, ax in enumerate(axes.flat):\n",
        "        if i < num_images:\n",
        "            img_path = image_paths[i]\n",
        "            img = Image.open(img_path)\n",
        "\n",
        "            # Добавляем обводку вокруг изображения\n",
        "            border = Rectangle((0, 0), img.width, img.height, linewidth=border_width, edgecolor=border_color, facecolor='none')\n",
        "            ax.add_patch(border)\n",
        "\n",
        "            ax.imshow(img)\n",
        "            # ax.set_title(f\"Изображение {i + 1}\", fontsize=24)\n",
        "            ax.set_title(f\"{starting_index+i}\", fontsize=24)\n",
        "            ax.axis('off')\n",
        "        else:\n",
        "            ax.axis('off')\n",
        "\n",
        "    plt.tight_layout()\n",
        "    if show_graph == True:\n",
        "        plt.show()\n",
        "    else:\n",
        "        plt.savefig(f\"/content/drive/MyDrive/imgs/{starting_index}-{starting_index+50}.png\")\n",
        "\n",
        "    plt.clf()"
      ],
      "metadata": {
        "id": "8ARNvpgFJ15F"
      },
      "execution_count": null,
      "outputs": []
    },
    {
      "cell_type": "code",
      "source": [
        "# Пример использования:\n",
        "files_list = os.listdir(directory)\n",
        "image_paths = [directory + '/' + i for i in df1.sort_values(by='white_pixel_%', ascending=True)['filename']]\n",
        "#image_paths = [directory + '/' + i for i in df1.sort_values(by='height', ascending=False)['filename']]\n",
        "num_columns = 5  # Число столбцов в таблице (можно изменить)\n",
        "border_color = 'blue'  # Цвет обводки\n",
        "border_width = 5  # Ширина обводки\n",
        "image_size = (6, 6)\n",
        "\n",
        "for index in range(0, (len(files_list) // 50) + 1):\n",
        "    print(index, index*50)\n",
        "    display_images_in_table(image_paths[50*index:50*(index+1)], num_columns, image_size, border_color, border_width, False, index*50, True)\n",
        "    if index == 4:\n",
        "        break"
      ],
      "metadata": {
        "id": "mMcUV-GH1WNZ"
      },
      "execution_count": null,
      "outputs": []
    },
    {
      "cell_type": "code",
      "source": [
        "# Пример использования:\n",
        "files_list = os.listdir(directory)\n",
        "image_paths = [directory + '/' + i for i in df1.sort_values(by='white_pixel_%', ascending=False)['filename']]\n",
        "#image_paths = [directory + '/' + i for i in df1.sort_values(by='height', ascending=False)['filename']]\n",
        "num_columns = 5  # Число столбцов в таблице (можно изменить)\n",
        "border_color = 'blue'  # Цвет обводки\n",
        "border_width = 5  # Ширина обводки\n",
        "image_size = (6, 6)\n",
        "\n",
        "for index in range(0, (len(files_list) // 50) + 1):\n",
        "    print(index, index*50)\n",
        "    display_images_in_table(image_paths[50*index:50*(index+1)], num_columns, image_size, border_color, border_width, False, index*50, True)\n",
        "    if index == 4:\n",
        "        break"
      ],
      "metadata": {
        "id": "xiyn3AuXyTtH"
      },
      "execution_count": null,
      "outputs": []
    },
    {
      "cell_type": "code",
      "source": [
        "# Пример использования:\n",
        "files_list = os.listdir(directory)\n",
        "#image_paths = [directory + '/' + i for i in df1.sort_values(by='white_pixel_%', ascending=False)['filename']]\n",
        "image_paths = [directory + '/' + i for i in df1.sort_values(by='height', ascending=False)['filename']]\n",
        "num_columns = 5  # Число столбцов в таблице (можно изменить)\n",
        "border_color = 'blue'  # Цвет обводки\n",
        "border_width = 5  # Ширина обводки\n",
        "image_size = (6, 6)\n",
        "\n",
        "for index in range(0, (len(files_list) // 50) + 1):\n",
        "    print(index, index*50)\n",
        "    display_images_in_table(image_paths[50*index:50*(index+1)], num_columns, image_size, border_color, border_width, False, index*50, True)\n",
        "    if index == 4:\n",
        "        break"
      ],
      "metadata": {
        "id": "Ib8-dCD7ui9q"
      },
      "execution_count": null,
      "outputs": []
    },
    {
      "cell_type": "code",
      "source": [
        "# Пример использования:\n",
        "files_list = os.listdir(directory)\n",
        "image_paths = [directory + '/' + i for i in files_list]\n",
        "num_columns = 5  # Число столбцов в таблице (можно изменить)\n",
        "border_color = 'blue'  # Цвет обводки\n",
        "border_width = 5  # Ширина обводки\n",
        "image_size = (6, 6)\n",
        "\n",
        "for index in range(0, (len(files_list) // 50) + 1):\n",
        "    print(index, index*50)\n",
        "    display_images_in_table(image_paths[50*index:50*(index+1)], num_columns, image_size, border_color, border_width, False, index*50, True)\n",
        "    if index == 4:\n",
        "        break"
      ],
      "metadata": {
        "id": "v1cA2kwKJ7iZ"
      },
      "execution_count": null,
      "outputs": []
    },
    {
      "cell_type": "code",
      "execution_count": null,
      "metadata": {
        "id": "i4YoFmqAUTNW"
      },
      "outputs": [],
      "source": [
        "# Пример использования:\n",
        "image_paths = [directory + '/' + i for i in list(df[df['Ориентация'] == 0]['Название файла'])]\n",
        "num_columns = 5  # Число столбцов в таблице (можно изменить)\n",
        "border_color = 'blue'  # Цвет обводки\n",
        "border_width = 5  # Ширина обводки\n",
        "image_size = (8, 8)\n",
        "\n",
        "display_images_in_table(image_paths, num_columns, image_size, border_color, border_width)"
      ]
    },
    {
      "cell_type": "code",
      "execution_count": null,
      "metadata": {
        "id": "YgTi4Y8TbdcV"
      },
      "outputs": [],
      "source": [
        "image_paths = [directory + '/' + i for i in list(df[df['Обрезан'] == 1]['Название файла'])]\n",
        "num_columns = 5  # Число столбцов в таблице (можно изменить)\n",
        "border_color = 'blue'  # Цвет обводки\n",
        "border_width = 5  # Ширина обводки\n",
        "image_size = (8, 8)\n",
        "\n",
        "display_images_in_table(image_paths, num_columns, image_size, border_color, border_width, 'Все обрезанные (дефектные) изображения')"
      ]
    },
    {
      "cell_type": "code",
      "execution_count": null,
      "metadata": {
        "id": "HXvOJdxgLbAS"
      },
      "outputs": [],
      "source": [
        "img = image.load_img(directory + '/' + random.choice(os.listdir(directory)))\n",
        "# image.img_to_array(img)"
      ]
    },
    {
      "cell_type": "code",
      "execution_count": null,
      "metadata": {
        "id": "ynabyDT_wLD3"
      },
      "outputs": [],
      "source": [
        "img = image.load_img(directory + '/' + '2022_0_12_17_18_8_e67afc64-fd6c-4e50-9686-79bdc95f3818.jpeg')\n",
        "plt.figure(figsize=(14, 14))\n",
        "plt.imshow(img)\n",
        "plt.axis('off')\n",
        "plt.show()"
      ]
    },
    {
      "cell_type": "code",
      "execution_count": null,
      "metadata": {
        "id": "j7EJzV6hn_Sy"
      },
      "outputs": [],
      "source": [
        "img_index = 0\n",
        "img = image.load_img(directory + '/' + os.listdir(directory)[img_index])\n",
        "plt.figure(figsize=(14, 14))\n",
        "plt.imshow(img)\n",
        "plt.axis('off')\n",
        "plt.show()"
      ]
    },
    {
      "cell_type": "code",
      "execution_count": null,
      "metadata": {
        "id": "xxxcnpMPhmHQ"
      },
      "outputs": [],
      "source": [
        "# Пример использования:\n",
        "# image_paths = [directory + '/' + i for i in list(df[500:700]['Название файла'])]\n",
        "files_list = os.listdir(directory)\n",
        "image_paths = [directory + '/' + i for i in files_list[1250:1500]]\n",
        "num_columns = 5  # Число столбцов в таблице (можно изменить)\n",
        "border_color = 'blue'  # Цвет обводки\n",
        "border_width = 5  # Ширина обводки\n",
        "image_size = (5, 5)\n",
        "\n",
        "display_images_in_table(image_paths, num_columns, image_size, border_color, border_width)"
      ]
    },
    {
      "cell_type": "code",
      "source": [
        "df[:200]"
      ],
      "metadata": {
        "id": "wU67XusPlAZO"
      },
      "execution_count": null,
      "outputs": []
    },
    {
      "cell_type": "markdown",
      "metadata": {
        "id": "qSJ5D945dqiZ"
      },
      "source": [
        "# Модель поворота изображений"
      ]
    },
    {
      "cell_type": "markdown",
      "source": [
        "## *Подготовка данных*"
      ],
      "metadata": {
        "id": "ceLPSS0LPMwL"
      }
    },
    {
      "cell_type": "code",
      "source": [
        "# Создаём выборку только из вертикальных изображений\n",
        "files_dirs = []\n",
        "# dont_load_index = [i-1 for i in [184, 185, 171, 157, 129, 12]] + [i+200-1 for i in [162, 136, 70, 48]] + [i+400-1 for i in [78,43]]\n",
        "# dont_load_index = [i-1 for i in [184, 185, 171, 157, 129, 12]] + [i+200-1 for i in [162, 136, 70, 48]] + [i+400-1 for i in [78,43]] + [i+500-1 for i in [39, 27, 25]] + [i+700-1 for i in [193,79,55]] + [i+900-1 for i in [83, 60]]\n",
        "dont_load_index = [1000-1 + i for i in [246,241,240,238,208,175,114,92,85,78,51,48,46,42,40,35,1]] # + [1250-1 + i for i in [245,240,188,178,135,102]]\n",
        "\n",
        "files_list = os.listdir(directory)\n",
        "for i in range(1000,1500):\n",
        "    if i not in dont_load_index:\n",
        "        files_dirs.append(directory + '/' + files_list[i])\n",
        "\n",
        "print(files_dirs[0])\n",
        "print(len(files_dirs))"
      ],
      "metadata": {
        "id": "-KqllJfor4f8"
      },
      "execution_count": null,
      "outputs": []
    },
    {
      "cell_type": "code",
      "source": [
        "# Размер, к которому вы хотите привести изображения\n",
        "target_size = (224, 224)\n",
        "\n",
        "image_list = []\n",
        "for filename in files_dirs:\n",
        "    image = Image.open(filename)\n",
        "    image = image.resize(target_size)  # Изменение размера\n",
        "    # image = np.array(image) / 255.0\n",
        "    image_list.append(image)\n",
        "\n",
        "# Поворот изображений и добавление их в общую выборку\n",
        "rotated_images = []\n",
        "for image in image_list:\n",
        "    original_image = image.copy()\n",
        "    rotated_images.append(original_image)  # Оригинальное изображение\n",
        "\n",
        "    rotated_90 = image.rotate(90)\n",
        "    rotated_images.append(rotated_90)  # Поворот на 90°\n",
        "\n",
        "    rotated_minus_90 = image.rotate(-90)\n",
        "    rotated_images.append(rotated_minus_90)  # Поворот на -90°\n",
        "\n",
        "    rotated_180 = image.rotate(180)\n",
        "    rotated_images.append(rotated_180)  # Поворот на 180°\n",
        "\n",
        "del image_list\n",
        "\n",
        "# Перевод в numpy массив и нормализация (диапазон [0, 1])\n",
        "rotated_images = [np.array(image) / 255.0 for image in rotated_images]\n",
        "rotated_images = [i for i in rotated_images if i.shape == (224, 224, 3)]\n",
        "rotated_images = np.array(rotated_images)\n",
        "\n",
        "# Разметка изображений\n",
        "labels = [0, 1, 2, 3] * (len(rotated_images) // 4)\n",
        "\n",
        "# Перевод меток в формат One-Hot Encoding\n",
        "one_hot_labels = np.array(one_hot(labels, depth=4))"
      ],
      "metadata": {
        "id": "HcWkd0QexMSq"
      },
      "execution_count": null,
      "outputs": []
    },
    {
      "cell_type": "code",
      "source": [
        "# Сохранить данные\n",
        "np.save('/content/drive/MyDrive/Colab/Базы/Стажировка 2023/Распознавание информации на платежных поручениях/BaseMobileNetV3/one_hot_labels.npy', one_hot_labels)\n",
        "np.save('/content/drive/MyDrive/Colab/Базы/Стажировка 2023/Распознавание информации на платежных поручениях/BaseMobileNetV3/rotated_images.npy', rotated_images)"
      ],
      "metadata": {
        "id": "-jVtT1bAE7Wz"
      },
      "execution_count": null,
      "outputs": []
    },
    {
      "cell_type": "code",
      "source": [
        "# Сохранить данные\n",
        "np.save('/content/drive/MyDrive/Colab/Базы/Стажировка 2023/Распознавание информации на платежных поручениях/BaseMobileNetV3/one_hot_labels_l.npy', one_hot_labels)\n",
        "np.save('/content/drive/MyDrive/Colab/Базы/Стажировка 2023/Распознавание информации на платежных поручениях/BaseMobileNetV3/rotated_images_l.npy', rotated_images)"
      ],
      "metadata": {
        "id": "Qzj2dys62du3"
      },
      "execution_count": null,
      "outputs": []
    },
    {
      "cell_type": "code",
      "source": [
        "# Загрузить данные\n",
        "one_hot_labels = np.load('/content/drive/MyDrive/Colab/Базы/Стажировка 2023/Распознавание информации на платежных поручениях/BaseMobileNetV3/one_hot_labels.npy')\n",
        "rotated_images = np.load('/content/drive/MyDrive/Colab/Базы/Стажировка 2023/Распознавание информации на платежных поручениях/BaseMobileNetV3/rotated_images.npy')"
      ],
      "metadata": {
        "id": "scP0BcT-SCiv"
      },
      "execution_count": null,
      "outputs": []
    },
    {
      "cell_type": "code",
      "source": [
        "# Загрузить данные\n",
        "one_hot_labels = np.load('/content/drive/MyDrive/Colab/Базы/Стажировка 2023/Распознавание информации на платежных поручениях/BaseMobileNetV3/one_hot_labels_l.npy')\n",
        "rotated_images = np.load('/content/drive/MyDrive/Colab/Базы/Стажировка 2023/Распознавание информации на платежных поручениях/BaseMobileNetV3/rotated_images_l.npy')"
      ],
      "metadata": {
        "id": "fki9DZzaEjqC"
      },
      "execution_count": null,
      "outputs": []
    },
    {
      "cell_type": "code",
      "source": [
        "# Создание обучающей и тестовой выборок\n",
        "xTrain, xTest, yTrain, yTest = train_test_split(rotated_images, one_hot_labels, test_size=0.2, random_state=42)\n",
        "del one_hot_labels, rotated_images"
      ],
      "metadata": {
        "id": "tgDpsC7G0f9F"
      },
      "execution_count": null,
      "outputs": []
    },
    {
      "cell_type": "code",
      "source": [
        "x = np.vstack((xTrain, xTest))\n",
        "y = np.vstack((yTrain, yTest))"
      ],
      "metadata": {
        "id": "6c0UPnxWmDOL"
      },
      "execution_count": null,
      "outputs": []
    },
    {
      "cell_type": "code",
      "source": [
        "import gc\n",
        "gc.collect()"
      ],
      "metadata": {
        "id": "ljeUJjyi8eIr"
      },
      "execution_count": null,
      "outputs": []
    },
    {
      "cell_type": "markdown",
      "source": [
        "## *Модель MobileNetV3Small*\n",
        "> Лучшая точность 98.72%"
      ],
      "metadata": {
        "id": "clWImkEGQVF0"
      }
    },
    {
      "cell_type": "code",
      "source": [
        "def get_MobileNetV3Small_model():\n",
        "    # Загрузка предобученной модели MobileNetV3-small без верхних слоев\n",
        "    base_model = MobileNetV3Small(weights='imagenet', include_top=False)\n",
        "\n",
        "    # Добавление своих верхних слоев для многоклассовой классификации\n",
        "    x = base_model.output\n",
        "    x = GlobalAveragePooling2D()(x)\n",
        "    x = Dense(128, activation='relu')(x)                # Полносвязный слой\n",
        "    x = Dense(64, activation='relu')(x)                 # Полносвязный слой\n",
        "    predictions = Dense(4, activation='softmax')(x)     # 4 - количество классов\n",
        "\n",
        "    model = Model(inputs=base_model.input, outputs=predictions)\n",
        "\n",
        "    # Замораживаем слои базовой модели\n",
        "    for layer in base_model.layers:\n",
        "        layer.trainable = False\n",
        "\n",
        "    # Компиляция модели\n",
        "    model.compile(optimizer=Adam(learning_rate=0.001), loss='categorical_crossentropy', metrics=['accuracy'])\n",
        "\n",
        "    return model\n",
        "\n",
        "def get_MobileNetV3Small_model_2():\n",
        "    # Загрузка предобученной модели MobileNetV3-small без верхних слоев\n",
        "    base_model = MobileNetV3Small(weights='imagenet', include_top=False)\n",
        "\n",
        "    # Добавление своих верхних слоев для многоклассовой классификации\n",
        "    x = base_model.output\n",
        "    x = GlobalAveragePooling2D()(x)\n",
        "    x = Dense(256, activation='relu')(x)                # Полносвязный слой\n",
        "    x = Dense(128, activation='relu')(x)                 # Полносвязный слой\n",
        "    x = Dense(64, activation='relu')(x)                 # Полносвязный слой\n",
        "    predictions = Dense(4, activation='softmax')(x)     # 4 - количество классов\n",
        "\n",
        "    model = Model(inputs=base_model.input, outputs=predictions)\n",
        "\n",
        "    # Замораживаем слои базовой модели\n",
        "    for layer in base_model.layers:\n",
        "        layer.trainable = False\n",
        "\n",
        "    # Компиляция модели\n",
        "    model.compile(optimizer=Adam(learning_rate=0.001), loss='categorical_crossentropy', metrics=['accuracy'])\n",
        "\n",
        "    return model\n",
        "\n",
        "def get_MobileNetV3Small_model_2():\n",
        "    # Загрузка предобученной модели MobileNetV3-small без верхних слоев\n",
        "    base_model = MobileNetV3Small(weights='imagenet', include_top=False)\n",
        "\n",
        "    # Добавление своих верхних слоев для многоклассовой классификации\n",
        "    x = base_model.output\n",
        "    x = GlobalAveragePooling2D()(x)\n",
        "    x = Dense(256, activation='relu')(x)                # Полносвязный слой\n",
        "    x = Dense(128, activation='relu')(x)                 # Полносвязный слой\n",
        "    x = Dense(64, activation='relu')(x)                 # Полносвязный слой\n",
        "    predictions = Dense(4, activation='softmax')(x)     # 4 - количество классов\n",
        "\n",
        "    model = Model(inputs=base_model.input, outputs=predictions)\n",
        "\n",
        "    # Замораживаем слои базовой модели\n",
        "    for layer in base_model.layers:\n",
        "        layer.trainable = False\n",
        "\n",
        "    # Компиляция модели\n",
        "    model.compile(optimizer=Adam(learning_rate=0.001), loss='categorical_crossentropy', metrics=['accuracy'])\n",
        "\n",
        "    return model\n",
        "\n",
        "def print_model_acc(model):\n",
        "    # Оценка модели на тестовой выборке\n",
        "    evaluation = model.evaluate(xTest, yTest)\n",
        "    accuracy = evaluation[1]\n",
        "    print(f\"Точность модели на тестовой выборке: {accuracy * 100:.2f}%\")\n",
        "\n",
        "# Для сбора мусора\n",
        "class GarbageCollectorCallback(tf.keras.callbacks.Callback):\n",
        "    def on_epoch_end(self, epoch, logs=None):\n",
        "        gc.collect()\n",
        "\n",
        "def print_train_graph(history):\n",
        "    # Построение графика обучения\n",
        "    plt.plot(history.history['accuracy'], label='Train Accuracy')\n",
        "    plt.plot(history.history['val_accuracy'], label='Validation Accuracy')\n",
        "    plt.xlabel('Epochs')\n",
        "    plt.ylabel('Accuracy')\n",
        "    plt.legend()\n",
        "    plt.show()"
      ],
      "metadata": {
        "id": "lsH_WuwIAodr"
      },
      "execution_count": null,
      "outputs": []
    },
    {
      "cell_type": "markdown",
      "source": [
        "### Обучение модель\n",
        "> Лучшая точность 98.72%"
      ],
      "metadata": {
        "id": "MkyFhjxE3CKH"
      }
    },
    {
      "cell_type": "code",
      "source": [
        "model = get_MobileNetV3Small_model()\n",
        "# model.compile(optimizer=Adam(learning_rate=0.00025), loss='categorical_crossentropy', metrics=['accuracy'])\n",
        "\n",
        "# Создание объекта ModelCheckpoint для сохранения весов\n",
        "checkpoint = ModelCheckpoint(\"best_model.h5\", monitor='val_accuracy', save_best_only=True, mode='max')\n",
        "garbage_collector = GarbageCollectorCallback()\n",
        "\n",
        "# # Загрузка лучших весов после обучения\n",
        "# model.load_weights(\"best_model.h5\")\n",
        "\n",
        "# Обучение модели с использованием ModelCheckpoint\n",
        "history = model.fit(xTrain, yTrain, validation_data=(xTest, yTest), epochs=10, batch_size=32, callbacks=[checkpoint, garbage_collector])\n",
        "\n",
        "# Загрузка лучших весов после обучения\n",
        "model.load_weights(\"best_model.h5\")\n",
        "\n",
        "print_train_graph(history)"
      ],
      "metadata": {
        "id": "tqyHOIVG3vbU"
      },
      "execution_count": null,
      "outputs": []
    },
    {
      "cell_type": "code",
      "source": [
        "# Обучение модели с использованием ModelCheckpoint\n",
        "history = model.fit(xTrain, yTrain, validation_data=(xTest, yTest), epochs=10, batch_size=32, callbacks=[checkpoint, garbage_collector])\n",
        "\n",
        "# Загрузка лучших весов после обучения\n",
        "model.load_weights(\"best_model.h5\")\n",
        "\n",
        "print_train_graph(history)"
      ],
      "metadata": {
        "id": "CwebNpvedxCF"
      },
      "execution_count": null,
      "outputs": []
    },
    {
      "cell_type": "code",
      "source": [
        "# Обучение модели с использованием ModelCheckpoint\n",
        "history = model.fit(xTrain, yTrain, validation_data=(xTest, yTest), epochs=10, batch_size=32, callbacks=[checkpoint, garbage_collector])\n",
        "\n",
        "# Загрузка лучших весов после обучения\n",
        "model.load_weights(\"best_model.h5\")\n",
        "\n",
        "print_train_graph(history)"
      ],
      "metadata": {
        "id": "ZZVYOADyehOu"
      },
      "execution_count": null,
      "outputs": []
    },
    {
      "cell_type": "code",
      "source": [
        "def train_model(model):\n",
        "    # Обучение модели с использованием ModelCheckpoint\n",
        "    history = model.fit(xTrain, yTrain, validation_data=(xTest, yTest), epochs=10, batch_size=32, callbacks=[checkpoint, garbage_collector])\n",
        "\n",
        "    # Загрузка лучших весов после обучения\n",
        "    model.load_weights(\"best_model.h5\")\n",
        "\n",
        "    # Построение графика обучения\n",
        "    plt.plot(history.history['accuracy'], label='Train Accuracy')\n",
        "    plt.plot(history.history['val_accuracy'], label='Validation Accuracy')\n",
        "    plt.xlabel('Epochs')\n",
        "    plt.ylabel('Accuracy')\n",
        "    plt.legend()\n",
        "    plt.show()\n",
        "\n",
        "    return model"
      ],
      "metadata": {
        "id": "GDvXF1uUgC1d"
      },
      "execution_count": null,
      "outputs": []
    },
    {
      "cell_type": "code",
      "source": [
        "model.compile(optimizer=Adam(learning_rate=0.0005), loss='categorical_crossentropy', metrics=['accuracy'])\n",
        "\n",
        "# Обучение модели с использованием ModelCheckpoint\n",
        "history = model.fit(xTrain, yTrain, validation_data=(xTest, yTest), epochs=10, batch_size=32, callbacks=[checkpoint, garbage_collector])\n",
        "\n",
        "# Загрузка лучших весов после обучения\n",
        "model.load_weights(\"best_model.h5\")\n",
        "\n",
        "print_train_graph(history)"
      ],
      "metadata": {
        "id": "4WTAKCxIgdTS"
      },
      "execution_count": null,
      "outputs": []
    },
    {
      "cell_type": "code",
      "source": [
        "# Обучение модели с использованием ModelCheckpoint\n",
        "history = model.fit(xTrain, yTrain, validation_data=(xTest, yTest), epochs=10, batch_size=64, callbacks=[checkpoint, garbage_collector])\n",
        "\n",
        "# Загрузка лучших весов после обучения\n",
        "model.load_weights(\"best_model.h5\")\n",
        "\n",
        "print_train_graph(history)"
      ],
      "metadata": {
        "id": "wNzeInxmhHW1"
      },
      "execution_count": null,
      "outputs": []
    },
    {
      "cell_type": "code",
      "source": [
        "# Обучение модели с использованием ModelCheckpoint\n",
        "history = model.fit(xTrain, yTrain, validation_data=(xTest, yTest), epochs=10, batch_size=72, callbacks=[checkpoint, garbage_collector])\n",
        "\n",
        "# Загрузка лучших весов после обучения\n",
        "model.load_weights(\"best_model.h5\")\n",
        "\n",
        "print_train_graph(history)"
      ],
      "metadata": {
        "id": "dxx4XFGZjJ0h"
      },
      "execution_count": null,
      "outputs": []
    },
    {
      "cell_type": "code",
      "source": [
        "# Обучение модели с использованием ModelCheckpoint\n",
        "history = model.fit(xTrain, yTrain, validation_data=(xTest, yTest), epochs=10, batch_size=100, callbacks=[checkpoint, garbage_collector])\n",
        "\n",
        "# Загрузка лучших весов после обучения\n",
        "model.load_weights(\"best_model.h5\")\n",
        "\n",
        "print_train_graph(history)"
      ],
      "metadata": {
        "id": "8rcGVNovkPCP"
      },
      "execution_count": null,
      "outputs": []
    },
    {
      "cell_type": "code",
      "source": [
        "# Оценка модели на тестовой выборке\n",
        "evaluation = model.evaluate(xTest, yTest)\n",
        "\n",
        "# Оценка возвращает список метрик, установленных при компиляции модели\n",
        "# В данном случае, мы используем метрику 'accuracy'\n",
        "\n",
        "accuracy = evaluation[1]\n",
        "print(f\"Точность модели на тестовой выборке: {accuracy * 100:.2f}%\")"
      ],
      "metadata": {
        "id": "Gj35Ck8e2zfl"
      },
      "execution_count": null,
      "outputs": []
    },
    {
      "cell_type": "markdown",
      "source": [
        "### Обучение более мощьной модели\n",
        "> Лучшая точность 98.47%"
      ],
      "metadata": {
        "id": "tG69wHzWmaQM"
      }
    },
    {
      "cell_type": "code",
      "source": [
        "model = get_MobileNetV3Small_model_2()\n",
        "\n",
        "# Создание объекта ModelCheckpoint для сохранения весов\n",
        "checkpoint = ModelCheckpoint(\"best_model_v2.h5\", monitor='val_accuracy', save_best_only=True, mode='max')\n",
        "garbage_collector = GarbageCollectorCallback()\n",
        "\n",
        "# # Загрузка лучших весов после обучения\n",
        "# model.load_weights(\"best_model_v2.h5\")\n",
        "\n",
        "# Обучение модели с использованием ModelCheckpoint\n",
        "history = model.fit(xTrain, yTrain, validation_data=(xTest, yTest), epochs=10, batch_size=64, callbacks=[checkpoint, garbage_collector])\n",
        "\n",
        "# Загрузка лучших весов после обучения\n",
        "model.load_weights(\"best_model_v2.h5\")\n",
        "\n",
        "print_train_graph(history)"
      ],
      "metadata": {
        "id": "sP2ePYghG01W"
      },
      "execution_count": null,
      "outputs": []
    },
    {
      "cell_type": "code",
      "source": [
        "# Обучение модели с использованием ModelCheckpoint\n",
        "history = model.fit(xTrain, yTrain, validation_data=(xTest, yTest), epochs=10, batch_size=32, callbacks=[checkpoint, garbage_collector])\n",
        "\n",
        "# Загрузка лучших весов после обучения\n",
        "model.load_weights(\"best_model_v2.h5\")\n",
        "\n",
        "print_train_graph(history)"
      ],
      "metadata": {
        "id": "MBaEA7yImYhn"
      },
      "execution_count": null,
      "outputs": []
    },
    {
      "cell_type": "code",
      "source": [
        "# Обучение модели с использованием ModelCheckpoint\n",
        "history = model.fit(xTrain, yTrain, validation_data=(xTest, yTest), epochs=10, batch_size=32, callbacks=[checkpoint, garbage_collector])\n",
        "\n",
        "# Загрузка лучших весов после обучения\n",
        "model.load_weights(\"best_model_v2.h5\")\n",
        "\n",
        "print_train_graph(history)"
      ],
      "metadata": {
        "id": "7RlKlSemnSng"
      },
      "execution_count": null,
      "outputs": []
    },
    {
      "cell_type": "code",
      "source": [
        "model.compile(optimizer=Adam(learning_rate=0.0005), loss='categorical_crossentropy', metrics=['accuracy'])                                  # Компиляция модели\n",
        "history = model.fit(xTrain, yTrain, validation_data=(xTest, yTest), epochs=10, batch_size=32, callbacks=[checkpoint, garbage_collector])    # Обучение модели\n",
        "model.load_weights(\"best_model_v2.h5\")                                                                                                      # Загрузка весов\n",
        "print_train_graph(history)                                                                                                                  # График"
      ],
      "metadata": {
        "id": "GYUwL_Hnoc5H"
      },
      "execution_count": null,
      "outputs": []
    },
    {
      "cell_type": "code",
      "source": [
        "model.compile(optimizer=Adam(learning_rate=0.0005), loss='categorical_crossentropy', metrics=['accuracy'])                                  # Компиляция модели\n",
        "history = model.fit(xTrain, yTrain, validation_data=(xTest, yTest), epochs=10, batch_size=32, callbacks=[checkpoint, garbage_collector])    # Обучение модели\n",
        "model.load_weights(\"best_model_v2.h5\")                                                                                                      # Загрузка весов\n",
        "print_train_graph(history)                                                                                                                  # График"
      ],
      "metadata": {
        "id": "aXPSKjZfqTOE"
      },
      "execution_count": null,
      "outputs": []
    },
    {
      "cell_type": "code",
      "source": [
        "model.compile(optimizer=Adam(learning_rate=0.00025), loss='categorical_crossentropy', metrics=['accuracy'])\n",
        "\n",
        "# Обучение модели с использованием ModelCheckpoint\n",
        "history = model.fit(xTrain, yTrain, validation_data=(xTest, yTest), epochs=10, batch_size=32, callbacks=[checkpoint, garbage_collector])\n",
        "\n",
        "# Загрузка лучших весов после обучения\n",
        "model.load_weights(\"best_model.h5\")\n",
        "\n",
        "print_train_graph(history)"
      ],
      "metadata": {
        "id": "aTKCvQn_OI_S"
      },
      "execution_count": null,
      "outputs": []
    },
    {
      "cell_type": "code",
      "source": [
        "print_model_acc(model)"
      ],
      "metadata": {
        "id": "ipXZZ7PPf63k"
      },
      "execution_count": null,
      "outputs": []
    },
    {
      "cell_type": "markdown",
      "source": [
        "## *Обучение архитектуры autokeras*\n",
        "> Лучшая точность 99.49%\n",
        "\n",
        "> **Валидационная выборка 99.64%**"
      ],
      "metadata": {
        "id": "pYi212X5oUKo"
      }
    },
    {
      "cell_type": "code",
      "source": [
        "pip install autokeras"
      ],
      "metadata": {
        "id": "5fIi6o1tTFLs"
      },
      "execution_count": null,
      "outputs": []
    },
    {
      "cell_type": "code",
      "source": [
        "import autokeras as ak\n",
        "\n",
        "# Создайте экземпляр класса ImageClassifier\n",
        "clf = ak.ImageClassifier(max_trials=1)  # Максимальное количество попыток\n",
        "\n",
        "# Обучите модель\n",
        "clf.fit(xTrain, yTrain, epochs=3)  # x_train - обучающие изображения, y_train - метки классов"
      ],
      "metadata": {
        "id": "ddSngG0NTHS8"
      },
      "execution_count": null,
      "outputs": []
    },
    {
      "cell_type": "code",
      "source": [
        "import autokeras as ak\n",
        "\n",
        "# Создаём ImageClassifier\n",
        "clf = ak.ImageClassifier(max_trials=1)\n",
        "\n",
        "# Обучаем модель\n",
        "clf.fit(xTrain, yTrain, epochs=5)\n",
        "\n",
        "# Результаты модели\n",
        "results = clf.evaluate(xTest, yTest)\n",
        "print(results)\n",
        "\n",
        "# Экспортируем модель\n",
        "best_model = clf.export_model()\n",
        "best_model.summary()\n",
        "\n",
        "# Сохраняем модель\n",
        "best_model.save('best_model_auto.h5')"
      ],
      "metadata": {
        "id": "2aJxX7Z80z5r"
      },
      "execution_count": null,
      "outputs": []
    },
    {
      "cell_type": "code",
      "source": [
        "import tensorflow as tf\n",
        "\n",
        "def create_custom_neural_network(input_shape, num_classes, block_type=\"vanilla\", normalize=True, augment=False,\n",
        "                                kernel_size=3, num_blocks=1, num_layers=2, max_pooling=True, separable=False,\n",
        "                                dropout=0.25, filters=(32, 64), reduction_type=\"flatten\", dropout_head=0.5,\n",
        "                                optimizer='adam', learning_rate=0.001):\n",
        "    # Создаем входной слой\n",
        "    input_layer = tf.keras.layers.Input(shape=input_shape)\n",
        "\n",
        "    # Подсистема изображения\n",
        "    x = input_layer\n",
        "    if block_type == \"vanilla\":\n",
        "        if normalize:\n",
        "            x = tf.keras.layers.BatchNormalization()(x)\n",
        "        if augment:\n",
        "            x = tf.keras.layers.experimental.preprocessing.RandomFlip(\"horizontal\")(x)\n",
        "            x = tf.keras.layers.experimental.preprocessing.RandomRotation(0.1)(x)\n",
        "        for _ in range(num_blocks):\n",
        "            for _ in range(num_layers):\n",
        "                x = tf.keras.layers.Conv2D(filters[0], kernel_size, padding='same', activation='relu')(x)\n",
        "                if max_pooling:\n",
        "                    x = tf.keras.layers.MaxPooling2D()(x)\n",
        "                if separable:\n",
        "                    x = tf.keras.layers.SeparableConv2D(filters[1], kernel_size, padding='same', activation='relu')(x)\n",
        "                else:\n",
        "                    x = tf.keras.layers.Conv2D(filters[1], kernel_size, padding='same', activation='relu')(x)\n",
        "                x = tf.keras.layers.BatchNormalization()(x)\n",
        "                x = tf.keras.layers.Dropout(dropout)(x)\n",
        "\n",
        "    # Голова классификации\n",
        "    if reduction_type == \"flatten\":\n",
        "        x = tf.keras.layers.Flatten()(x)\n",
        "    else:\n",
        "        x = tf.keras.layers.GlobalAveragePooling2D()(x)\n",
        "    x = tf.keras.layers.Dropout(dropout_head)(x)\n",
        "    output_layer = tf.keras.layers.Dense(num_classes, activation='softmax')(x)\n",
        "\n",
        "    # Создаем модель\n",
        "    model = tf.keras.Model(inputs=input_layer, outputs=output_layer)\n",
        "\n",
        "    # Компилируем модель с выбранным оптимизатором и скоростью обучения\n",
        "    model.compile(optimizer=optimizer, loss='categorical_crossentropy', metrics=['accuracy'])\n",
        "\n",
        "    return model\n",
        "\n",
        "# Пример использования функции для создания модели\n",
        "input_shape = (224, 224, 3)  # Форма входных изображений\n",
        "num_classes = 4  # Количество классов\n",
        "model = create_custom_neural_network(input_shape, num_classes)\n",
        "model.summary()"
      ],
      "metadata": {
        "id": "LyqVAWkaan2T"
      },
      "execution_count": null,
      "outputs": []
    },
    {
      "cell_type": "code",
      "source": [
        "def print_model_acc(model):\n",
        "    # Оценка модели на тестовой выборке\n",
        "    evaluation = model.evaluate(xTest, yTest)\n",
        "    accuracy = evaluation[1]\n",
        "    print(f\"Точность модели на тестовой выборке: {accuracy * 100:.2f}%\")\n",
        "\n",
        "# Для сбора мусора\n",
        "class GarbageCollectorCallback(tf.keras.callbacks.Callback):\n",
        "    def on_epoch_end(self, epoch, logs=None):\n",
        "        gc.collect()\n",
        "\n",
        "def print_train_graph(history):\n",
        "    # Построение графика обучения\n",
        "    plt.plot(history.history['accuracy'], label='Train Accuracy')\n",
        "    plt.plot(history.history['val_accuracy'], label='Validation Accuracy')\n",
        "    plt.xlabel('Epochs')\n",
        "    plt.ylabel('Accuracy')\n",
        "    plt.legend()\n",
        "    plt.show()\n",
        "\n",
        "# Создание объекта ModelCheckpoint для сохранения весов\n",
        "checkpoint = ModelCheckpoint(\"best_model_auto.h5\", monitor='val_accuracy', save_best_only=True, mode='max')\n",
        "garbage_collector = GarbageCollectorCallback()\n",
        "\n",
        "# # Загрузка лучших весов после обучения\n",
        "# model.load_weights(\"best_model_auto.h5\")\n",
        "\n",
        "# Обучение модели с использованием ModelCheckpoint\n",
        "history = model.fit(xTrain, yTrain, validation_data=(xTest, yTest), epochs=5, batch_size=32, callbacks=[checkpoint])\n",
        "\n",
        "# Загрузка лучших весов после обучения\n",
        "model.load_weights(\"best_model_auto.h5\")\n",
        "\n",
        "print_train_graph(history)"
      ],
      "metadata": {
        "id": "3sOqlmTTgqkH"
      },
      "execution_count": null,
      "outputs": []
    },
    {
      "cell_type": "code",
      "source": [
        "# Обучение модели с использованием ModelCheckpoint\n",
        "history = model.fit(xTrain, yTrain, validation_data=(xTest, yTest), epochs=5, batch_size=32, callbacks=[checkpoint])\n",
        "\n",
        "# Загрузка лучших весов после обучения\n",
        "model.load_weights(\"best_model_auto.h5\")\n",
        "\n",
        "print_train_graph(history)"
      ],
      "metadata": {
        "id": "zB1-9acYoPf7"
      },
      "execution_count": null,
      "outputs": []
    },
    {
      "cell_type": "code",
      "source": [
        "# Обучение модели с использованием ModelCheckpoint\n",
        "history = model.fit(xTrain, yTrain, validation_data=(xTest, yTest), epochs=5, batch_size=32, callbacks=[checkpoint])\n",
        "\n",
        "# Загрузка лучших весов после обучения\n",
        "model.load_weights(\"best_model_auto.h5\")\n",
        "\n",
        "print_train_graph(history)"
      ],
      "metadata": {
        "id": "Z9w44yKcszNy"
      },
      "execution_count": null,
      "outputs": []
    },
    {
      "cell_type": "code",
      "source": [
        "model.compile(optimizer=Adam(learning_rate=0.0001), loss='categorical_crossentropy', metrics=['accuracy'])\n",
        "# Обучение модели с использованием ModelCheckpoint\n",
        "history = model.fit(xTrain, yTrain, validation_data=(xTest, yTest), epochs=5, batch_size=32, callbacks=[checkpoint])\n",
        "model.load_weights(\"best_model_auto.h5\")\n",
        "print_train_graph(history)"
      ],
      "metadata": {
        "id": "ZmKhivr5PFN0"
      },
      "execution_count": null,
      "outputs": []
    },
    {
      "cell_type": "code",
      "source": [
        "# Оценка модели на тестовой выборке\n",
        "evaluation = model.evaluate(xTest, yTest)\n",
        "\n",
        "accuracy = evaluation[1]\n",
        "print(f\"Точность модели на тестовой выборке: {accuracy * 100:.2f}%\")"
      ],
      "metadata": {
        "id": "8_m1fTR_5EZ2"
      },
      "execution_count": null,
      "outputs": []
    },
    {
      "cell_type": "markdown",
      "source": [
        "##### **Валидационная выборка**"
      ],
      "metadata": {
        "id": "-MRpNVdVkdL9"
      }
    },
    {
      "cell_type": "code",
      "source": [
        "from keras.models import load_model\n",
        "\n",
        "# Загрузка модели\n",
        "model = load_model('/content/drive/MyDrive/Colab/Базы/Стажировка 2023/Распознавание информации на платежных поручениях/BaseMobileNetV3/my_model.h5')"
      ],
      "metadata": {
        "id": "587ZL1T6HoWV"
      },
      "execution_count": null,
      "outputs": []
    },
    {
      "cell_type": "code",
      "source": [
        "# Оценка модели на проверочной выборке\n",
        "evaluation = model.evaluate(x, y)\n",
        "\n",
        "accuracy = evaluation[1]\n",
        "print(f\"Точность модели на проверочной выборке: {accuracy * 100:.2f}%\")"
      ],
      "metadata": {
        "id": "ClEKywismGGC"
      },
      "execution_count": null,
      "outputs": []
    },
    {
      "cell_type": "code",
      "source": [
        "# Используйте метод predict для модели, чтобы получить предсказания\n",
        "predictions = model.predict(prepare_img(files_dirs[0]))  # Предполагается, что ваша модель ожидает 2D массив\n",
        "\n",
        "# Результат будет в переменной predictions, которая будет содержать предсказанные значения\n",
        "print(\"Предсказанные значения:\", predictions)"
      ],
      "metadata": {
        "id": "ZIBu1vAfI--O"
      },
      "execution_count": null,
      "outputs": []
    },
    {
      "cell_type": "markdown",
      "source": [
        "## *Проверка скорости работы лучшей модели*\n",
        "> Проверяем, сколько каждого типа изображений в базе по менению сети\n",
        "\n",
        "> **Средняя скорость обработки одного изображения - 57.75 мс.**"
      ],
      "metadata": {
        "id": "ZwnobXP53nE4"
      }
    },
    {
      "cell_type": "code",
      "source": [
        "files_dirs = [directory + '/' + i for i in os.listdir(directory)]"
      ],
      "metadata": {
        "id": "21SqBfvy6Bot"
      },
      "execution_count": null,
      "outputs": []
    },
    {
      "cell_type": "code",
      "source": [
        "def open_img(img_path):\n",
        "    return Image.open(img_path)\n",
        "\n",
        "\n",
        "def prepare_img(img_path):\n",
        "    image = Image.open(img_path)\n",
        "    if image.mode != \"RGB\":\n",
        "        image = image.convert(\"RGB\")\n",
        "    image = image.resize((224, 224))\n",
        "    image = np.array(image) / 255.0\n",
        "    image = image.reshape(1, image.shape[0], image.shape[1], image.shape[2])\n",
        "\n",
        "    return image\n",
        "\n",
        "\n",
        "def load_img(img_path, single=False):\n",
        "    # Загрузка изображения и изменение размера, для модели поворота изображений\n",
        "    img = Image.open(img_path)\n",
        "    img = img.resize((224, 224))\n",
        "    img_array = np.array(img) / 255.0\n",
        "\n",
        "    if single == True:\n",
        "        img_array = np.expand_dims(img_array, axis=0)\n",
        "\n",
        "    return img_array\n",
        "\n",
        "\n",
        "def load_img_cv2(img_path, single=False):\n",
        "    # Загрузка изображения и изменение размера, для модели поворота изображений\n",
        "    image = cv2.imread(img_path)\n",
        "    if len(image.shape) != 3 or image.shape[2] != 3:\n",
        "        image = cv2.cvtColor(image, cv2.COLOR_GRAY2BGR)\n",
        "    image = cv2.resize(image, (224, 224))\n",
        "    image_array = np.array(image) / 255.0\n",
        "\n",
        "    if single==True:\n",
        "        image_array = np.expand_dims(image_array, axis=0)\n",
        "\n",
        "    return image_array\n",
        "\n",
        "\n",
        "# def prepare_imgs(img_paths):\n",
        "#     return np.array([np.array(Image.open(img_path).resize((224, 224))) / 255.0 for img_path in img_paths])\n",
        "\n",
        "\n",
        "def prepare_imgs(img_paths):\n",
        "    return np.array([load_img_cv2(img_path) for img_path in img_paths])\n",
        "\n",
        "\n",
        "def rotate_img_by_index(img, index):\n",
        "    if index == 0:\n",
        "        return img\n",
        "    return img.rotate([0,90,-90,180][index])"
      ],
      "metadata": {
        "id": "dKjKBfho38KA"
      },
      "execution_count": null,
      "outputs": []
    },
    {
      "cell_type": "code",
      "source": [
        "def rotate_img_by_index(img, index):\n",
        "    if index == 0:\n",
        "        return img\n",
        "    return img.rotate([0,90,-90,180][index])"
      ],
      "metadata": {
        "id": "BMDh9a6ibBaU"
      },
      "execution_count": null,
      "outputs": []
    },
    {
      "cell_type": "code",
      "source": [
        "prepare_img(files_dirs[0]).shape"
      ],
      "metadata": {
        "id": "0ihD8NPT6oVP"
      },
      "execution_count": null,
      "outputs": []
    },
    {
      "cell_type": "code",
      "source": [
        "from keras.models import load_model\n",
        "\n",
        "# Загрузка модели\n",
        "model = load_model('/content/drive/MyDrive/Colab/Базы/Стажировка 2023/Распознавание информации на платежных поручениях/BaseMobileNetV3/my_model.h5')"
      ],
      "metadata": {
        "id": "DanwMesG7qJ7"
      },
      "execution_count": null,
      "outputs": []
    },
    {
      "cell_type": "code",
      "source": [
        "wrong_list = sorted([i-1 for i in [184, 185, 171, 157, 129, 12]] + [i+200-1 for i in [162, 136, 70, 48]] + [i+400-1 for i in [78,43]] + [i+500-1 for i in [39, 27, 25]] + [i+700-1 for i in [193,79,55]] + [i+900-1 for i in [83, 60]] + [1000-1 + i for i in [246,241,240,238,208,175,114,92,85,78,51,48,46,42,40,35,1]] + [1250-1 + i for i in [245,240,188,178,135,102]])"
      ],
      "metadata": {
        "id": "IY4Tn07kF1Ra"
      },
      "execution_count": null,
      "outputs": []
    },
    {
      "cell_type": "code",
      "source": [
        "max_files = 50\n",
        "print(f'Всего файлов: {len(files_dirs[:max_files])}')\n",
        "\n",
        "# Предсказываем значения\n",
        "with timex():\n",
        "    predictions = model.predict(prepare_imgs(files_dirs[:max_files]))\n",
        "\n",
        "# print(\"Предсказанные значения:\", predictions)"
      ],
      "metadata": {
        "id": "8K_ng5zl7wgY"
      },
      "execution_count": null,
      "outputs": []
    },
    {
      "cell_type": "code",
      "source": [
        "print(f'Всего файлов: {len(files_dirs[100:200])}')\n",
        "\n",
        "# Предсказываем значения\n",
        "x = prepare_imgs(files_dirs[100:200])\n",
        "with timex():\n",
        "    predictions = model.predict(x)"
      ],
      "metadata": {
        "id": "Wg_J8EzQdbG5"
      },
      "execution_count": null,
      "outputs": []
    },
    {
      "cell_type": "code",
      "source": [
        "print(f'Всего файлов: {len(files_dirs[200:500])}')\n",
        "\n",
        "# Предсказываем значения\n",
        "x = prepare_imgs(files_dirs[200:500])\n",
        "with timex():\n",
        "    predictions = model.predict(x)"
      ],
      "metadata": {
        "id": "_NzxrrQKfb7k"
      },
      "execution_count": null,
      "outputs": []
    },
    {
      "cell_type": "code",
      "source": [
        "print(f'Всего файлов: {len(files_dirs[500:1000])}')\n",
        "\n",
        "# Предсказываем значения\n",
        "x = prepare_imgs(files_dirs[500:1000])\n",
        "with timex():\n",
        "    predictions = model.predict(x)"
      ],
      "metadata": {
        "id": "4ua5vez7f5Se"
      },
      "execution_count": null,
      "outputs": []
    },
    {
      "cell_type": "code",
      "source": [
        "((5.69 / 100) + (21.85 / 300) + (21.76 / 500)) / 3"
      ],
      "metadata": {
        "id": "Oyr_8fNMf_ow"
      },
      "execution_count": null,
      "outputs": []
    },
    {
      "cell_type": "code",
      "source": [
        "0.05775 * 1000"
      ],
      "metadata": {
        "id": "psX94PR2kuiA"
      },
      "execution_count": null,
      "outputs": []
    },
    {
      "cell_type": "markdown",
      "source": [
        "##### Предсказание классов"
      ],
      "metadata": {
        "id": "Qbt20Z1ukv3o"
      }
    },
    {
      "cell_type": "code",
      "source": [
        "print(f'Всего файлов: {len(files_dirs)}')\n",
        "\n",
        "# Предсказываем значения\n",
        "with timex():\n",
        "    predictions = model.predict(prepare_imgs(files_dirs))"
      ],
      "metadata": {
        "id": "Ir-yboh4Qp8P"
      },
      "execution_count": null,
      "outputs": []
    },
    {
      "cell_type": "code",
      "source": [
        "indices = np.argmax(predictions, axis=1)\n",
        "print(indices)"
      ],
      "metadata": {
        "id": "WQawm8EJIv-g"
      },
      "execution_count": null,
      "outputs": []
    },
    {
      "cell_type": "code",
      "source": [
        "from collections import Counter\n",
        "\n",
        "my_list = [1, 2, 2, 3, 3, 3, 4, 4, 4, 4]\n",
        "element_count = Counter(my_list)\n",
        "\n",
        "for element, count in element_count.items():\n",
        "    print(f\"{element}: {count}\")"
      ],
      "metadata": {
        "id": "LG1OZ9HORfwF"
      },
      "execution_count": null,
      "outputs": []
    },
    {
      "cell_type": "markdown",
      "source": [
        "# Регулярные выражения"
      ],
      "metadata": {
        "id": "u2IlPTWlg9_n"
      }
    },
    {
      "cell_type": "code",
      "source": [
        "import re"
      ],
      "metadata": {
        "id": "Elb4G2nUhCmM"
      },
      "execution_count": null,
      "outputs": []
    },
    {
      "cell_type": "code",
      "source": [
        "text_samples = ['fsad321;klj;jskad 34 jkdsflalsfdalkjsfd 93421809 dshfakjhlksad',\n",
        "                'Поставщик: Адрес:043289, Республика Казахстан, Алматы, Бродского, Товарищество с ограниченной ответсвтенностью \"Ресми-Табыс\", БИН:991240008188',\n",
        "                'Поставщик: Адрес:043289, Республика Казахстан, Алматы, Бродского, Товарищество с ограниченной ответсвтенностью \"Ресми-Табыс\", БИН:991240008188одоыю..']\n",
        "\n",
        "patterns_list = [r'\\d\\d+',      # Любые 2+ цирфы\n",
        "                 r'\\d\\d+$',     # Любые 2+ цифры в конце строки\n",
        "                 r'\\d{12}',     # БИН - 12 цифр\n",
        "                 r'\\b\\d\\d+\\b'   # Любые 2+ цифры с границами слов (слева и справа должны быть не буквенные символы)\n",
        "                 ]\n",
        "\n",
        "for text in text_samples:\n",
        "    print('Пример текста:', text)\n",
        "    for pattern in patterns_list:\n",
        "        print(f'Паттерн {pattern}: {re.findall(pattern, text)}')\n",
        "    print()"
      ],
      "metadata": {
        "id": "vNnEnduShEVh"
      },
      "execution_count": null,
      "outputs": []
    },
    {
      "cell_type": "markdown",
      "source": [
        "# Преобразования изображений"
      ],
      "metadata": {
        "id": "4wPQro61XvmA"
      }
    },
    {
      "cell_type": "code",
      "source": [
        "file_list = os.listdir(directory) # Список файлов\n",
        "file_paths_list = [directory + '/' + i for i in file_list]"
      ],
      "metadata": {
        "id": "ePfc8fYVag64"
      },
      "execution_count": null,
      "outputs": []
    },
    {
      "cell_type": "code",
      "source": [
        "import cv2\n",
        "from PIL import Image, ImageEnhance, ImageFilter\n",
        "import numpy as np\n",
        "\n",
        "from google.colab.patches import cv2_imshow\n",
        "\n",
        "def transform_image(image_path):\n",
        "    # Загрузка изображения с использованием Pillow\n",
        "    image = Image.open(image_path)\n",
        "\n",
        "    # Преобразование изображения в формат NumPy\n",
        "    image_np = np.array(image)\n",
        "\n",
        "    # Уменьшение шума (фильтрация шума и бинаризация)\n",
        "    denoised_image = cv2.fastNlMeansDenoisingColored(image_np, None, 10, 10, 7, 21)\n",
        "    gray_image = cv2.cvtColor(denoised_image, cv2.COLOR_BGR2GRAY)\n",
        "    _, binary_image = cv2.threshold(gray_image, 0, 255, cv2.THRESH_BINARY + cv2.THRESH_OTSU)\n",
        "\n",
        "    # Улучшение контраста (адаптивная гистограммная эквализация)\n",
        "    clahe = cv2.createCLAHE(clipLimit=2.0, tileGridSize=(8, 8))\n",
        "    enhanced_image = clahe.apply(gray_image)\n",
        "\n",
        "    # Выделение границ (детектор Canny)\n",
        "    edges = cv2.Canny(gray_image, 100, 200)\n",
        "\n",
        "    # Размытие (размытие Гаусса)\n",
        "    blurred_image = cv2.GaussianBlur(denoised_image, (5, 5), 0)\n",
        "\n",
        "    # Улучшение разрешения (увеличение с помощью интерполяции)\n",
        "    upscaled_image = cv2.resize(image_np, None, fx=2, fy=2, interpolation=cv2.INTER_CUBIC)\n",
        "\n",
        "    # Отображение результатов\n",
        "    cv2_imshow('Denoised and Binary Image', binary_image)\n",
        "    cv2_imshow('Enhanced Image', enhanced_image)\n",
        "    cv2_imshow('Edge Detected Image', edges)\n",
        "    cv2_imshow('Blurred Image', blurred_image)\n",
        "    cv2_imshow('Upscaled Image', upscaled_image)\n",
        "\n",
        "    # Ожидание нажатия клавиши для закрытия окон\n",
        "    cv2.waitKey(0)\n",
        "    cv2.destroyAllWindows()"
      ],
      "metadata": {
        "id": "3fLs3gWgaO5G"
      },
      "execution_count": null,
      "outputs": []
    },
    {
      "cell_type": "code",
      "source": [
        "def transform_image(image_path):\n",
        "    # Загрузка изображения с использованием Pillow\n",
        "    image = Image.open(image_path)\n",
        "\n",
        "    # Преобразование изображения в формат NumPy\n",
        "    image_np = np.array(image)\n",
        "\n",
        "    # Уменьшение шума (фильтрация шума и бинаризация)\n",
        "    denoised_image = cv2.fastNlMeansDenoisingColored(image_np, None, 10, 10, 7, 21)\n",
        "    gray_image = cv2.cvtColor(denoised_image, cv2.COLOR_BGR2GRAY)\n",
        "    _, binary_image = cv2.threshold(gray_image, 0, 255, cv2.THRESH_BINARY + cv2.THRESH_OTSU)\n",
        "\n",
        "    # Улучшение контраста (адаптивная гистограммная эквализация)\n",
        "    clahe = cv2.createCLAHE(clipLimit=2.0, tileGridSize=(8, 8))\n",
        "    enhanced_image = clahe.apply(gray_image)\n",
        "\n",
        "    # Выделение границ (детектор Canny)\n",
        "    edges = cv2.Canny(gray_image, 100, 200)\n",
        "\n",
        "    # Размытие (размытие Гаусса)\n",
        "    blurred_image = cv2.GaussianBlur(denoised_image, (5, 5), 0)\n",
        "\n",
        "    # Улучшение разрешения (увеличение с помощью интерполяции)\n",
        "    upscaled_image = cv2.resize(image_np, None, fx=2, fy=2, interpolation=cv2.INTER_CUBIC)\n",
        "\n",
        "    # Отображение результатов с использованием matplotlib\n",
        "    plt.figure(figsize=(32, 28))\n",
        "    fs = 48\n",
        "\n",
        "    plt.subplot(2, 3, 1)\n",
        "    plt.imshow(image)\n",
        "    plt.title('Original', fontsize=fs)\n",
        "    plt.axis('off')\n",
        "\n",
        "    plt.subplot(2, 3, 2)\n",
        "    plt.imshow(binary_image, cmap='gray')\n",
        "    plt.title('Denoised + Binary', fontsize=fs)\n",
        "    plt.axis('off')\n",
        "\n",
        "    plt.subplot(2, 3, 3)\n",
        "    plt.imshow(enhanced_image, cmap='gray')\n",
        "    plt.title('Enhanced', fontsize=fs)\n",
        "    plt.axis('off')\n",
        "\n",
        "    plt.subplot(2, 3, 4)\n",
        "    plt.imshow(edges, cmap='gray')\n",
        "    plt.title('Edges', fontsize=fs)\n",
        "    plt.axis('off')\n",
        "\n",
        "    plt.subplot(2, 3, 5)\n",
        "    plt.imshow(blurred_image)\n",
        "    plt.title('Blurred', fontsize=fs)\n",
        "    plt.axis('off')\n",
        "\n",
        "    plt.subplot(2, 3, 6)\n",
        "    plt.imshow(upscaled_image)\n",
        "    plt.title('Upscaled', fontsize=fs)\n",
        "    plt.axis('off')\n",
        "\n",
        "    plt.show()"
      ],
      "metadata": {
        "id": "ObqCVOmIcaz0"
      },
      "execution_count": null,
      "outputs": []
    },
    {
      "cell_type": "code",
      "source": [
        "# Результат функции\n",
        "transform_image(file_paths_list[0])"
      ],
      "metadata": {
        "id": "7Ja_77xzakYZ"
      },
      "execution_count": null,
      "outputs": []
    },
    {
      "cell_type": "markdown",
      "source": [
        "# Остальное"
      ],
      "metadata": {
        "id": "pCJU73kcPe4Z"
      }
    },
    {
      "cell_type": "markdown",
      "source": [
        "## Perspective Transformation"
      ],
      "metadata": {
        "id": "ZRN2A6xrnyRO"
      }
    },
    {
      "cell_type": "code",
      "source": [
        "import cv2\n",
        "import numpy as np\n",
        "import matplotlib.pyplot as plt\n",
        "\n",
        "def get_homography_matrix(source, destination):\n",
        "    \"\"\" Calculates the entries of the Homography matrix between two sets of matching points.\n",
        "\n",
        "    Args\n",
        "    ----\n",
        "        - `source`: Source points where each point is int (x, y) format.\n",
        "        - `destination`: Destination points where each point is int (x, y) format.\n",
        "\n",
        "    Returns\n",
        "    ----\n",
        "        - A numpy array of shape (3, 3) representing the Homography matrix.\n",
        "\n",
        "    Raises\n",
        "    ----\n",
        "        - `source` and `destination` is lew than four points.\n",
        "        - `source` and `destination` is of different size.\n",
        "    \"\"\"\n",
        "    assert len(source) >= 4, \"must provide more than 4 source points\"\n",
        "    assert len(destination) >= 4, \"must provide more than 4 destination points\"\n",
        "    assert len(source) == len(destination), \"source and destination must be of equal length\"\n",
        "    A = []\n",
        "    b = []\n",
        "    for i in range(len(source)):\n",
        "        s_x, s_y = source[i]\n",
        "        d_x, d_y = destination[i]\n",
        "        A.append([s_x, s_y, 1, 0, 0, 0, (-d_x)*(s_x), (-d_x)*(s_y)])\n",
        "        A.append([0, 0, 0, s_x, s_y, 1, (-d_y)*(s_x), (-d_y)*(s_y)])\n",
        "        b += [d_x, d_y]\n",
        "    A = np.array(A)\n",
        "    h = np.linalg.lstsq(A, b)[0]\n",
        "    h = np.concatenate((h, [1]), axis=-1)\n",
        "    return np.reshape(h, (3, 3))\n",
        "\n",
        "\n",
        "if __name__ == \"__main__\":\n",
        "    source_points = np.array([\n",
        "        [200, 541],\n",
        "        [1216, 413],\n",
        "        [1373, 993],\n",
        "        [267, 1208]\n",
        "    ])\n",
        "    destination_points = np.array([\n",
        "        [0, 0],\n",
        "        [300, 0],\n",
        "        [300, 300],\n",
        "        [0, 300],\n",
        "    ])\n",
        "    source_image = cv2.imread(\"sample.jpeg\")\n",
        "    t_source_image = source_image.copy()\n",
        "\n",
        "    # draw markings on the source image\n",
        "    for i, pts in enumerate(source_points):\n",
        "        cv2.putText(source_image, str(i+1), (pts[0] + 15, pts[1]), cv2.FONT_HERSHEY_PLAIN, 3, (0, 215, 255), 5)\n",
        "        cv2.circle(source_image, pts, 10, (0, 215, 255), 10)\n",
        "\n",
        "    h = get_homography_matrix(source_points, destination_points)\n",
        "    destination_image = cv2.warpPerspective(t_source_image, h, (300, 300))\n",
        "\n",
        "    figure = plt.figure(figsize=(12, 6))\n",
        "\n",
        "    subplot1 = figure.add_subplot(1, 2, 1)\n",
        "    subplot1.title.set_text(\"Source Image\")\n",
        "    subplot1.imshow(cv2.cvtColor(source_image, cv2.COLOR_BGR2RGB))\n",
        "\n",
        "    subplot2 = figure.add_subplot(1, 2, 2)\n",
        "    subplot2.title.set_text(\"Destination Image\")\n",
        "    subplot2.imshow(cv2.cvtColor(destination_image, cv2.COLOR_BGR2RGB))\n",
        "\n",
        "    # plt.show()\n",
        "    plt.savefig(\"output.png\")"
      ],
      "metadata": {
        "id": "Zlxee0xvn2k3"
      },
      "execution_count": null,
      "outputs": []
    },
    {
      "cell_type": "markdown",
      "metadata": {
        "id": "qOdZJN80hnvU"
      },
      "source": [
        "## tabula"
      ]
    },
    {
      "cell_type": "code",
      "execution_count": null,
      "metadata": {
        "id": "LEvlImX1jeXG"
      },
      "outputs": [],
      "source": [
        "pip install Pillow"
      ]
    },
    {
      "cell_type": "code",
      "execution_count": null,
      "metadata": {
        "id": "M-IDPtuhhsNR"
      },
      "outputs": [],
      "source": [
        "pip install reportlab"
      ]
    },
    {
      "cell_type": "code",
      "execution_count": null,
      "metadata": {
        "id": "rOMAsdE9jhDH"
      },
      "outputs": [],
      "source": [
        "from reportlab.lib.pagesizes import letter\n",
        "from reportlab.platypus import SimpleDocTemplate, Image\n",
        "from PIL import Image as PILImage\n",
        "\n",
        "# Список файлов изображений, которые вы хотите включить в PDF\n",
        "img_index = 0\n",
        "image_files = [directory + '/' + os.listdir(directory)[img_index]]\n",
        "\n",
        "# Имя выходного PDF-файла\n",
        "output_pdf = \"output.pdf\"\n",
        "\n",
        "# Создаем объект PDF-документа\n",
        "doc = SimpleDocTemplate(output_pdf, pagesize=letter)\n",
        "\n",
        "# Создаем список элементов для добавления в PDF\n",
        "elements = []\n",
        "\n",
        "# Максимальные размеры страницы\n",
        "max_width, max_height = letter\n",
        "\n",
        "# Добавляем каждое изображение в PDF\n",
        "for image_file in image_files:\n",
        "    img = PILImage.open(image_file)\n",
        "    width, height = img.size\n",
        "\n",
        "    # Масштабируем изображение по размеру страницы, сохраняя соотношение сторон\n",
        "    if width > max_width or height > max_height:\n",
        "        aspect_ratio = width / height\n",
        "        if aspect_ratio >= 1:\n",
        "            new_width = max_width\n",
        "            new_height = max_width / aspect_ratio\n",
        "        else:\n",
        "            new_height = max_height\n",
        "            new_width = max_height * aspect_ratio\n",
        "        img.thumbnail((new_width, new_height), PILImage.ANTIALIAS)\n",
        "\n",
        "    image = Image(image_file, width=new_width, height=new_height)\n",
        "    elements.append(image)\n",
        "\n",
        "# Строим документ\n",
        "doc.build(elements)\n"
      ]
    },
    {
      "cell_type": "code",
      "execution_count": null,
      "metadata": {
        "id": "DEGjpAQAhtr1"
      },
      "outputs": [],
      "source": [
        "from reportlab.lib.pagesizes import letter\n",
        "from reportlab.platypus import SimpleDocTemplate, Image, Spacer, KeepTogether\n",
        "\n",
        "# Список файлов изображений, которые вы хотите включить в PDF\n",
        "img_index = 0\n",
        "image_files = [directory + '/' + os.listdir(directory)[img_index]]\n",
        "# image_files = [\"image1.jpg\", \"image2.jpeg\", \"image3.png\"]\n",
        "\n",
        "# Имя выходного PDF-файла\n",
        "output_pdf = \"output.pdf\"\n",
        "\n",
        "# Создаем объект PDF-документа\n",
        "doc = SimpleDocTemplate(output_pdf, pagesize=letter)\n",
        "\n",
        "# Создаем список элементов для добавления в PDF\n",
        "elements = []\n",
        "\n",
        "# Добавляем каждое изображение в PDF\n",
        "for image_file in image_files:\n",
        "    image = Image(image_file, width=letter[0], height=letter[1])\n",
        "    # elements.append(KeepTogether(Spacer(width=letter[0], height=letter[1])))\n",
        "    elements.append(image)\n",
        "\n",
        "\n",
        "\n",
        "# Строим документ\n",
        "doc.build(elements)"
      ]
    },
    {
      "cell_type": "code",
      "execution_count": null,
      "metadata": {
        "id": "ek5k9Q1Fhpwh"
      },
      "outputs": [],
      "source": [
        "import tabula\n",
        "\n",
        "# Указываем путь к PDF-файлу с таблицей\n",
        "file_path = \"путь_к_файлу.pdf\"\n",
        "\n",
        "# Извлекаем таблицу из PDF\n",
        "df = tabula.read_pdf(file_path, pages='all')\n",
        "\n",
        "# Далее вы можете обработать извлеченные данные с помощью pandas или других библиотек\n"
      ]
    },
    {
      "cell_type": "markdown",
      "source": [
        "# Информация о базе"
      ],
      "metadata": {
        "id": "KK_p7DI-QD13"
      }
    },
    {
      "cell_type": "markdown",
      "metadata": {
        "id": "ohuUgGE9VfTM"
      },
      "source": [
        "## **База**\n",
        "---\n",
        "### *Общая информация*\n",
        "* В базе данных предоставлены файлы 3 типов: .jpg, .jpeg и .png . Если нужно будет обрабатывать файлы .pdf, то нужно будет преобразовать файлы.\n",
        "\n",
        "* Есть несколько типов документов\n",
        "\n",
        "* В основном база данных представляет сканы документов, но есть и несколько фото.\n",
        "\n",
        "* Есть фотографии с дефектами, разным углом поворота.\n",
        "\n",
        "---\n",
        "### *Данные*\n",
        "* Язык данных: en, rus, есть редкое упоминание казахского языка"
      ]
    },
    {
      "cell_type": "markdown",
      "metadata": {
        "id": "sf1ID6kgWv1V"
      },
      "source": [
        "## Этапы обработки изображений\n",
        "---\n",
        "1. Модель классификации. Определяет тип переданного файла (.png, .jpg или .pdf) (может потребоватся находить нужную страницу в документе .pdf)\n",
        "2. Модель определения угла поворота. Некоторые документы могут быть повёрнуты на -90, 90 или 180 градусов.\n",
        "3. Модель сегментации. Определение на документе расположения всех полей.\n",
        "4. Character‑Region Awareness For Text detection (CRAFT). Поля, в которых содержится много текста, предварительно разбиваются на отдельные слова.\n",
        "5. Модель распознавания текста. Из переданного изображения извлекается текст.\n",
        "6. Постпроцессинг ответа. Исправление опечаток, ошибок распознавания, сверка со справочниками."
      ]
    },
    {
      "cell_type": "markdown",
      "source": [
        "# Обновление датафрейма"
      ],
      "metadata": {
        "id": "fK79kNzNWrCK"
      }
    },
    {
      "cell_type": "code",
      "source": [
        "4422.png 5089.png 5717.png"
      ],
      "metadata": {
        "id": "Ym_zVmdwb_Dx"
      },
      "execution_count": null,
      "outputs": []
    },
    {
      "cell_type": "code",
      "source": [
        "df2 = pd.read_excel('1.xlsx')\n",
        "df2"
      ],
      "metadata": {
        "id": "zNfYld0yc1-R"
      },
      "execution_count": null,
      "outputs": []
    },
    {
      "cell_type": "code",
      "source": [
        "df2 = df2.fillna(0)"
      ],
      "metadata": {
        "id": "MlFYJu25Lkw6"
      },
      "execution_count": null,
      "outputs": []
    },
    {
      "cell_type": "code",
      "source": [
        "df2 = df2.astype('int32')"
      ],
      "metadata": {
        "id": "pmRf9v1_LtUK"
      },
      "execution_count": null,
      "outputs": []
    },
    {
      "cell_type": "code",
      "source": [
        "df2"
      ],
      "metadata": {
        "id": "Qcw1Ox3gMD0I"
      },
      "execution_count": null,
      "outputs": []
    },
    {
      "cell_type": "code",
      "source": [
        "names_dict = {\n",
        "        'индекс файла':               'file_index',\n",
        "        'грязь':                        'dirt',\n",
        "        'грязь за пределами документа': 'dirt_out',\n",
        "        'плохая печать':                'bad_print',\n",
        "        'нестандартный контраст':       'ns_contrast',\n",
        "        'искажение текста':             'distortion_text',\n",
        "        'искажение документа':          'distortion_document',\n",
        "        'точечный текст':               'dotted_text',\n",
        "        'размытый текст':               'blurry_text',\n",
        "        'выброс':                       'outlier',\n",
        "        'отсутствующие поля':           'missing_fields',\n",
        "        'пустые поля':                  'blank_fields',\n",
        "        'рукописный текст':             'handwritten_text',\n",
        "        'нестандартное форматирование текста':  'ns_text_formatting',\n",
        "        'нестандартное расположение текста':    'ns_text_arrangement',\n",
        "        'нестандартный якорь поля':             'ns_text_anchor',\n",
        "        'нестандартная верхняя таблица':         'ns_top_table',\n",
        "        'нестандартная нижняя таблица':         'ns_bottom_table',\n",
        "        'обрезанные границы таблиц':    'blank_boundaries',\n",
        "        'обрезанный текст':             'cropped_text',\n",
        "        'проверка таблиц':              'checking_table',\n",
        "        '2 документа':                  '2_documents',\n",
        "        'казахский язык':               'kazakh_lang',\n",
        "        '2 банка в верхней таблице':    '2_bank_accounts',\n",
        "        'не белый фон':                 'not_white_background',\n",
        "        'обрезанный контент':           'cropped_content'}"
      ],
      "metadata": {
        "id": "CrW55g39MILe"
      },
      "execution_count": null,
      "outputs": []
    },
    {
      "cell_type": "code",
      "source": [
        "order_list = [int(i[:-4]) for i in list(df1['filename_new'])]"
      ],
      "metadata": {
        "id": "dpeT-wTWQtgi"
      },
      "execution_count": null,
      "outputs": []
    },
    {
      "cell_type": "code",
      "source": [
        "df2 = df2.iloc[order_list]"
      ],
      "metadata": {
        "id": "jEzbkFDGSj_W"
      },
      "execution_count": null,
      "outputs": []
    },
    {
      "cell_type": "code",
      "source": [
        "df2 = df2.reset_index()"
      ],
      "metadata": {
        "id": "Dfrlfo-7SlJ2"
      },
      "execution_count": null,
      "outputs": []
    },
    {
      "cell_type": "code",
      "source": [
        "df2.drop('index', axis=1, inplace=True)"
      ],
      "metadata": {
        "id": "3BkvwaFUTUUA"
      },
      "execution_count": null,
      "outputs": []
    },
    {
      "cell_type": "code",
      "source": [
        "df_new = pd.concat([df1,df2], axis=1)\n",
        "df_new"
      ],
      "metadata": {
        "id": "qDgZbS2PS41C"
      },
      "execution_count": null,
      "outputs": []
    },
    {
      "cell_type": "code",
      "source": [
        "df_new = df_new.rename({'название файла':'индекс файла'})"
      ],
      "metadata": {
        "id": "GgjTu-yzUVHJ"
      },
      "execution_count": null,
      "outputs": []
    },
    {
      "cell_type": "code",
      "source": [
        "df_new_en = df_new.rename(names_dict)"
      ],
      "metadata": {
        "id": "BWegTLK5bJmb"
      },
      "execution_count": null,
      "outputs": []
    },
    {
      "cell_type": "code",
      "source": [
        "df_new.columns"
      ],
      "metadata": {
        "id": "iKWk0mbsVZ_z"
      },
      "execution_count": null,
      "outputs": []
    },
    {
      "cell_type": "code",
      "source": [
        "df_new.drop('defect', axis=1, inplace=True)"
      ],
      "metadata": {
        "id": "u6qZ0DvsVC3A"
      },
      "execution_count": null,
      "outputs": []
    },
    {
      "cell_type": "code",
      "source": [
        "# Сохранение\n",
        "df_new.to_csv('/content/drive/MyDrive/df_info_new_ru.csv', index=False)"
      ],
      "metadata": {
        "id": "fCMvOgySURnU"
      },
      "execution_count": null,
      "outputs": []
    },
    {
      "cell_type": "code",
      "source": [
        "# Сохранение\n",
        "df_new_en.to_csv('/content/drive/MyDrive/df_info_new_en.csv', index=False)"
      ],
      "metadata": {
        "id": "YEWdlyz1bOq9"
      },
      "execution_count": null,
      "outputs": []
    },
    {
      "cell_type": "markdown",
      "source": [
        "# Анализ дефектов"
      ],
      "metadata": {
        "id": "TLzlkG8JWaoy"
      }
    },
    {
      "cell_type": "code",
      "source": [
        "df3 = df_new[['индекс файла', 'грязь', 'грязь за пределами документа', 'плохая печать',\n",
        "       'нестандартный контраст', 'искажение текста', 'искажение документа',\n",
        "       'точечный текст', 'размытый текст', 'выброс', 'отсутствующие поля',\n",
        "       'пустые поля', 'рукописный текст',\n",
        "       'нестандартное форматирование текста',\n",
        "       'нестандартное расположение текста', 'нестандартный якорь поля',\n",
        "       'нестандартная верхняя таблица', 'нестандартная нижняя таблица',\n",
        "       'обрезанные границы таблиц', 'обрезанный текст', 'проверка таблиц',\n",
        "       '2 документа', 'казахский язык', '2 банка в верхней таблице',\n",
        "       'не белый фон', 'обрезанный контент']]\n",
        "\n",
        "df3"
      ],
      "metadata": {
        "id": "50GsGwmlDY2E"
      },
      "execution_count": null,
      "outputs": []
    },
    {
      "cell_type": "code",
      "source": [
        "df3 = df3.sort_values(by=['индекс файла'])"
      ],
      "metadata": {
        "id": "_lg6aU6MP4Sy"
      },
      "execution_count": null,
      "outputs": []
    },
    {
      "cell_type": "code",
      "source": [
        "df3.reset_index(drop=True, inplace=True)"
      ],
      "metadata": {
        "id": "ny4BeKbqQC5s"
      },
      "execution_count": null,
      "outputs": []
    },
    {
      "cell_type": "code",
      "source": [
        "df3.drop('индекс файла', inplace=True, axis=1)"
      ],
      "metadata": {
        "id": "pqNU5_kKQYTe"
      },
      "execution_count": null,
      "outputs": []
    },
    {
      "cell_type": "code",
      "source": [
        "# Определение функции для суммирования каждых 100 строк\n",
        "def sum_every_100_rows(df):\n",
        "    result = pd.DataFrame()\n",
        "    for i in range(0, len(df), 100):\n",
        "        subset = df.iloc[i:i+100]\n",
        "        result = pd.concat([result, pd.DataFrame([subset.sum()])], ignore_index=True)\n",
        "\n",
        "    return result\n",
        "\n",
        "# Применение функции к df3\n",
        "result_df = sum_every_100_rows(df3)\n",
        "\n",
        "# Вывод результата\n",
        "result_df"
      ],
      "metadata": {
        "id": "Ad2fbCx2DYgk"
      },
      "execution_count": null,
      "outputs": []
    },
    {
      "cell_type": "code",
      "source": [
        "result_df.describe()"
      ],
      "metadata": {
        "id": "9fBFMWZ1nb5y"
      },
      "execution_count": null,
      "outputs": []
    },
    {
      "cell_type": "code",
      "source": [
        "# Транспонируем датафрейм для удобства построения графика\n",
        "df = pd.DataFrame(result_df.sum()).T\n",
        "\n",
        "# Транспонируем DataFrame для удобства построения графика\n",
        "df = df.transpose()\n",
        "\n",
        "# Рассчитываем процентные значения\n",
        "df['Percentage'] = df[0] / 5980 * 100\n",
        "\n",
        "# Строим столбчатый график\n",
        "plt.figure(figsize=(10, 15))\n",
        "sns.barplot(x=df.index, y=df[0], palette=sns.color_palette(\"light:salmon_r\", 25))\n",
        "plt.title('Статистика по новым колонкам')\n",
        "plt.xlabel('Колонки')\n",
        "plt.ylabel('Количество')\n",
        "plt.xticks(rotation=90)  # Повернем подписи по оси X для лучшей читаемости\n",
        "\n",
        "# Добавим аннотации с процентами\n",
        "for i, count in enumerate(df[0]):\n",
        "    percentage = df.loc[df.index[i], 'Percentage']\n",
        "    plt.text(i, count + 10, f\"{count}\\n{percentage:.2f}%\", ha='center', fontsize=9)\n",
        "\n",
        "plt.tight_layout()\n",
        "plt.show()"
      ],
      "metadata": {
        "id": "0ZkzX2tJFvEH"
      },
      "execution_count": null,
      "outputs": []
    },
    {
      "cell_type": "code",
      "source": [
        "result_df['Всего ошибок'] = result_df.sum(axis=1)"
      ],
      "metadata": {
        "id": "LA2AFMmLNXTT"
      },
      "execution_count": null,
      "outputs": []
    },
    {
      "cell_type": "code",
      "source": [
        "result_df.drop('Всего ошибок', axis=1, inplace=True)"
      ],
      "metadata": {
        "id": "GhRpDZNxNezn"
      },
      "execution_count": null,
      "outputs": []
    },
    {
      "cell_type": "code",
      "source": [
        "# Добавляем столбец с процентами\n",
        "df_percent = result_df.div(result_df.sum(axis=1), axis=0) * 100\n",
        "\n",
        "# Создаем тепловую карту\n",
        "plt.figure(figsize=(20, 40))\n",
        "sns.heatmap(result_df, annot=result_df.applymap(lambda x: f'{x}' if x != 0 else ''), fmt='', cmap=\"mako_r\", cbar_kws={'label': 'Count', 'aspect': 50}, annot_kws={\"size\": 15}, linewidth=.5)\n",
        "plt.title('Статистика по новым колонкам', fontsize=20)\n",
        "plt.show()\n",
        "\n",
        "# Тепловая карта с процентами\n",
        "plt.figure(figsize=(20, 40))\n",
        "sns.heatmap(df_percent, annot=df_percent.applymap(lambda x: f'{x:.1f}' if x != 0 else ''), fmt='', cmap=sns.color_palette(\"light:salmon\", as_cmap=True), cbar_kws={'label': 'Percentage', 'aspect': 50}, annot_kws={\"size\": 15}, linewidth=.5)\n",
        "plt.title('Статистика по новым колонкам', fontsize=20)\n",
        "plt.show()\n",
        "\n",
        "# Тепловая карта с процентами и подписями только для ненулевых значений\n",
        "plt.figure(figsize=(20, 40))\n",
        "sns.heatmap(df_percent, annot=df_percent.applymap(lambda x: f'{x:.1f}' if x != 0 else ''), fmt='', cmap='YlGnBu', cbar_kws={'label': 'Percentage', 'aspect': 50}, annot_kws={\"size\": 15}, linewidth=.5)\n",
        "plt.title('Errors Percentage Heatmap')\n",
        "plt.show()"
      ],
      "metadata": {
        "id": "BZeJ73R5I_G2"
      },
      "execution_count": null,
      "outputs": []
    },
    {
      "cell_type": "code",
      "source": [
        "def plot_heatmap(df, start_i, num_rows, percent=False, true_order=False, fig_all=False):\n",
        "    # График для первых 30 строк\n",
        "    if fig_all == False:\n",
        "        plt.figure(figsize=(20, 20))\n",
        "    else:\n",
        "        plt.figure(figsize=(20, 40))\n",
        "\n",
        "    if percent == False:\n",
        "        if true_order == False:\n",
        "            sns.heatmap(result_df.iloc[start_i:start_i+num_rows, :], annot=result_df.iloc[start_i:start_i+num_rows, :].applymap(lambda x: f'{x}' if x != 0 else ''), fmt='', cmap=\"mako_r\", cbar_kws={'label': 'Количество', 'aspect': 50}, annot_kws={\"size\": 15}, linewidth=.5)\n",
        "        else:\n",
        "            sns.heatmap(result_df.iloc[list(result_df.sort_values(by=['Всего ошибок']).index)[start_i:start_i+num_rows]], annot=result_df.iloc[list(result_df.sort_values(by=['Всего ошибок']).index)[start_i:start_i+num_rows]].applymap(lambda x: f'{x}' if x != 0 else ''), fmt='', cmap=\"mako_r\", cbar_kws={'label': 'Количество', 'aspect': 50}, annot_kws={\"size\": 15}, linewidth=.5)\n",
        "    else:\n",
        "        df_percent = result_df.div(result_df.sum(axis=1), axis=0) * 100\n",
        "        if true_order == False:\n",
        "            sns.heatmap(df_percent.iloc[start_i:start_i+num_rows, :], annot=df_percent.iloc[start_i:start_i+num_rows, :].applymap(lambda x: f'{x:.1f}' if x != 0 else ''), fmt='', cmap='YlGnBu', cbar_kws={'label': 'Проценты', 'aspect': 50}, annot_kws={\"size\": 15}, linewidth=.5)\n",
        "        else:\n",
        "            sns.heatmap(df_percent.iloc[list(result_df.sort_values(by=['Всего ошибок']).index)[start_i:start_i+num_rows]], annot=df_percent.iloc[list(result_df.sort_values(by=['Всего ошибок']).index)[start_i:start_i+num_rows]].applymap(lambda x: f'{x:.1f}' if x != 0 else ''), fmt='', cmap='YlGnBu', cbar_kws={'label': 'Проценты', 'aspect': 50}, annot_kws={\"size\": 15}, linewidth=.5)\n",
        "\n",
        "    plt.title(f'Статистика по новым столбцам (Батчи {start_i}-{start_i+num_rows})')\n",
        "    plt.show()"
      ],
      "metadata": {
        "id": "HmiEe0PpTTrC"
      },
      "execution_count": null,
      "outputs": []
    },
    {
      "cell_type": "code",
      "source": [
        "def plot_heatmap(df, start_row, num_rows):\n",
        "    # Проверяем, что начальная строка не превышает общее количество строк в датафрейме\n",
        "    start_row = min(start_row, df.shape[0] - 1)\n",
        "\n",
        "    # Выбираем строки для отображения\n",
        "    selected_rows = df.iloc[start_row:start_row + num_rows, :]\n",
        "\n",
        "    # Добавляем столбец с процентами\n",
        "    df_percent = selected_rows.div(selected_rows.sum(axis=1), axis=0) * 100\n",
        "\n",
        "    # Строим тепловую карту\n",
        "    plt.figure(figsize=(10, 6))\n",
        "    sns.heatmap(selected_rows, annot=selected_rows.applymap(lambda x: f'{x}\\n' if x != 0 else ''), fmt='', cmap='YlGnBu', cbar_kws={'label': 'Количество', 'aspect': 30}, annot_kws={\"size\": 8})\n",
        "    plt.title(f'Errors Count Heatmap (Rows {start_row}-{start_row + num_rows})')\n",
        "    plt.show()"
      ],
      "metadata": {
        "id": "5ps7tYrATCw1"
      },
      "execution_count": null,
      "outputs": []
    },
    {
      "cell_type": "code",
      "source": [
        "plot_heatmap(result_df, 0, 60, fig_all=True)"
      ],
      "metadata": {
        "id": "J9ysJPp6W4S2"
      },
      "execution_count": null,
      "outputs": []
    },
    {
      "cell_type": "code",
      "source": [
        "plot_heatmap(result_df.sort_values(by=['Всего ошибок']), 0, 30, true_order=True)\n",
        "plot_heatmap(result_df.sort_values(by=['Всего ошибок']), 30, 30, true_order=True)"
      ],
      "metadata": {
        "id": "uRvzdgsOTE51"
      },
      "execution_count": null,
      "outputs": []
    },
    {
      "cell_type": "code",
      "source": [
        "df3.sum(axis=1)"
      ],
      "metadata": {
        "id": "HuCoSUJJdjDh"
      },
      "execution_count": null,
      "outputs": []
    },
    {
      "cell_type": "code",
      "source": [
        "df3[df3.sum(axis=1) == 0]"
      ],
      "metadata": {
        "id": "CQ9MgrA1dr4E"
      },
      "execution_count": null,
      "outputs": []
    },
    {
      "cell_type": "code",
      "source": [
        "2515 / 5980"
      ],
      "metadata": {
        "id": "G3HCRF1xdxqV"
      },
      "execution_count": null,
      "outputs": []
    },
    {
      "cell_type": "markdown",
      "source": [
        "# Загрузка нового датафрейма"
      ],
      "metadata": {
        "id": "RogvBHkgJf24"
      }
    },
    {
      "cell_type": "code",
      "source": [
        "# Загрузка\n",
        "df = pd.read_csv('/content/drive/MyDrive/df_info_new_ru.csv')"
      ],
      "metadata": {
        "id": "3pYJ8wyAMhZu"
      },
      "execution_count": null,
      "outputs": []
    },
    {
      "cell_type": "code",
      "source": [
        "df.columns"
      ],
      "metadata": {
        "id": "RQNKxTTWJxFJ"
      },
      "execution_count": null,
      "outputs": []
    },
    {
      "cell_type": "code",
      "source": [
        "df = df.sort_values(by='индекс файла')"
      ],
      "metadata": {
        "id": "AVq2SP7uNA1Q"
      },
      "execution_count": null,
      "outputs": []
    },
    {
      "cell_type": "code",
      "source": [
        "print(*df[df['нестандартная нижняя таблица'] == 1].filename_new[:10], sep='\\n')"
      ],
      "metadata": {
        "id": "UqblNg_fMefr"
      },
      "execution_count": null,
      "outputs": []
    },
    {
      "cell_type": "code",
      "source": [
        "def convert_to_range(x):\n",
        "    lower_bound = (x // 100) * 100\n",
        "    upper_bound = lower_bound + 100\n",
        "    return f'{lower_bound}-{upper_bound}/'\n",
        "\n",
        "# Примеры использования\n",
        "x_values = [1, 100, 654, 1999]\n",
        "\n",
        "for x in x_values:\n",
        "    y = convert_to_range(x)\n",
        "    print(f\"Для x = {x}, y = {y}\")"
      ],
      "metadata": {
        "id": "F26cUXCUL9EA"
      },
      "execution_count": null,
      "outputs": []
    }
  ],
  "metadata": {
    "colab": {
      "provenance": [],
      "collapsed_sections": [
        "LU40Y-VtEOXn",
        "oxHD9MO-sM_u",
        "DKAs_d767x3X",
        "TxHZOyWX4L4E",
        "ITsm7jNNnzQy",
        "My-7dtNMU6fH",
        "DRnTMcf7USE8",
        "p3tE3vP7no6n",
        "6FLCuFLYCwmx",
        "oXJ7W4TEnXTZ",
        "Oe3DZe8RwUc2",
        "irQWEN47x52n",
        "6Enjx4MrTGu2",
        "vlVXKt6dVqJf",
        "HuobLbvV8oVs",
        "O7lc0RSL-GYH",
        "iYqhdI159YQi",
        "ixvgmJkV9jxy",
        "zBVj7ze8jrmo",
        "qSJ5D945dqiZ",
        "ceLPSS0LPMwL",
        "clWImkEGQVF0",
        "MkyFhjxE3CKH",
        "tG69wHzWmaQM",
        "pYi212X5oUKo",
        "u2IlPTWlg9_n",
        "4wPQro61XvmA",
        "pCJU73kcPe4Z",
        "ZRN2A6xrnyRO",
        "qOdZJN80hnvU",
        "KK_p7DI-QD13",
        "fK79kNzNWrCK",
        "TLzlkG8JWaoy",
        "RogvBHkgJf24"
      ]
    },
    "kernelspec": {
      "display_name": "Python 3",
      "name": "python3"
    },
    "language_info": {
      "name": "python"
    }
  },
  "nbformat": 4,
  "nbformat_minor": 0
}