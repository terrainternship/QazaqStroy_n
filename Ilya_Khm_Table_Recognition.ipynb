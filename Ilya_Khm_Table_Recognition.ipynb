{
  "nbformat": 4,
  "nbformat_minor": 0,
  "metadata": {
    "colab": {
      "provenance": [],
      "collapsed_sections": [
        "LU40Y-VtEOXn",
        "RogvBHkgJf24",
        "RqIL0gIGOfic",
        "TQTiwO8yQaJy",
        "caI_KzpbQd2m",
        "4RWzmtrKUaYW",
        "dVuUnEPYabQ4",
        "JBVHnY-VbzFf",
        "dEakP2TSgR5f",
        "LWKAWuWhhTRI",
        "Ebe3vTtAr4gA",
        "0yMFCdVlyC3z",
        "5MQfoW6y7P69",
        "pKp8_CSU1IXg",
        "ZRGQCbgg70-u",
        "H8dIkIRo8A-c",
        "1NmjeHuexoTp",
        "5P-l9aZp68Cu",
        "xx-M5YLu6W9U"
      ]
    },
    "kernelspec": {
      "name": "python3",
      "display_name": "Python 3"
    },
    "language_info": {
      "name": "python"
    }
  },
  "cells": [
    {
      "cell_type": "markdown",
      "metadata": {
        "id": "LU40Y-VtEOXn"
      },
      "source": [
        "# *Импорт библиотек*"
      ]
    },
    {
      "cell_type": "code",
      "source": [
        "%%capture\n",
        "!pip install deskew"
      ],
      "metadata": {
        "id": "7xuuixTICbzk"
      },
      "execution_count": null,
      "outputs": []
    },
    {
      "cell_type": "code",
      "execution_count": null,
      "metadata": {
        "id": "oJH2x6w8EQ2R"
      },
      "outputs": [],
      "source": [
        "from google.colab import files # Импортируем Модуль files для работы с файлами\n",
        "import matplotlib.pyplot as plt # Импортируем модуль pyplot библиотеки matplotlib для построения графиков\n",
        "%matplotlib inline\n",
        "import seaborn as sns\n",
        "\n",
        "plt.style.use('seaborn-white')\n",
        "sns.set_context('notebook', rc={'figure.figsize': (10, 8)}, font_scale=1.5)\n",
        "\n",
        "import numpy as np # Импортируем библиотеку numpy\n",
        "import pandas as pd\n",
        "\n",
        "import time\n",
        "import random\n",
        "import math\n",
        "import re\n",
        "import os # Импортируем библиотеку os для раоты с фаловой системой\n",
        "import shutil\n",
        "import json\n",
        "import cv2\n",
        "\n",
        "from copy import deepcopy\n",
        "from IPython.display import clear_output\n",
        "\n",
        "from deskew import determine_skew"
      ]
    },
    {
      "cell_type": "code",
      "source": [
        "from PIL import ImageFile, ImageOps # импортируем модель Image для работы с изображениями\n",
        "from PIL import Image as PILImage\n",
        "ImageFile.LOAD_TRUNCATED_IMAGES = True"
      ],
      "metadata": {
        "id": "Su9AtGTjXb8u"
      },
      "execution_count": null,
      "outputs": []
    },
    {
      "cell_type": "code",
      "execution_count": null,
      "metadata": {
        "id": "vpahpmBOEIaE"
      },
      "outputs": [],
      "source": [
        "from google.colab import drive # Подключаем гугл-диск\n",
        "drive.mount('/content/drive')"
      ]
    },
    {
      "cell_type": "code",
      "execution_count": null,
      "metadata": {
        "id": "veFRKBEhutK7"
      },
      "outputs": [],
      "source": [
        "# Контекстный менеджер для измерения времени операций\n",
        "# Операция обертывается менеджером с помощью оператора with\n",
        "class timex:\n",
        "    def __enter__(self):\n",
        "        # Фиксация времени старта процесса\n",
        "        self.t = time.time()\n",
        "        return self\n",
        "\n",
        "    def __exit__(self, type, value, traceback):\n",
        "        # Вывод времени работы\n",
        "        # print('Время обработки: {:.2f} с'.format(time.time() - self.t))\n",
        "        seconds_total = time.time() - self.t\n",
        "        minutes = int(seconds_total // 60)\n",
        "        seconds = (seconds_total % 60) + (seconds_total - math.floor(seconds_total))\n",
        "        print('Время обработки: {} мин {:.2f} c'.format(minutes, seconds))\n",
        "\n",
        "with timex():\n",
        "    print()"
      ]
    },
    {
      "cell_type": "markdown",
      "source": [
        "# **Загрузка датафрейма и составление выборок**"
      ],
      "metadata": {
        "id": "RogvBHkgJf24"
      }
    },
    {
      "cell_type": "code",
      "source": [
        "# Загрузка\n",
        "df = pd.read_csv('/content/drive/MyDrive/df_info_new_ru.csv')"
      ],
      "metadata": {
        "id": "3pYJ8wyAMhZu"
      },
      "execution_count": null,
      "outputs": []
    },
    {
      "cell_type": "code",
      "source": [
        "df.columns"
      ],
      "metadata": {
        "id": "RQNKxTTWJxFJ"
      },
      "execution_count": null,
      "outputs": []
    },
    {
      "cell_type": "code",
      "source": [
        "df = df.sort_values(by='индекс файла')"
      ],
      "metadata": {
        "id": "AVq2SP7uNA1Q"
      },
      "execution_count": null,
      "outputs": []
    },
    {
      "cell_type": "code",
      "source": [
        "print(*df[df['проверка таблиц'] == 1].filename_new[:10], sep='\\n')"
      ],
      "metadata": {
        "id": "UqblNg_fMefr"
      },
      "execution_count": null,
      "outputs": []
    },
    {
      "cell_type": "code",
      "source": [
        "def get_img_path(base_path, filename):\n",
        "    x = int(filename[:-4])\n",
        "    lower_bound = (x // 100) * 100\n",
        "    upper_bound = lower_bound + 100\n",
        "    return base_path + f'{lower_bound}-{upper_bound}/' + filename\n",
        "\n",
        "# Проверка\n",
        "base_path = '/content/drive/MyDrive/ClearedReshapedBase/'\n",
        "x_values = ['0001.png', '0019.png', '0100.png', '0654.png', '1119.png']\n",
        "\n",
        "for x in x_values:\n",
        "    y = get_img_path(base_path, x)\n",
        "    print(y)"
      ],
      "metadata": {
        "id": "F26cUXCUL9EA"
      },
      "execution_count": null,
      "outputs": []
    },
    {
      "cell_type": "code",
      "source": [
        "# Составляем выборки файлов для проверки таблиц\n",
        "base_path = '/content/drive/MyDrive/ClearedReshapedBase/'\n",
        "target_cols =  ['проверка таблиц', 'нестандартная верхняя таблица', 'нестандартная нижняя таблица',\n",
        "                'обрезанный текст', 'обрезанные границы таблиц', 'не белый фон', 'точечный текст',\n",
        "                'плохая печать', 'искажение текста', 'искажение документа', '2 документа',\n",
        "                '2 банка в верхней таблице', 'грязь']\n",
        "\n",
        "sample_dict = {col_name:[get_img_path(base_path, i) for i in list(df[df[col_name] == 1].filename_new)] for col_name in target_cols}"
      ],
      "metadata": {
        "id": "d2h5FtDD63UZ"
      },
      "execution_count": null,
      "outputs": []
    },
    {
      "cell_type": "code",
      "source": [
        "def print_img(image_path, figsize=(12,8), title=None):\n",
        "    plt.rcParams['figure.facecolor'] = 'lightgray'\n",
        "    img = PILImage.open(image_path)\n",
        "    img = img.convert('RGB')\n",
        "\n",
        "    # Отображение изображения с помощью Matplotlib\n",
        "    plt.figure(figsize=figsize)\n",
        "    plt.imshow(img)\n",
        "    if title == None:\n",
        "        plt.title(image_path[-8:])  # Установка заголовка из названия файла\n",
        "    else:\n",
        "        plt.title(title)  # Установка заголовка из названия файла\n",
        "    plt.axis('off')  # Убрать оси координат\n",
        "    plt.show()"
      ],
      "metadata": {
        "id": "ZsUm9Qf75mak"
      },
      "execution_count": null,
      "outputs": []
    },
    {
      "cell_type": "markdown",
      "source": [
        "# **to pdf**\n",
        "> **Проверка библиотек для конвертации в pdf:** PIL, img2pdf, pytesseract"
      ],
      "metadata": {
        "id": "RqIL0gIGOfic"
      }
    },
    {
      "cell_type": "code",
      "source": [
        "img_folder = '/content/'\n",
        "\n",
        "file_list = [i for i in os.listdir(img_folder) if '.png' in i]\n",
        "file_list"
      ],
      "metadata": {
        "id": "HRrrJR71Ogsd"
      },
      "execution_count": null,
      "outputs": []
    },
    {
      "cell_type": "code",
      "source": [
        "file_path_list = [img_folder + i for i in file_list]\n",
        "file_path_list"
      ],
      "metadata": {
        "id": "FbMf2vgsv7gK"
      },
      "execution_count": null,
      "outputs": []
    },
    {
      "cell_type": "code",
      "source": [
        "# Создание папки\n",
        "target_folder = '/content/pdf_images/'\n",
        "\n",
        "if not os.path.exists(target_folder):\n",
        "    os.makedirs(target_folder)"
      ],
      "metadata": {
        "id": "RIY0kX7mPcaz"
      },
      "execution_count": null,
      "outputs": []
    },
    {
      "cell_type": "code",
      "source": [
        "# Примеры изображений\n",
        "for image_path in [img_folder + i for i in file_list]:\n",
        "    img = Image.open(image_path)\n",
        "\n",
        "    # Отображение изображения с помощью Matplotlib\n",
        "    plt.figure(figsize=(12,8))\n",
        "    plt.imshow(img)\n",
        "    plt.title(image_path)  # Установка заголовка из названия файла\n",
        "    plt.axis('off')  # Убрать оси координат\n",
        "    plt.show()\n",
        "    print()"
      ],
      "metadata": {
        "id": "Apse1wjkpL7d"
      },
      "execution_count": null,
      "outputs": []
    },
    {
      "cell_type": "markdown",
      "source": [
        "### *PIL to pdf*\n",
        "> Просто вставляет картинку в pdf"
      ],
      "metadata": {
        "id": "jiiemLemWC-h"
      }
    },
    {
      "cell_type": "code",
      "source": [
        "from PIL import Image\n",
        "\n",
        "for img in file_list:\n",
        "    image_1 = Image.open(img_folder + img)\n",
        "    im_1 = image_1.convert('RGB')\n",
        "    im_1.save(target_folder + img[:-4] + '.pdf')"
      ],
      "metadata": {
        "id": "b-OzP8evPBpF"
      },
      "execution_count": null,
      "outputs": []
    },
    {
      "cell_type": "code",
      "source": [
        "pdf_file_list = [target_folder + i for i in os.listdir(target_folder)]\n",
        "pdf_file_list"
      ],
      "metadata": {
        "id": "ELl1gyPeR5sx"
      },
      "execution_count": null,
      "outputs": []
    },
    {
      "cell_type": "markdown",
      "source": [
        "## *img2pdf*"
      ],
      "metadata": {
        "id": "DID0k3h6WGwV"
      }
    },
    {
      "cell_type": "code",
      "source": [
        "!pip uninstall PIL -y"
      ],
      "metadata": {
        "id": "i0dO-mRYYDnl"
      },
      "execution_count": null,
      "outputs": []
    },
    {
      "cell_type": "code",
      "source": [
        "%%capture\n",
        "pip install img2pdf"
      ],
      "metadata": {
        "id": "ww_xz9v6Wk2F"
      },
      "execution_count": null,
      "outputs": []
    },
    {
      "cell_type": "code",
      "source": [
        "# importing necessary libraries\n",
        "import img2pdf\n",
        "from PIL import Image\n",
        "import os\n",
        "\n",
        "for img in file_list:\n",
        "    img_path = img_folder + img\n",
        "    pdf_path = target_folder + img[:-4] + '.pdf'\n",
        "\n",
        "    image = Image.open(img_path)\n",
        "    pdf_bytes = img2pdf.convert(image.filename)\n",
        "\n",
        "    # opening or creating pdf file\n",
        "    file = open(pdf_path, \"wb\")\n",
        "\n",
        "    # writing pdf files with chunks\n",
        "    file.write(pdf_bytes)\n",
        "\n",
        "    image.close()\n",
        "    file.close()"
      ],
      "metadata": {
        "id": "Fkr9-OggWpVY"
      },
      "execution_count": null,
      "outputs": []
    },
    {
      "cell_type": "code",
      "source": [
        "pdf_file_list = [target_folder + i for i in os.listdir(target_folder)]\n",
        "pdf_file_list"
      ],
      "metadata": {
        "id": "lsHwViSQY8Mo"
      },
      "execution_count": null,
      "outputs": []
    },
    {
      "cell_type": "markdown",
      "source": [
        "## *pytesseract*"
      ],
      "metadata": {
        "id": "UF2OJjxIj5pk"
      }
    },
    {
      "cell_type": "code",
      "source": [
        "!pip install pytesseract\n",
        "!pip install pdf2image\n",
        "!apt-get install poppler-utils\n",
        "!apt-get install tesseract-ocr"
      ],
      "metadata": {
        "id": "kq8L8bi_kJQt"
      },
      "execution_count": null,
      "outputs": []
    },
    {
      "cell_type": "code",
      "source": [
        "import pytesseract"
      ],
      "metadata": {
        "id": "iOmdz_4Bk1uP"
      },
      "execution_count": null,
      "outputs": []
    },
    {
      "cell_type": "code",
      "source": [
        "for img in file_list:\n",
        "    img_path = img_folder + img\n",
        "    pdf_path = target_folder + img[:-4] + '.pdf'\n",
        "\n",
        "    pdf = pytesseract.image_to_pdf_or_hocr(img_path, extension='pdf', lang='rus+eng')\n",
        "\n",
        "    with open(pdf_path, 'w+b') as f:\n",
        "        f.write(pdf) # pdf type is bytes by default"
      ],
      "metadata": {
        "id": "3deUka2Akcar"
      },
      "execution_count": null,
      "outputs": []
    },
    {
      "cell_type": "markdown",
      "source": [
        "# **table recognition .PDF (pdfplumber, PyMuPDF, tabula, camelot, PyPDF2, pypdf)**\n",
        "> Результаты для конвертации .png в .pdf через **pytesseract**. По другим методам не находит текста в файле.\n",
        "\n",
        "> **Библиотеки:** pdfplumber, PyMuPDF, tabula, camelot, PyPDF2, pypdf.\n",
        "\n",
        "> **Результаты**:\n",
        "* Из-за низкого качества преобразования файлов через **pytesseract**, не получилось нормально распознать таблицы.\n",
        "* Лучше всего работает библиотека ***tabula***, из которой можно попробовать вытащить готовые таблицы, если такие были найдены.\n",
        "* Такой метод, возможно, подойдёт если получится добится хорошего распознования текста с помощью **pytesseract** или других библиотек, которые способны сохранять изображения в .pdf с сохранением текста в файле."
      ],
      "metadata": {
        "id": "TQTiwO8yQaJy"
      }
    },
    {
      "cell_type": "markdown",
      "source": [
        "## *pdfplumber*"
      ],
      "metadata": {
        "id": "caI_KzpbQd2m"
      }
    },
    {
      "cell_type": "code",
      "source": [
        "%%capture\n",
        "pip install pdfplumber"
      ],
      "metadata": {
        "id": "65wWt7MRQBvf"
      },
      "execution_count": null,
      "outputs": []
    },
    {
      "cell_type": "code",
      "source": [
        "import pdfplumber\n",
        "\n",
        "for pdf_path in pdf_file_list:\n",
        "    with pdfplumber.open(pdf_path) as pdf:\n",
        "        first_page = pdf.pages[0]\n",
        "        print(f'file: {pdf_path}')\n",
        "        print('types:')\n",
        "        print(f'\\t objects:\\t{first_page.objects}')\n",
        "        print(f'\\t chars: \\t{first_page.chars}')\n",
        "        print(f'\\t lines: \\t{first_page.lines}')\n",
        "        print(f'\\t rects: \\t{first_page.rects}')\n",
        "        print(f'\\t curves:\\t{first_page.curves}')\n",
        "        print(f'\\t images:\\t{first_page.images}')\n",
        "        print(pdf.metadata)\n",
        "        print(first_page.annots)\n",
        "        print(first_page.bbox)\n",
        "        print(first_page.cached_properties)\n",
        "        print(first_page.chars)\n",
        "        print(first_page.extract_text())\n",
        "        print(first_page.extract_table())\n",
        "        print(first_page.find_table(table_settings={}))\n",
        "        print()\n",
        "        print('-'*100)"
      ],
      "metadata": {
        "id": "2ZW3h1ruQu-P"
      },
      "execution_count": null,
      "outputs": []
    },
    {
      "cell_type": "markdown",
      "source": [
        "## *PyMuPDF*"
      ],
      "metadata": {
        "id": "4RWzmtrKUaYW"
      }
    },
    {
      "cell_type": "code",
      "source": [
        "pip install PyMuPDF"
      ],
      "metadata": {
        "id": "wtw6ZTItUbNm"
      },
      "execution_count": null,
      "outputs": []
    },
    {
      "cell_type": "code",
      "source": [
        "import fitz\n",
        "\n",
        "for pdf_path in pdf_file_list:\n",
        "    print(f'file: {pdf_path}')\n",
        "    doc = fitz.open(pdf_path)\n",
        "    print(doc.metadata)\n",
        "    print(doc.get_toc())\n",
        "    page = doc.load_page(0)\n",
        "\n",
        "    text = page.get_text()\n",
        "    areas = page.search_for(\"mupdf\")\n",
        "    print(text)\n",
        "    print(areas)\n",
        "    print()\n",
        "    print('-'*100)"
      ],
      "metadata": {
        "id": "dVJvKzh9Utoo"
      },
      "execution_count": null,
      "outputs": []
    },
    {
      "cell_type": "markdown",
      "source": [
        "## *tabula*\n",
        "> Лучше всего находит и составляет таблицы"
      ],
      "metadata": {
        "id": "dVuUnEPYabQ4"
      }
    },
    {
      "cell_type": "code",
      "source": [
        "!pip install -q tabula-py"
      ],
      "metadata": {
        "id": "s-kT9Pwnajkc"
      },
      "execution_count": null,
      "outputs": []
    },
    {
      "cell_type": "code",
      "source": [
        "import tabula"
      ],
      "metadata": {
        "id": "j01A7kZWaj1i"
      },
      "execution_count": null,
      "outputs": []
    },
    {
      "cell_type": "code",
      "source": [
        "for pdf_path in pdf_file_list:\n",
        "    print(f'file: {pdf_path}')\n",
        "    dfs = tabula.read_pdf(pdf_path, stream=True, pages=1)\n",
        "\n",
        "    print(len(dfs))\n",
        "    try:    print(dfs[0])\n",
        "    except: pass\n",
        "\n",
        "    print()\n",
        "    print('-'*100)"
      ],
      "metadata": {
        "id": "KwdFfLswaso-"
      },
      "execution_count": null,
      "outputs": []
    },
    {
      "cell_type": "markdown",
      "source": [
        "## *camelot*\n",
        "> Не заработал"
      ],
      "metadata": {
        "id": "JBVHnY-VbzFf"
      }
    },
    {
      "cell_type": "code",
      "source": [
        "!pip uninstall camelot\n",
        "!pip uninstall camelot-py\n",
        "!pip install camelot-py[cv]"
      ],
      "metadata": {
        "id": "LmBLPmYUcjHL"
      },
      "execution_count": null,
      "outputs": []
    },
    {
      "cell_type": "code",
      "source": [
        "!pip uninstall PyPDF2 -y\n",
        "!pip install 'PyPDF2<3.0'"
      ],
      "metadata": {
        "id": "hv0kn-apebSv"
      },
      "execution_count": null,
      "outputs": []
    },
    {
      "cell_type": "code",
      "source": [
        "!pip install --upgrade PyPDF2==2.12.1"
      ],
      "metadata": {
        "id": "ud44DewAfL7U"
      },
      "execution_count": null,
      "outputs": []
    },
    {
      "cell_type": "code",
      "source": [
        "import camelot\n",
        "\n",
        "for pdf_path in pdf_file_list:\n",
        "    print(f'file: {pdf_path}')\n",
        "    tables = camelot.read_pdf(pdf_path)\n",
        "    print(tables)\n",
        "    try:    print(tables[0].parsing_report)\n",
        "    except: pass\n",
        "\n",
        "    print()\n",
        "    print('-'*100)"
      ],
      "metadata": {
        "id": "u93CNefUbzdr"
      },
      "execution_count": null,
      "outputs": []
    },
    {
      "cell_type": "markdown",
      "source": [
        "## *PyPDF2*"
      ],
      "metadata": {
        "id": "dEakP2TSgR5f"
      }
    },
    {
      "cell_type": "code",
      "source": [
        "!pip install PyPDF2"
      ],
      "metadata": {
        "id": "Hc0EqXMdgcu6"
      },
      "execution_count": null,
      "outputs": []
    },
    {
      "cell_type": "code",
      "source": [
        "!pip install --upgrade PyPDF2==2.12.1"
      ],
      "metadata": {
        "id": "5exjY_PDgu1a"
      },
      "execution_count": null,
      "outputs": []
    },
    {
      "cell_type": "code",
      "source": [
        "from PyPDF2 import PdfReader\n",
        "\n",
        "for pdf_path in pdf_file_list:\n",
        "    print(f'file: {pdf_path}')\n",
        "    reader = PdfReader(pdf_path)\n",
        "    print(len(reader.pages))\n",
        "    page = reader.pages[0]\n",
        "    print(reader.pages[0])\n",
        "    print('text:\\t',page.extract_text())\n",
        "\n",
        "    print()\n",
        "    print('-'*100)"
      ],
      "metadata": {
        "id": "NClBNhG7gRgN"
      },
      "execution_count": null,
      "outputs": []
    },
    {
      "cell_type": "markdown",
      "source": [
        "## *pypdf*"
      ],
      "metadata": {
        "id": "LWKAWuWhhTRI"
      }
    },
    {
      "cell_type": "code",
      "source": [
        "pip install pypdf"
      ],
      "metadata": {
        "id": "ZoHTe2fFhUo_"
      },
      "execution_count": null,
      "outputs": []
    },
    {
      "cell_type": "code",
      "source": [
        "from pypdf import PdfReader\n",
        "\n",
        "for pdf_path in pdf_file_list:\n",
        "    print(f'file: {pdf_path}')\n",
        "    reader = PdfReader(pdf_path)\n",
        "    print(len(reader.pages))\n",
        "    page = reader.pages[0]\n",
        "    print(reader.pages[0])\n",
        "    print('text:\\t',page.extract_text())\n",
        "\n",
        "    print()\n",
        "    print('-'*100)"
      ],
      "metadata": {
        "id": "A88PpzGxhXC2"
      },
      "execution_count": null,
      "outputs": []
    },
    {
      "cell_type": "markdown",
      "source": [
        "# **table recognition .PNG (img2table)**\n",
        "> **Библиотека**: img2table.\n",
        "\n",
        "> **Проверка OCR**: EasyOCR, TesseractOCR, PaddleOCR, DocTR.\n",
        "\n",
        "> **Результаты**:\n",
        "* img2table неплохо находит боксы таблиц, особенно, если рамки таблиц ровные, без смещения.\n",
        "* Находит только таблицы, без лишнего текста.\n",
        "* Находит даже объеденённые ячейки.\n",
        "* Удобная функция вывода таблиц сразу в датафрейм.\n",
        "* Плохо работает, если таблицы с отсутствующими рамками, неявными ячейками в таблицах или с дефектами печати (не пропечатанными линиями/текстом).\n",
        "* Дополнительные настройки библиотеки img2table, а именно borderless_tables (нахождение таблиц без рамок) и implicit_rows (неявные строки в таблицах) не сработали на нашем датасете.\n",
        "* Иногда распознаёт 2 столбца как один (чаще всего \"Ед. Изм\" и \"Кол-во\"), и/или объеденяет их значения.\n",
        "* Лучше всего распознают текст **EasyOCR** и **TesseractOCR**. Можно попробовать взять настройки предобработки изображений для улучшения результатов распознания текста.\n",
        "* Достаточно медленная скорость работы. Время на обработки одного изображения (нахождение таблиц и распознание текста в них):\n",
        "* * **EasyOCR**: 1 мин. 20 сек.\n",
        "* * **TesseractOCR**: 30 сек.\n",
        "* Можно вернутся к этой библиотеке, когда у нас будет дообученный OCR.\n",
        "\n"
      ],
      "metadata": {
        "id": "Ebe3vTtAr4gA"
      }
    },
    {
      "cell_type": "code",
      "source": [
        "!pip install img2table[paddle] -q\n",
        "!pip install img2table[easyocr] -q"
      ],
      "metadata": {
        "id": "KLV3MA1Hr_EX"
      },
      "execution_count": null,
      "outputs": []
    },
    {
      "cell_type": "code",
      "source": [
        "!pip install python-doctr -q\n",
        "!pip install \"python-doctr[tf]\" -q\n",
        "\n",
        "!pip install pytesseract -q\n",
        "!apt-get install tesseract-ocr -q\n",
        "!apt-get install tesseract-ocr-rus -q\n",
        "!apt-get install tesseract-ocr-kaz -q\n",
        "\n",
        "!pip install \"paddleocr>=2.0.1\" -q"
      ],
      "metadata": {
        "id": "ySMq5vVYEcLA"
      },
      "execution_count": null,
      "outputs": []
    },
    {
      "cell_type": "code",
      "source": [
        "from img2table.ocr import EasyOCR, TesseractOCR, PaddleOCR, DocTR\n",
        "from img2table.document import Image\n",
        "from IPython.display import display_html, display\n",
        "\n",
        "# Создание моделей OCR с настройками\n",
        "ocr = EasyOCR(lang=['ru',\"en\"])\n",
        "tesseract_ocr = TesseractOCR(lang=\"rus+eng+kaz\")\n",
        "paddle_ocr_cr = PaddleOCR(lang='cyrillic')\n",
        "paddle_ocr_en = PaddleOCR(lang=\"en\")\n",
        "doctr = DocTR(detect_language=True, kw={\"detect_orientation\": True})"
      ],
      "metadata": {
        "id": "XJ_oYB4wAcLJ"
      },
      "execution_count": null,
      "outputs": []
    },
    {
      "cell_type": "code",
      "source": [
        "# Фукция для вывода изображения с боксами\n",
        "def print_img_with_bboxes(image_path, extracted_tables, figsize=(12,8)):\n",
        "    table_img = cv2.imread(image_path)\n",
        "\n",
        "    for table in extracted_tables:\n",
        "        for row in table.content.values():\n",
        "            for cell in row:\n",
        "                cv2.rectangle(table_img, (cell.bbox.x1, cell.bbox.y1), (cell.bbox.x2, cell.bbox.y2), (255, 0, 0), 2)\n",
        "\n",
        "    img = PILImage.fromarray(table_img)\n",
        "    img = img.convert('RGB')\n",
        "\n",
        "    plt.rcParams['figure.facecolor'] = 'lightgray'\n",
        "    plt.figure(figsize=figsize)\n",
        "    plt.imshow(img)\n",
        "    plt.title(image_path[-8:])\n",
        "    plt.axis('off')\n",
        "    plt.show()"
      ],
      "metadata": {
        "id": "oq28AqGzA_5H"
      },
      "execution_count": null,
      "outputs": []
    },
    {
      "cell_type": "code",
      "source": [
        "# Файл для проверки\n",
        "target_file = sample_dict['проверка таблиц'][0]"
      ],
      "metadata": {
        "id": "6vSPn8zrAXjJ"
      },
      "execution_count": null,
      "outputs": []
    },
    {
      "cell_type": "code",
      "source": [
        "# Открываем документ\n",
        "doc = Image(target_file)\n",
        "\n",
        "# Названия и модели OCR\n",
        "ocr_dict = {\n",
        "    'EasyOCR':ocr,\n",
        "    'tesseract':tesseract_ocr,\n",
        "    'paddle cyrillic': paddle_ocr_cr,\n",
        "    'paddle eng': paddle_ocr_en,\n",
        "    'doctr':doctr,\n",
        "}\n",
        "\n",
        "# Словарь для результатов OCR\n",
        "extracted_tables_dict = dict()\n",
        "\n",
        "# Вытаскиваем таблицы из изображения\n",
        "for ocr_name, ocr_m in ocr_dict.items():\n",
        "    print(ocr_name)\n",
        "    with timex():\n",
        "        extracted_tables = doc.extract_tables(ocr=ocr_m,\n",
        "                                            implicit_rows=False,\n",
        "                                            borderless_tables=False,\n",
        "                                            min_confidence=50)\n",
        "\n",
        "        extracted_tables_dict[ocr_name] = extracted_tables\n",
        "    print()"
      ],
      "metadata": {
        "id": "ILaA5lcewLlc"
      },
      "execution_count": null,
      "outputs": []
    },
    {
      "cell_type": "code",
      "source": [
        "print('{:*^165}'.format(' Bounding Boxes '))\n",
        "print_img_with_bboxes(target_file, extracted_tables_dict['EasyOCR'], (30,15))\n",
        "for ocr_name, ext in extracted_tables_dict.items():\n",
        "    print('-'*165)\n",
        "    print('{:-^165}'.format(' ' + ocr_name + ' '))\n",
        "    print('-'*165)\n",
        "    for idx, table in enumerate(ext):\n",
        "        display_html(table.html_repr(title=f\"Таблица {idx + 1}\"), raw=True)"
      ],
      "metadata": {
        "id": "pK3G__O2BS9y"
      },
      "execution_count": null,
      "outputs": []
    },
    {
      "cell_type": "markdown",
      "source": [
        "**Лучше всего распознают текст EasyOCR и tesseract**"
      ],
      "metadata": {
        "id": "LuQzbz6hTl_B"
      }
    },
    {
      "cell_type": "markdown",
      "source": [
        "## *confidence=50*"
      ],
      "metadata": {
        "id": "0yMFCdVlyC3z"
      }
    },
    {
      "cell_type": "code",
      "source": [
        "# Названия и модели OCR\n",
        "ocr_dict = {\n",
        "    'EasyOCR':ocr,\n",
        "    'tesseract':tesseract_ocr,\n",
        "}\n",
        "\n",
        "# Словарь для результатов OCR\n",
        "extracted_tables_files_dict = dict()\n",
        "\n",
        "for idx, target_file in enumerate(sample_dict['проверка таблиц'][1:30]):\n",
        "    extracted_tables_dict = dict()\n",
        "\n",
        "    # Открываем документ\n",
        "    doc = Image(target_file)\n",
        "\n",
        "    print(idx)\n",
        "\n",
        "    # Вытаскиваем таблицы из изображения\n",
        "    for ocr_name, ocr_m in ocr_dict.items():\n",
        "        print(ocr_name)\n",
        "        with timex():\n",
        "            extracted_tables = doc.extract_tables(ocr=ocr_m,\n",
        "                                                implicit_rows=False,\n",
        "                                                borderless_tables=False,\n",
        "                                                min_confidence=50)\n",
        "\n",
        "            extracted_tables_dict[ocr_name] = extracted_tables\n",
        "        print()\n",
        "\n",
        "    clear_output()\n",
        "\n",
        "    extracted_tables_files_dict[target_file[-8:]] = extracted_tables_dict"
      ],
      "metadata": {
        "id": "mqLni0kXTNb6"
      },
      "execution_count": null,
      "outputs": []
    },
    {
      "cell_type": "code",
      "source": [
        "for filename, extracted_tables_dict in extracted_tables_files_dict.items():\n",
        "    print('{:*^165}'.format(f' File {filename} | Bounding Boxes '))\n",
        "    print_img_with_bboxes(get_img_path(base_path, filename), extracted_tables_dict['EasyOCR'], (30,15))\n",
        "    for ocr_name, ext in extracted_tables_dict.items():\n",
        "        print('-'*165)\n",
        "        print('{:-^165}'.format(' ' + ocr_name + ' '))\n",
        "        print('-'*165)\n",
        "        for idx, table in enumerate(ext):\n",
        "            display_html(table.html_repr(title=f\"Таблица {idx + 1}\"), raw=True)"
      ],
      "metadata": {
        "id": "nIqNHV_TXPoS"
      },
      "execution_count": null,
      "outputs": []
    },
    {
      "cell_type": "code",
      "source": [
        "# Названия и модели OCR\n",
        "ocr_dict = {\n",
        "    'EasyOCR':EasyOCR(lang=['ru',\"en\"]),\n",
        "    'tesseract':TesseractOCR(lang=\"rus+eng+kaz\"),\n",
        "}\n",
        "\n",
        "# Словарь для результатов OCR\n",
        "extracted_tables_files_dict = dict()\n",
        "\n",
        "for idx, target_file in enumerate(sample_dict['нестандартная нижняя таблица'][:10]):\n",
        "    extracted_tables_dict = dict()\n",
        "\n",
        "    # Открываем документ\n",
        "    doc = Image(target_file)\n",
        "\n",
        "    print(idx)\n",
        "\n",
        "    # Вытаскиваем таблицы из изображения\n",
        "    for ocr_name, ocr_m in ocr_dict.items():\n",
        "        print(ocr_name)\n",
        "        with timex():\n",
        "            extracted_tables = doc.extract_tables(ocr=ocr_m,\n",
        "                                                implicit_rows=False,\n",
        "                                                borderless_tables=False,\n",
        "                                                min_confidence=50)\n",
        "\n",
        "            extracted_tables_dict[ocr_name] = extracted_tables\n",
        "        print()\n",
        "\n",
        "    clear_output()\n",
        "\n",
        "    extracted_tables_files_dict[target_file[-8:]] = extracted_tables_dict"
      ],
      "metadata": {
        "id": "SwjFaHPPoHmu"
      },
      "execution_count": null,
      "outputs": []
    },
    {
      "cell_type": "code",
      "source": [
        "for filename, extracted_tables_dict in extracted_tables_files_dict.items():\n",
        "    print('{:*^165}'.format(f' File {filename} | Bounding Boxes '))\n",
        "    print_img_with_bboxes(get_img_path(base_path, filename), extracted_tables_dict['EasyOCR'], (30,15))\n",
        "    for ocr_name, ext in extracted_tables_dict.items():\n",
        "        print('-'*165)\n",
        "        print('{:-^165}'.format(' ' + ocr_name + ' '))\n",
        "        print('-'*165)\n",
        "        for idx, table in enumerate(ext):\n",
        "            display_html(table.html_repr(title=f\"Таблица {idx + 1}\"), raw=True)"
      ],
      "metadata": {
        "id": "tcwD2_mmoWTj"
      },
      "execution_count": null,
      "outputs": []
    },
    {
      "cell_type": "markdown",
      "source": [
        "## *borderless_tables, confidence=50*"
      ],
      "metadata": {
        "id": "5MQfoW6y7P69"
      }
    },
    {
      "cell_type": "code",
      "source": [
        "# выборка примеров\n",
        "samples = []\n",
        "for j in [sample_dict[i][10:13] for i in sample_dict.keys()]:\n",
        "    for k in j:\n",
        "        samples.append(k)\n",
        "\n",
        "# Названия и модели OCR\n",
        "ocr_dict = {\n",
        "    'EasyOCR':EasyOCR(lang=['ru',\"en\"]),\n",
        "    'tesseract':TesseractOCR(lang=\"rus+eng+kaz\"),\n",
        "}\n",
        "\n",
        "# Словарь для результатов OCR\n",
        "extracted_tables_files_dict = dict()\n",
        "\n",
        "for idx, target_file in enumerate(samples):\n",
        "    extracted_tables_dict = dict()\n",
        "\n",
        "    # Открываем документ\n",
        "    doc = Image(target_file)\n",
        "\n",
        "    print(idx)\n",
        "\n",
        "    # Вытаскиваем таблицы из изображения\n",
        "    for ocr_name, ocr_m in ocr_dict.items():\n",
        "        print(ocr_name)\n",
        "        with timex():\n",
        "            extracted_tables = doc.extract_tables(ocr=ocr_m,\n",
        "                                                implicit_rows=False,\n",
        "                                                borderless_tables=True,\n",
        "                                                min_confidence=50)\n",
        "\n",
        "            extracted_tables_dict[ocr_name] = extracted_tables\n",
        "        print()\n",
        "\n",
        "    clear_output()\n",
        "\n",
        "    extracted_tables_files_dict[target_file[-8:]] = extracted_tables_dict\n",
        "\n",
        "clear_output()\n",
        "\n",
        "# Печатаем\n",
        "for filename, extracted_tables_dict in extracted_tables_files_dict.items():\n",
        "    print('{:*^165}'.format(f' File {filename} | Bounding Boxes '))\n",
        "    print_img_with_bboxes(get_img_path(base_path, filename), extracted_tables_dict['EasyOCR'], (30,15))\n",
        "    for ocr_name, ext in extracted_tables_dict.items():\n",
        "        print('-'*165)\n",
        "        print('{:-^165}'.format(' ' + ocr_name + ' '))\n",
        "        print('-'*165)\n",
        "        for idx, table in enumerate(ext):\n",
        "            display_html(table.html_repr(title=f\"Таблица {idx + 1}\"), raw=True)"
      ],
      "metadata": {
        "id": "8JrJCd_l7W31"
      },
      "execution_count": null,
      "outputs": []
    },
    {
      "cell_type": "markdown",
      "source": [
        "## *borderless_tables, implicit_rows, confidence=25*"
      ],
      "metadata": {
        "id": "pKp8_CSU1IXg"
      }
    },
    {
      "cell_type": "code",
      "source": [
        "# выборка примеров\n",
        "samples = []\n",
        "for j in [sample_dict[i][10:13] for i in sample_dict.keys()]:\n",
        "    for k in j:\n",
        "        samples.append(k)\n",
        "\n",
        "# Названия и модели OCR\n",
        "ocr_dict = {\n",
        "    'EasyOCR':EasyOCR(lang=['ru',\"en\"]),\n",
        "    'tesseract':TesseractOCR(lang=\"rus+eng+kaz\"),\n",
        "}\n",
        "\n",
        "# Словарь для результатов OCR\n",
        "extracted_tables_files_dict = dict()\n",
        "\n",
        "for idx, target_file in enumerate(samples):\n",
        "    extracted_tables_dict = dict()\n",
        "\n",
        "    # Открываем документ\n",
        "    doc = Image(target_file)\n",
        "\n",
        "    print(idx)\n",
        "\n",
        "    # Вытаскиваем таблицы из изображения\n",
        "    for ocr_name, ocr_m in ocr_dict.items():\n",
        "        print(ocr_name)\n",
        "        with timex():\n",
        "            extracted_tables = doc.extract_tables(ocr=ocr_m,\n",
        "                                                implicit_rows=True,\n",
        "                                                borderless_tables=True,\n",
        "                                                min_confidence=25)\n",
        "\n",
        "            extracted_tables_dict[ocr_name] = extracted_tables\n",
        "        print()\n",
        "\n",
        "    clear_output()\n",
        "\n",
        "    extracted_tables_files_dict[target_file[-8:]] = extracted_tables_dict\n",
        "\n",
        "clear_output()\n",
        "\n",
        "# Печатаем\n",
        "for filename, extracted_tables_dict in extracted_tables_files_dict.items():\n",
        "    print('{:*^165}'.format(f' File {filename} | Bounding Boxes '))\n",
        "    print_img_with_bboxes(get_img_path(base_path, filename), extracted_tables_dict['EasyOCR'], (30,15))\n",
        "    for ocr_name, ext in extracted_tables_dict.items():\n",
        "        print('-'*165)\n",
        "        print('{:-^165}'.format(' ' + ocr_name + ' '))\n",
        "        print('-'*165)\n",
        "        for idx, table in enumerate(ext):\n",
        "            display_html(table.html_repr(title=f\"Таблица {idx + 1}\"), raw=True)"
      ],
      "metadata": {
        "id": "kvGHeGdY3Brf"
      },
      "execution_count": null,
      "outputs": []
    },
    {
      "cell_type": "markdown",
      "source": [
        "## *confidence=10*"
      ],
      "metadata": {
        "id": "ZRGQCbgg70-u"
      }
    },
    {
      "cell_type": "code",
      "source": [
        "# выборка примеров\n",
        "samples = []\n",
        "for j in [sample_dict[i][10:13] for i in sample_dict.keys()]:\n",
        "    for k in j:\n",
        "        samples.append(k)\n",
        "\n",
        "# Названия и модели OCR\n",
        "ocr_dict = {\n",
        "    'EasyOCR':EasyOCR(lang=['ru',\"en\"]),\n",
        "    'tesseract':TesseractOCR(lang=\"rus+eng+kaz\"),\n",
        "}\n",
        "\n",
        "# Словарь для результатов OCR\n",
        "extracted_tables_files_dict = dict()\n",
        "\n",
        "for idx, target_file in enumerate(samples):\n",
        "    extracted_tables_dict = dict()\n",
        "\n",
        "    # Открываем документ\n",
        "    doc = Image(target_file)\n",
        "\n",
        "    print(idx)\n",
        "\n",
        "    # Вытаскиваем таблицы из изображения\n",
        "    for ocr_name, ocr_m in ocr_dict.items():\n",
        "        print(ocr_name)\n",
        "        with timex():\n",
        "            extracted_tables = doc.extract_tables(ocr=ocr_m,\n",
        "                                                implicit_rows=False,\n",
        "                                                borderless_tables=False,\n",
        "                                                min_confidence=10)\n",
        "\n",
        "            extracted_tables_dict[ocr_name] = extracted_tables\n",
        "        print()\n",
        "\n",
        "    clear_output()\n",
        "\n",
        "    extracted_tables_files_dict[target_file[-8:]] = extracted_tables_dict\n",
        "\n",
        "clear_output()\n",
        "\n",
        "# Печатаем\n",
        "for filename, extracted_tables_dict in extracted_tables_files_dict.items():\n",
        "    print('{:*^165}'.format(f' File {filename} | Bounding Boxes '))\n",
        "    print_img_with_bboxes(get_img_path(base_path, filename), extracted_tables_dict['EasyOCR'], (30,15))\n",
        "    for ocr_name, ext in extracted_tables_dict.items():\n",
        "        print('-'*165)\n",
        "        print('{:-^165}'.format(' ' + ocr_name + ' '))\n",
        "        print('-'*165)\n",
        "        for idx, table in enumerate(ext):\n",
        "            display_html(table.html_repr(title=f\"Таблица {idx + 1}\"), raw=True)"
      ],
      "metadata": {
        "id": "njaufmDO7zIJ"
      },
      "execution_count": null,
      "outputs": []
    },
    {
      "cell_type": "markdown",
      "source": [
        "## *confidence=5, borderless_tables*"
      ],
      "metadata": {
        "id": "H8dIkIRo8A-c"
      }
    },
    {
      "cell_type": "code",
      "source": [
        "# выборка примеров\n",
        "samples = []\n",
        "for j in [sample_dict[i][10:13] for i in sample_dict.keys()]:\n",
        "    for k in j:\n",
        "        samples.append(k)\n",
        "\n",
        "# Названия и модели OCR\n",
        "ocr_dict = {\n",
        "    'EasyOCR':EasyOCR(lang=['ru',\"en\"]),\n",
        "    'tesseract':TesseractOCR(lang=\"rus+eng+kaz\"),\n",
        "}\n",
        "\n",
        "# Словарь для результатов OCR\n",
        "extracted_tables_files_dict = dict()\n",
        "\n",
        "for idx, target_file in enumerate(samples):\n",
        "    extracted_tables_dict = dict()\n",
        "\n",
        "    # Открываем документ\n",
        "    doc = Image(target_file)\n",
        "\n",
        "    print(idx)\n",
        "\n",
        "    # Вытаскиваем таблицы из изображения\n",
        "    for ocr_name, ocr_m in ocr_dict.items():\n",
        "        print(ocr_name)\n",
        "        with timex():\n",
        "            extracted_tables = doc.extract_tables(ocr=ocr_m,\n",
        "                                                implicit_rows=False,\n",
        "                                                borderless_tables=True,\n",
        "                                                min_confidence=5)\n",
        "\n",
        "            extracted_tables_dict[ocr_name] = extracted_tables\n",
        "        print()\n",
        "\n",
        "    clear_output()\n",
        "\n",
        "    extracted_tables_files_dict[target_file[-8:]] = extracted_tables_dict\n",
        "\n",
        "clear_output()\n",
        "\n",
        "# Печатаем\n",
        "for filename, extracted_tables_dict in extracted_tables_files_dict.items():\n",
        "    print('{:*^165}'.format(f' File {filename} | Bounding Boxes '))\n",
        "    print_img_with_bboxes(get_img_path(base_path, filename), extracted_tables_dict['EasyOCR'], (30,15))\n",
        "    for ocr_name, ext in extracted_tables_dict.items():\n",
        "        print('-'*165)\n",
        "        print('{:-^165}'.format(' ' + ocr_name + ' '))\n",
        "        print('-'*165)\n",
        "        for idx, table in enumerate(ext):\n",
        "            display_html(table.html_repr(title=f\"Таблица {idx + 1}\"), raw=True)"
      ],
      "metadata": {
        "id": "mj-MUjwe7-DO"
      },
      "execution_count": null,
      "outputs": []
    },
    {
      "cell_type": "markdown",
      "source": [
        "# **table recognition .PNG (PaddleOCR)**\n",
        "> **Библиотека**: PaddleOCR.\n",
        "\n",
        "> **Проверка OCR**: PaddleOCR.\n",
        "\n",
        "> **Результаты**:\n",
        "* Находит боксы, но не везде, и не очень точно на наших данных;\n",
        "* Путается в типах распознанных боксах (text, title, table, table_caption, reference);\n",
        "* Ограниченное количество языков для функции распознавания таблиц (en - английский, ch - китайский), и отстутвие возможности распознавать несколько языков за раз.\n",
        "* Есть возможность дообучения модели нахождения боксов.\n",
        "* Вывод таблиц в html, который можно конвертировать в датфрейм.\n",
        "* Если дообучить модель распознавания боксов + использовать дообученный OCR, то может нам подойти. Или можно попытатся вытащить код распознания таблиц и использовать только его.\n",
        "* Время на обработку одного изображения (нахождение таблиц и распознание текста в них) 30-50 секунд, в зависимости от количества найденных боксов.\n",
        "\n"
      ],
      "metadata": {
        "id": "1NmjeHuexoTp"
      }
    },
    {
      "cell_type": "code",
      "source": [
        "# !pip install \"paddleocr>=2.6.0.3\""
      ],
      "metadata": {
        "id": "iS_V4VpUzd2C"
      },
      "execution_count": null,
      "outputs": []
    },
    {
      "cell_type": "code",
      "source": [
        "!pip install paddlepaddle -i https://mirror.baidu.com/pypi/simple"
      ],
      "metadata": {
        "id": "htKp7oxYyyNk"
      },
      "execution_count": null,
      "outputs": []
    },
    {
      "cell_type": "code",
      "source": [
        "import os\n",
        "import cv2\n",
        "from paddleocr import PPStructure,draw_structure_result,save_structure_res\n",
        "from PIL import Image\n",
        "from IPython.display import display_html, display"
      ],
      "metadata": {
        "id": "g9vKU_0WywIC"
      },
      "execution_count": null,
      "outputs": []
    },
    {
      "cell_type": "code",
      "source": [
        "# Обнаружение таблиц\n",
        "table_engine = PPStructure(layout=True, show_log=True)\n",
        "\n",
        "save_folder = '/content/output'\n",
        "img_path = sample_dict['проверка таблиц'][0]\n",
        "img = cv2.imread(img_path)\n",
        "result = table_engine(img)\n",
        "save_structure_res(result, save_folder, os.path.basename(img_path).split('.')[0])\n",
        "\n",
        "for line in result:\n",
        "    line.pop('img')\n",
        "    print(line)"
      ],
      "metadata": {
        "id": "fFjYI2lH7T0j"
      },
      "execution_count": null,
      "outputs": []
    },
    {
      "cell_type": "code",
      "source": [
        "# Отображение результатов\n",
        "result_path = '/content/result.jpg'\n",
        "\n",
        "font_path = '/content/doc_fonts_simfang.ttf'\n",
        "image = Image.open(img_path).convert('RGB')\n",
        "im_show = draw_structure_result(image, result, font_path)\n",
        "im_show = Image.fromarray(im_show)\n",
        "im_show.save(result_path)"
      ],
      "metadata": {
        "id": "1pPaqSEH1DqS"
      },
      "execution_count": null,
      "outputs": []
    },
    {
      "cell_type": "code",
      "source": [
        "print_img(result_path, figsize=(32,32))"
      ],
      "metadata": {
        "id": "J402x_1Q4cpe"
      },
      "execution_count": null,
      "outputs": []
    },
    {
      "cell_type": "markdown",
      "source": [
        "### Больше примеров с выводом распознанных таблиц.\n",
        "> *На изображении не всегда нарисована распознанная таблица.*"
      ],
      "metadata": {
        "id": "5P-l9aZp68Cu"
      }
    },
    {
      "cell_type": "code",
      "source": [
        "# Обнаружение таблиц\n",
        "table_engine = PPStructure(layout=True, show_log=False)\n",
        "\n",
        "save_folder = '/content/output'\n",
        "\n",
        "for i in range(1,30):\n",
        "    img_path = sample_dict['проверка таблиц'][i]\n",
        "    img = cv2.imread(img_path)\n",
        "    with timex():\n",
        "        result = table_engine(img)\n",
        "    save_structure_res(result, save_folder, os.path.basename(img_path).split('.')[0])\n",
        "\n",
        "    # Отображение результатов\n",
        "    result_path = '/content/result.jpg'\n",
        "\n",
        "    font_path = '/content/doc_fonts_simfang.ttf'\n",
        "    image = Image.open(img_path).convert('RGB')\n",
        "    im_show = draw_structure_result(image, result, font_path)\n",
        "    im_show = Image.fromarray(im_show)\n",
        "    im_show.save(result_path)\n",
        "\n",
        "    print_img(result_path, figsize=(32,32), title=img_path[-8:])\n",
        "\n",
        "    # Отображение значениий боксов\n",
        "    for line_i, line in enumerate(result):\n",
        "        line.pop('img')\n",
        "        print(line_i, '-', line)\n",
        "\n",
        "    # Отображение датафреймов, если они есть\n",
        "    for i, box_values in enumerate(result):\n",
        "        if 'html' in box_values['res']:\n",
        "            print('{:-^150}'.format(' Бокс №' + str(i) + ' '))\n",
        "            display_html(pd.read_html(box_values['res']['html'])[0])"
      ],
      "metadata": {
        "id": "tYRsXnzV655g"
      },
      "execution_count": null,
      "outputs": []
    },
    {
      "cell_type": "markdown",
      "source": [
        "# **table recognition (PNG, CascadeTabNet)**\n",
        "> **Результаты**: Не удолось запустить предобученную модель для распознования таблиц. Проблема с обновлёнными библиотеками. Пришлось находить нужные версии библиотек, т.к. за 2 года они успели обновится, а старые версии удалили, но с обновлением также удалили нужные функции для работы/проверки сети, из-за чего не удалось проверить модель."
      ],
      "metadata": {
        "id": "xx-M5YLu6W9U"
      }
    },
    {
      "cell_type": "code",
      "source": [
        "# # install dependencies: (use cu101 because colab has CUDA 10.1)\n",
        "# !pip install -U torch==1.5.1+cu101 torchvision==0.6.1+cu101 -f https://download.pytorch.org/whl/torch_stable.html\n",
        "\n",
        "# # install mmcv-full thus we could use CUDA operators\n",
        "# !pip install mmcv-full\n",
        "\n",
        "# # Install mmdetection\n",
        "# !rm -rf mmdetection\n",
        "# !git clone https://github.com/open-mmlab/mmdetection.git\n",
        "# %cd mmdetection\n",
        "\n",
        "# !pip install -e .\n",
        "\n",
        "# # install Pillow 7.0.0 back in order to avoid bug in colab\n",
        "# !pip install Pillow==7.0.0"
      ],
      "metadata": {
        "id": "Pv5F37ctm8kM"
      },
      "execution_count": null,
      "outputs": []
    },
    {
      "cell_type": "code",
      "source": [
        "!pip install torch torchvision torchaudio\n",
        "!pip install mmcv==2.1.0 -f https://download.openmmlab.com/mmcv/dist/cu118/torch2.1/index.html\n",
        "!pip install terminaltables\n",
        "\n",
        "# Install mmdetection\n",
        "!rm -rf mmdetection\n",
        "!git clone https://github.com/open-mmlab/mmdetection.git\n",
        "%cd mmdetection\n",
        "!pip install -e .\n",
        "%cd \"/content\"\n",
        "\n",
        "!pip install -r \"/content/mmdetection/requirements/optional.txt\"\n",
        "!python setup.py install\n",
        "!python setup.py develop\n",
        "!pip install -r {\"/content/mmdetection/requirements.txt\"}\n",
        "!pip install pillow"
      ],
      "metadata": {
        "id": "Ny9bKdRG3RTe"
      },
      "execution_count": null,
      "outputs": []
    },
    {
      "cell_type": "code",
      "source": [
        "!git clone https://github.com/DevashishPrasad/CascadeTabNet.git"
      ],
      "metadata": {
        "id": "xaZEW4g0Qzu3"
      },
      "execution_count": null,
      "outputs": []
    },
    {
      "cell_type": "code",
      "source": [
        "# Download the Pretrained Model\n",
        "!gdown \"https://drive.google.com/u/0/uc?id=1-QieHkR1Q7CXuBu4fp3rYrvDG9j26eFT\""
      ],
      "metadata": {
        "id": "CAvjpnUiQ1wi"
      },
      "execution_count": null,
      "outputs": []
    },
    {
      "cell_type": "code",
      "source": [
        "# Check Pytorch installation\n",
        "import torch, torchvision\n",
        "print(torch.__version__, torch.cuda.is_available())\n",
        "\n",
        "# Check MMDetection installation\n",
        "# import mmdet\n",
        "import mmdetection.mmdet as mmdet\n",
        "print(mmdet.__version__)\n",
        "\n",
        "# Check mmcv installation\n",
        "from mmcv.ops import get_compiling_cuda_version, get_compiler_version\n",
        "print(get_compiling_cuda_version())\n",
        "print(get_compiler_version())"
      ],
      "metadata": {
        "id": "d1JHqsPTn10Y"
      },
      "execution_count": null,
      "outputs": []
    },
    {
      "cell_type": "code",
      "source": [
        "from mmdet.apis import init_detector, inference_detector, show_result_pyplot"
      ],
      "metadata": {
        "id": "7U7uQki6lcGb"
      },
      "execution_count": null,
      "outputs": []
    },
    {
      "cell_type": "code",
      "source": [
        "from mmdet.apis import init_detector, inference_detector, show_result_pyplot\n",
        "import mmcv"
      ],
      "metadata": {
        "id": "Z9cTDGs2V3ig"
      },
      "execution_count": null,
      "outputs": []
    },
    {
      "cell_type": "code",
      "source": [
        "import mmcv"
      ],
      "metadata": {
        "id": "_ekY-FidqiAv"
      },
      "execution_count": null,
      "outputs": []
    },
    {
      "cell_type": "code",
      "source": [
        "# Load model\n",
        "config_file = '/content/CascadeTabNet/Config/cascade_mask_rcnn_hrnetv2p_w32_20e.py'\n",
        "checkpoint_file = '/content/epoch_36.pth'\n",
        "model = init_detector(config_file, checkpoint_file, device='cuda:0')\n",
        "\n",
        "# Test a single image\n",
        "img = \"/content/CascadeTabNet/Demo/demo.png\"\n",
        "\n",
        "# Run Inference\n",
        "result = inference_detector(model, img)\n",
        "\n",
        "# Visualization results\n",
        "show_result_pyplot(img, result,('Bordered', 'cell', 'Borderless'), score_thr=0.85)"
      ],
      "metadata": {
        "id": "KelE_Q6JVcYF"
      },
      "execution_count": null,
      "outputs": []
    }
  ]
}